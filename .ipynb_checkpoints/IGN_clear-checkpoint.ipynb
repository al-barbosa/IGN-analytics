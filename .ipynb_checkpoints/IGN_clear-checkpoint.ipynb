{
 "cells": [
  {
   "cell_type": "code",
   "execution_count": 1,
   "id": "c3cc4b94-3480-41e7-86d7-6f452f5e87f4",
   "metadata": {},
   "outputs": [],
   "source": [
    "import pandas as pd"
   ]
  },
  {
   "cell_type": "code",
   "execution_count": 2,
   "id": "2effe4dd-bee2-47cf-8e24-16435206278b",
   "metadata": {},
   "outputs": [
    {
     "data": {
      "text/html": [
       "<div>\n",
       "<style scoped>\n",
       "    .dataframe tbody tr th:only-of-type {\n",
       "        vertical-align: middle;\n",
       "    }\n",
       "\n",
       "    .dataframe tbody tr th {\n",
       "        vertical-align: top;\n",
       "    }\n",
       "\n",
       "    .dataframe thead th {\n",
       "        text-align: right;\n",
       "    }\n",
       "</style>\n",
       "<table border=\"1\" class=\"dataframe\">\n",
       "  <thead>\n",
       "    <tr style=\"text-align: right;\">\n",
       "      <th></th>\n",
       "      <th>0</th>\n",
       "    </tr>\n",
       "  </thead>\n",
       "  <tbody>\n",
       "    <tr>\n",
       "      <th>0</th>\n",
       "      <td>https://www.ign.com/games/magic-mayhem</td>\n",
       "    </tr>\n",
       "    <tr>\n",
       "      <th>1</th>\n",
       "      <td>https://www.ign.com/games/fishing-master-2007</td>\n",
       "    </tr>\n",
       "    <tr>\n",
       "      <th>2</th>\n",
       "      <td>https://www.ign.com/games/far-cry-2</td>\n",
       "    </tr>\n",
       "    <tr>\n",
       "      <th>3</th>\n",
       "      <td>https://www.ign.com/games/pro-18-world-tour-golf</td>\n",
       "    </tr>\n",
       "    <tr>\n",
       "      <th>4</th>\n",
       "      <td>https://www.ign.com/games/bust-a-groove</td>\n",
       "    </tr>\n",
       "  </tbody>\n",
       "</table>\n",
       "</div>"
      ],
      "text/plain": [
       "                                                  0\n",
       "0            https://www.ign.com/games/magic-mayhem\n",
       "1     https://www.ign.com/games/fishing-master-2007\n",
       "2               https://www.ign.com/games/far-cry-2\n",
       "3  https://www.ign.com/games/pro-18-world-tour-golf\n",
       "4           https://www.ign.com/games/bust-a-groove"
      ]
     },
     "execution_count": 2,
     "metadata": {},
     "output_type": "execute_result"
    }
   ],
   "source": [
    "dados = pd.read_csv('links')\n",
    "dados.drop('Unnamed: 0', axis=1, inplace=True)\n",
    "dados.head()"
   ]
  },
  {
   "cell_type": "code",
   "execution_count": 3,
   "id": "a2a901d5-dba8-4d5c-af19-ecf074ab99e0",
   "metadata": {},
   "outputs": [
    {
     "data": {
      "text/plain": [
       "(11365, 1)"
      ]
     },
     "execution_count": 3,
     "metadata": {},
     "output_type": "execute_result"
    }
   ],
   "source": [
    "dados.shape"
   ]
  },
  {
   "cell_type": "code",
   "execution_count": 4,
   "id": "137bdfd2-9f8f-43b9-82df-8f822dc0c8f6",
   "metadata": {},
   "outputs": [],
   "source": [
    "from urllib.request import urlopen\n",
    "from bs4 import BeautifulSoup\n",
    "from datetime import datetime\n",
    "import regex as re"
   ]
  },
  {
   "cell_type": "code",
   "execution_count": 5,
   "id": "896eba43-a03b-4549-9679-5718fdbe2e60",
   "metadata": {},
   "outputs": [],
   "source": [
    "mdc = 11360/10"
   ]
  },
  {
   "cell_type": "code",
   "execution_count": 6,
   "id": "9e47c13e-4bbd-4cf0-8cee-974683b0c7fd",
   "metadata": {},
   "outputs": [],
   "source": [
    "game_n = mdc*4"
   ]
  },
  {
   "cell_type": "code",
   "execution_count": 7,
   "id": "552244c7-604a-4da7-8786-997cefea0678",
   "metadata": {},
   "outputs": [
    {
     "data": {
      "text/plain": [
       "(11365, 1)"
      ]
     },
     "execution_count": 7,
     "metadata": {},
     "output_type": "execute_result"
    }
   ],
   "source": [
    "dados.shape"
   ]
  },
  {
   "cell_type": "code",
   "execution_count": 8,
   "id": "5d0cb34b-fdf8-4f92-b144-8e667de36827",
   "metadata": {},
   "outputs": [
    {
     "name": "stdout",
     "output_type": "stream",
     "text": [
      "https://www.ign.com/games/magic-mayhem\n",
      "https://www.ign.com/games/fishing-master-2007\n",
      "https://www.ign.com/games/far-cry-2\n",
      "https://www.ign.com/games/pro-18-world-tour-golf\n"
     ]
    }
   ],
   "source": [
    "for url in dados['0'][:4]:\n",
    "    print(url)"
   ]
  },
  {
   "cell_type": "code",
   "execution_count": 9,
   "id": "4bc2bb15-0be6-4c13-b22e-dc9873e8e8f3",
   "metadata": {},
   "outputs": [
    {
     "name": "stdout",
     "output_type": "stream",
     "text": [
      "https://www.ign.com/games/bust-a-groove\n",
      "https://www.ign.com/games/star-trek-away-team\n",
      "https://www.ign.com/games/destroy-all-humans-big-willy-unleashed\n"
     ]
    }
   ],
   "source": [
    "for url in dados['0'][4:7]:\n",
    "    print(url)"
   ]
  },
  {
   "cell_type": "code",
   "execution_count": 22,
   "id": "eda3357d-b1e9-4d73-a790-1bf729bce803",
   "metadata": {},
   "outputs": [
    {
     "data": {
      "text/plain": [
       "'Apr 27, 1998'"
      ]
     },
     "execution_count": 22,
     "metadata": {},
     "output_type": "execute_result"
    }
   ],
   "source": [
    "url = 'https://www.ign.com/games/bust-a-groove'\n",
    "response = urlopen(url)\n",
    "html = response.read()\n",
    "soup = BeautifulSoup(html, 'html.parser')\n",
    "soup.find('div', {'class': 'initial-release-info'}).findAll('div', {'class': 'jsx-1545499971'})[1].getText()"
   ]
  },
  {
   "cell_type": "code",
   "execution_count": 10,
   "id": "55378bce-7d0d-4932-beac-da6a139b1d90",
   "metadata": {},
   "outputs": [
    {
     "name": "stdout",
     "output_type": "stream",
     "text": [
      "40.0% complete\n"
     ]
    }
   ],
   "source": [
    "print('{}% complete'.format(game_n/(mdc*10)*100))"
   ]
  },
  {
   "cell_type": "code",
   "execution_count": 25,
   "id": "49ecbff9-9c7c-4cbd-8670-0465340d55da",
   "metadata": {
    "tags": []
   },
   "outputs": [
    {
     "ename": "AttributeError",
     "evalue": "'NoneType' object has no attribute 'findAll'",
     "output_type": "error",
     "traceback": [
      "\u001b[0;31m---------------------------------------------------------------------------\u001b[0m",
      "\u001b[0;31mAttributeError\u001b[0m                            Traceback (most recent call last)",
      "Input \u001b[0;32mIn [25]\u001b[0m, in \u001b[0;36m<cell line: 5>\u001b[0;34m()\u001b[0m\n\u001b[1;32m     52\u001b[0m     infos[\u001b[38;5;124m'\u001b[39m\u001b[38;5;124mfeatures\u001b[39m\u001b[38;5;124m'\u001b[39m] \u001b[38;5;241m=\u001b[39m \u001b[38;5;124m'\u001b[39m\u001b[38;5;124m'\u001b[39m\n\u001b[1;32m     54\u001b[0m \u001b[38;5;66;03m#try:\u001b[39;00m\n\u001b[0;32m---> 55\u001b[0m date \u001b[38;5;241m=\u001b[39m \u001b[43msoup\u001b[49m\u001b[38;5;241;43m.\u001b[39;49m\u001b[43mfind\u001b[49m\u001b[43m(\u001b[49m\u001b[38;5;124;43m'\u001b[39;49m\u001b[38;5;124;43mdiv\u001b[39;49m\u001b[38;5;124;43m'\u001b[39;49m\u001b[43m,\u001b[49m\u001b[43m \u001b[49m\u001b[43m{\u001b[49m\u001b[38;5;124;43m'\u001b[39;49m\u001b[38;5;124;43mclass\u001b[39;49m\u001b[38;5;124;43m'\u001b[39;49m\u001b[43m:\u001b[49m\u001b[43m \u001b[49m\u001b[38;5;124;43m'\u001b[39;49m\u001b[38;5;124;43minitial-release-info\u001b[39;49m\u001b[38;5;124;43m'\u001b[39;49m\u001b[43m}\u001b[49m\u001b[43m)\u001b[49m\u001b[38;5;241;43m.\u001b[39;49m\u001b[43mfindAll\u001b[49m(\u001b[38;5;124m'\u001b[39m\u001b[38;5;124mdiv\u001b[39m\u001b[38;5;124m'\u001b[39m, {\u001b[38;5;124m'\u001b[39m\u001b[38;5;124mclass\u001b[39m\u001b[38;5;124m'\u001b[39m: \u001b[38;5;124m'\u001b[39m\u001b[38;5;124mjsx-1545499971\u001b[39m\u001b[38;5;124m'\u001b[39m})[\u001b[38;5;241m1\u001b[39m]\u001b[38;5;241m.\u001b[39mgetText()\n\u001b[1;32m     56\u001b[0m infos[\u001b[38;5;124m'\u001b[39m\u001b[38;5;124mreleased_date\u001b[39m\u001b[38;5;124m'\u001b[39m] \u001b[38;5;241m=\u001b[39m datetime\u001b[38;5;241m.\u001b[39mstrptime(date, \u001b[38;5;124m'\u001b[39m\u001b[38;5;124m%\u001b[39m\u001b[38;5;124mb \u001b[39m\u001b[38;5;132;01m%d\u001b[39;00m\u001b[38;5;124m, \u001b[39m\u001b[38;5;124m%\u001b[39m\u001b[38;5;124mY\u001b[39m\u001b[38;5;124m'\u001b[39m)\n\u001b[1;32m     57\u001b[0m \u001b[38;5;66;03m#except:\u001b[39;00m\n\u001b[1;32m     58\u001b[0m \u001b[38;5;66;03m#    infos['released_date'] = ''\u001b[39;00m\n",
      "\u001b[0;31mAttributeError\u001b[0m: 'NoneType' object has no attribute 'findAll'"
     ]
    }
   ],
   "source": [
    "games = []\n",
    "\n",
    "games_n = 0\n",
    "\n",
    "for url in dados['0']:\n",
    "\n",
    "    infos = {}\n",
    "    \n",
    "    response = urlopen(url)\n",
    "    html = response.read()\n",
    "    soup = BeautifulSoup(html, 'html.parser')\n",
    "    \n",
    "    try:\n",
    "        infos['game'] = soup.find('h1', {'class': 'display-title'}).getText()\n",
    "    except:\n",
    "        infos['game'] = ''\n",
    "\n",
    "    try:\n",
    "        all_devs = soup.find('div', {'class': 'developers-info'}).findAll('a')\n",
    "        devs = []\n",
    "        for dev in all_devs:\n",
    "            devs.append(dev.getText())\n",
    "        infos['developers'] = devs\n",
    "    except:\n",
    "        infos['developers'] = ''\n",
    "    \n",
    "    try:\n",
    "        all_plubs = soup.find('div', {'class': 'publishers-info'}).findAll('a')\n",
    "        plubs = []\n",
    "        for plub in all_plubs:\n",
    "            plubs.append(plub.getText())\n",
    "        infos['publishers'] = plubs\n",
    "    except:\n",
    "        infos['publishers'] = ''\n",
    "        \n",
    "    try:\n",
    "        frans = soup.find('div', {'class': 'franchises-info'}).findAll('a')\n",
    "        franchises = []\n",
    "        for fran in frans:\n",
    "            franchises.append(fran.getText())            \n",
    "        infos['franchises'] = franchises\n",
    "    except:\n",
    "        infos['franchises'] = ''\n",
    "        \n",
    "    try:\n",
    "        feats = soup.find('div', {'class': 'features-info'}).findAll('a')\n",
    "        features = []\n",
    "        for feat in feats:\n",
    "            features.append(feat.getText())\n",
    "        infos['features'] = features\n",
    "    except:\n",
    "        infos['features'] = ''\n",
    "\n",
    "    try:\n",
    "    date = soup.find('div', {'class': 'initial-release-info'}).findAll('div', {'class': 'jsx-1545499971'})[1].getText()\n",
    "    infos['released_date'] = datetime.strptime(date, '%b %d, %Y')\n",
    "    except:\n",
    "        infos['released_date'] = ''\n",
    "    \n",
    "    try:\n",
    "        all_plats = soup.find('div', {'class': 'platforms-info'}).findAll('title')\n",
    "        platforms = []\n",
    "        for plat in all_plats:\n",
    "            platforms.append(plat.getText())\n",
    "        infos['platform'] = platforms\n",
    "    except:\n",
    "        infos['platform'] = ''\n",
    "    \n",
    "    try:\n",
    "        all_genres = soup.find('div', {'class': 'genres-info'}).findAll('a')\n",
    "        genres = []\n",
    "        for gens in all_genres:\n",
    "            genres.append(gens.getText())\n",
    "        infos['genres'] = genres\n",
    "    except:\n",
    "        infos['genres'] = ''\n",
    "    \n",
    "    try:\n",
    "        infos['score'] = float(soup.find('figure', {'class': 'review-score'}).find('figcaption').getText())\n",
    "    except:\n",
    "        infos['score'] = ''\n",
    "    \n",
    "    try:\n",
    "        infos['score_text'] = soup.find('div', {'class': 'score-text'}).getText()\n",
    "    except:\n",
    "        infos['score_text'] = ''\n",
    "        \n",
    "    try:\n",
    "        infos['esrb'] = re.sub('ESRB: ', '', soup.find('svg', {'class': 'jsx-2211565535'}).getText())\n",
    "    except:\n",
    "        infos['esrb'] = ''\n",
    "        \n",
    "    try:\n",
    "        infos['esrb_info'] = soup.findAll('div', {'class': 'content-rating-info'})[1].getText().split(', ')\n",
    "    except:\n",
    "        infos['esrb_info'] = ''\n",
    "\n",
    "    games.append(infos)\n",
    "    \n",
    "    games_n += 1\n",
    "    if games_n%mdc == 0:\n",
    "        print('{}% complete'.format(game_n/(mdc*10)*100))"
   ]
  },
  {
   "cell_type": "code",
   "execution_count": 68,
   "id": "40f6ae3a-ffab-4657-b057-b91157537706",
   "metadata": {},
   "outputs": [
    {
     "data": {
      "text/plain": [
       "11362"
      ]
     },
     "execution_count": 68,
     "metadata": {},
     "output_type": "execute_result"
    }
   ],
   "source": [
    "len(games)"
   ]
  },
  {
   "cell_type": "code",
   "execution_count": 74,
   "id": "9b562984-1e9e-4371-888f-186067951ea6",
   "metadata": {},
   "outputs": [
    {
     "data": {
      "text/plain": [
       "{'game': 'MadWorld',\n",
       " 'developers': ['PlatinumGames'],\n",
       " 'publishers': ['SEGA'],\n",
       " 'franchises': ['MadWorld'],\n",
       " 'features': '',\n",
       " 'released_date': datetime.datetime(2009, 3, 10, 0, 0),\n",
       " 'platform': ['Wii'],\n",
       " 'genres': ['Action'],\n",
       " 'score': 8.7,\n",
       " 'score_text': 'great',\n",
       " 'esrb': 'Mature',\n",
       " 'esrb_info': ['Mature Humor',\n",
       "  'Strong Language',\n",
       "  'Sexual Themes',\n",
       "  'Blood and Gore',\n",
       "  'Intense Violence',\n",
       "  'Drug Reference']}"
      ]
     },
     "execution_count": 74,
     "metadata": {},
     "output_type": "execute_result"
    }
   ],
   "source": [
    "games[-2]"
   ]
  },
  {
   "cell_type": "code",
   "execution_count": 73,
   "id": "abbcf623-cca3-417b-bc26-aa37ccc43923",
   "metadata": {},
   "outputs": [
    {
     "data": {
      "text/plain": [
       "0                   https://www.ign.com/games/magic-mayhem\n",
       "1            https://www.ign.com/games/fishing-master-2007\n",
       "2                      https://www.ign.com/games/far-cry-2\n",
       "3         https://www.ign.com/games/pro-18-world-tour-golf\n",
       "4                  https://www.ign.com/games/bust-a-groove\n",
       "                               ...                        \n",
       "11360    https://www.ign.com/games/air-raid-this-is-not...\n",
       "11361             https://www.ign.com/games/charge-n-blast\n",
       "11362                     https://www.ign.com/games/roogoo\n",
       "11363                   https://www.ign.com/games/madworld\n",
       "11364                       https://www.ign.com/games/doom\n",
       "Name: 0, Length: 11365, dtype: object"
      ]
     },
     "execution_count": 73,
     "metadata": {},
     "output_type": "execute_result"
    }
   ],
   "source": [
    "dados['0']"
   ]
  },
  {
   "cell_type": "code",
   "execution_count": 67,
   "id": "e52efeea-e031-4438-8db2-7f97e1579379",
   "metadata": {},
   "outputs": [
    {
     "name": "stdout",
     "output_type": "stream",
     "text": [
      "40.0% complete\n",
      "40.0% complete\n"
     ]
    }
   ],
   "source": [
    "\n",
    "for url in dados['0'][10037:]:\n",
    "\n",
    "    infos = {}\n",
    "    \n",
    "    response = urlopen(url)\n",
    "    html = response.read()\n",
    "    soup = BeautifulSoup(html, 'html.parser')\n",
    "    \n",
    "    try:\n",
    "        infos['game'] = soup.find('h1', {'class': 'display-title'}).getText()\n",
    "    except:\n",
    "        infos['game'] = ''\n",
    "\n",
    "    try:\n",
    "        all_devs = soup.find('div', {'class': 'developers-info'}).findAll('a')\n",
    "        devs = []\n",
    "        for dev in all_devs:\n",
    "            devs.append(dev.getText())\n",
    "        infos['developers'] = devs\n",
    "    except:\n",
    "        infos['developers'] = ''\n",
    "    \n",
    "    try:\n",
    "        all_plubs = soup.find('div', {'class': 'publishers-info'}).findAll('a')\n",
    "        plubs = []\n",
    "        for plub in all_plubs:\n",
    "            plubs.append(plub.getText())\n",
    "        infos['publishers'] = plubs\n",
    "    except:\n",
    "        infos['publishers'] = ''\n",
    "        \n",
    "    try:\n",
    "        frans = soup.find('div', {'class': 'franchises-info'}).findAll('a')\n",
    "        franchises = []\n",
    "        for fran in frans:\n",
    "            franchises.append(fran.getText())            \n",
    "        infos['franchises'] = franchises\n",
    "    except:\n",
    "        infos['franchises'] = ''\n",
    "        \n",
    "    try:\n",
    "        feats = soup.find('div', {'class': 'features-info'}).findAll('a')\n",
    "        features = []\n",
    "        for feat in feats:\n",
    "            features.append(feat.getText())\n",
    "        infos['features'] = features\n",
    "    except:\n",
    "        infos['features'] = ''\n",
    "\n",
    "    try:\n",
    "        date = soup.find('div', {'class': 'initial-release-info'}).findAll('div', {'class': 'jsx-1545499971'})[1].getText()\n",
    "        infos['released_date'] = datetime.strptime(date, '%b %d, %Y')\n",
    "    except:\n",
    "        infos['released_date'] = ''\n",
    "    \n",
    "    try:\n",
    "        all_plats = soup.find('div', {'class': 'platforms-info'}).findAll('title')\n",
    "        platforms = []\n",
    "        for plat in all_plats:\n",
    "            platforms.append(plat.getText())\n",
    "        infos['platform'] = platforms\n",
    "    except:\n",
    "        infos['platform'] = ''\n",
    "    \n",
    "    try:\n",
    "        all_genres = soup.find('div', {'class': 'genres-info'}).findAll('a')\n",
    "        genres = []\n",
    "        for gens in all_genres:\n",
    "            genres.append(gens.getText())\n",
    "        infos['genres'] = genres\n",
    "    except:\n",
    "        infos['genres'] = ''\n",
    "    \n",
    "    try:\n",
    "        infos['score'] = float(soup.find('figure', {'class': 'review-score'}).find('figcaption').getText())\n",
    "    except:\n",
    "        infos['score'] = ''\n",
    "    \n",
    "    try:\n",
    "        infos['score_text'] = soup.find('div', {'class': 'score-text'}).getText()\n",
    "    except:\n",
    "        infos['score_text'] = ''\n",
    "        \n",
    "    try:\n",
    "        infos['esrb'] = re.sub('ESRB: ', '', soup.find('svg', {'class': 'jsx-2211565535'}).getText())\n",
    "    except:\n",
    "        infos['esrb'] = ''\n",
    "        \n",
    "    try:\n",
    "        infos['esrb_info'] = soup.findAll('div', {'class': 'content-rating-info'})[1].getText().split(', ')\n",
    "    except:\n",
    "        infos['esrb_info'] = ''\n",
    "\n",
    "    games.append(infos)\n",
    "    \n",
    "    games_n += 1\n",
    "    if games_n%mdc == 0:\n",
    "        print('{}% complete'.format(game_n/(mdc*10)*100))"
   ]
  },
  {
   "cell_type": "code",
   "execution_count": 76,
   "id": "f535578e-d982-4e0b-8996-28ae11d849a2",
   "metadata": {},
   "outputs": [
    {
     "data": {
      "text/html": [
       "<div>\n",
       "<style scoped>\n",
       "    .dataframe tbody tr th:only-of-type {\n",
       "        vertical-align: middle;\n",
       "    }\n",
       "\n",
       "    .dataframe tbody tr th {\n",
       "        vertical-align: top;\n",
       "    }\n",
       "\n",
       "    .dataframe thead th {\n",
       "        text-align: right;\n",
       "    }\n",
       "</style>\n",
       "<table border=\"1\" class=\"dataframe\">\n",
       "  <thead>\n",
       "    <tr style=\"text-align: right;\">\n",
       "      <th></th>\n",
       "      <th>game</th>\n",
       "      <th>developers</th>\n",
       "      <th>publishers</th>\n",
       "      <th>franchises</th>\n",
       "      <th>features</th>\n",
       "      <th>released_date</th>\n",
       "      <th>platform</th>\n",
       "      <th>genres</th>\n",
       "      <th>score</th>\n",
       "      <th>score_text</th>\n",
       "      <th>esrb</th>\n",
       "      <th>esrb_info</th>\n",
       "    </tr>\n",
       "  </thead>\n",
       "  <tbody>\n",
       "    <tr>\n",
       "      <th>0</th>\n",
       "      <td>Magic &amp; Mayhem</td>\n",
       "      <td>[Mythos Games]</td>\n",
       "      <td>[Bethesda  Softworks]</td>\n",
       "      <td></td>\n",
       "      <td>[Memory Card, Online]</td>\n",
       "      <td>1999-05-15 00:00:00</td>\n",
       "      <td>[PC]</td>\n",
       "      <td>[Strategy]</td>\n",
       "      <td>7.3</td>\n",
       "      <td>good</td>\n",
       "      <td>Teen</td>\n",
       "      <td>[Animated Violence]</td>\n",
       "    </tr>\n",
       "    <tr>\n",
       "      <th>1</th>\n",
       "      <td>Fishing Master [2007]</td>\n",
       "      <td>[Hudson Soft]</td>\n",
       "      <td>[Konami, Hudson Soft]</td>\n",
       "      <td></td>\n",
       "      <td>[Number Of Players, Local - VS # of Players]</td>\n",
       "      <td>2006-03-29 00:00:00</td>\n",
       "      <td>[Wii]</td>\n",
       "      <td>[Hunting]</td>\n",
       "      <td>5.5</td>\n",
       "      <td>mediocre</td>\n",
       "      <td>Everyone</td>\n",
       "      <td>[Mild Language]</td>\n",
       "    </tr>\n",
       "    <tr>\n",
       "      <th>2</th>\n",
       "      <td>Far Cry 2</td>\n",
       "      <td>[Gameloft, Ubisoft Montreal]</td>\n",
       "      <td>[Ubisoft, Gameloft]</td>\n",
       "      <td>[Far Cry]</td>\n",
       "      <td>[Memory Card, Vibration, DualShock, Memory Blo...</td>\n",
       "      <td>2008-10-21 00:00:00</td>\n",
       "      <td>[Luna, PC, Wireless, Xbox 360, PlayStation 3]</td>\n",
       "      <td>[Shooter]</td>\n",
       "      <td>8.9</td>\n",
       "      <td>great</td>\n",
       "      <td>Mature</td>\n",
       "      <td>[Intense Violence, Drug Reference, Strong Lang...</td>\n",
       "    </tr>\n",
       "    <tr>\n",
       "      <th>3</th>\n",
       "      <td>Pro 18: World Tour Golf</td>\n",
       "      <td>[Psygnosis]</td>\n",
       "      <td>[Psygnosis, Electro Source]</td>\n",
       "      <td></td>\n",
       "      <td>[Number Of Players, Memory Card, Online]</td>\n",
       "      <td>1999-03-31 00:00:00</td>\n",
       "      <td>[PC, PlayStation]</td>\n",
       "      <td>[Sports]</td>\n",
       "      <td>3.0</td>\n",
       "      <td>awful</td>\n",
       "      <td>Everyone</td>\n",
       "      <td>[Suitable for Persons Ages Six and Older, No D...</td>\n",
       "    </tr>\n",
       "    <tr>\n",
       "      <th>4</th>\n",
       "      <td>Bust A Groove</td>\n",
       "      <td>[Metro Corporation (aka Metro Graphics)]</td>\n",
       "      <td>[Sony Computer Entertainment, Enix, 989 Studios]</td>\n",
       "      <td>[Bust a Groove]</td>\n",
       "      <td>[Number Of Players, Memory Card, Vibration]</td>\n",
       "      <td>1998-04-27 00:00:00</td>\n",
       "      <td>[PlayStation]</td>\n",
       "      <td>[Action, Music]</td>\n",
       "      <td>9.0</td>\n",
       "      <td>amazing</td>\n",
       "      <td>Everyone</td>\n",
       "      <td>[Mild Language]</td>\n",
       "    </tr>\n",
       "  </tbody>\n",
       "</table>\n",
       "</div>"
      ],
      "text/plain": [
       "                      game                                developers  \\\n",
       "0           Magic & Mayhem                            [Mythos Games]   \n",
       "1    Fishing Master [2007]                             [Hudson Soft]   \n",
       "2                Far Cry 2              [Gameloft, Ubisoft Montreal]   \n",
       "3  Pro 18: World Tour Golf                               [Psygnosis]   \n",
       "4            Bust A Groove  [Metro Corporation (aka Metro Graphics)]   \n",
       "\n",
       "                                         publishers       franchises  \\\n",
       "0                             [Bethesda  Softworks]                    \n",
       "1                             [Konami, Hudson Soft]                    \n",
       "2                               [Ubisoft, Gameloft]        [Far Cry]   \n",
       "3                       [Psygnosis, Electro Source]                    \n",
       "4  [Sony Computer Entertainment, Enix, 989 Studios]  [Bust a Groove]   \n",
       "\n",
       "                                            features        released_date  \\\n",
       "0                              [Memory Card, Online]  1999-05-15 00:00:00   \n",
       "1       [Number Of Players, Local - VS # of Players]  2006-03-29 00:00:00   \n",
       "2  [Memory Card, Vibration, DualShock, Memory Blo...  2008-10-21 00:00:00   \n",
       "3           [Number Of Players, Memory Card, Online]  1999-03-31 00:00:00   \n",
       "4        [Number Of Players, Memory Card, Vibration]  1998-04-27 00:00:00   \n",
       "\n",
       "                                        platform           genres score  \\\n",
       "0                                           [PC]       [Strategy]   7.3   \n",
       "1                                          [Wii]        [Hunting]   5.5   \n",
       "2  [Luna, PC, Wireless, Xbox 360, PlayStation 3]        [Shooter]   8.9   \n",
       "3                              [PC, PlayStation]         [Sports]   3.0   \n",
       "4                                  [PlayStation]  [Action, Music]   9.0   \n",
       "\n",
       "  score_text      esrb                                          esrb_info  \n",
       "0       good      Teen                                [Animated Violence]  \n",
       "1   mediocre  Everyone                                    [Mild Language]  \n",
       "2      great    Mature  [Intense Violence, Drug Reference, Strong Lang...  \n",
       "3      awful  Everyone  [Suitable for Persons Ages Six and Older, No D...  \n",
       "4    amazing  Everyone                                    [Mild Language]  "
      ]
     },
     "execution_count": 76,
     "metadata": {},
     "output_type": "execute_result"
    }
   ],
   "source": [
    "game_DF = pd.DataFrame(games)\n",
    "game_DF.head()"
   ]
  },
  {
   "cell_type": "code",
   "execution_count": 77,
   "id": "dc3f2289-912d-47b8-a2f9-495e696ec0c8",
   "metadata": {},
   "outputs": [],
   "source": [
    "game_DF.to_csv('IGN_data')"
   ]
  },
  {
   "cell_type": "code",
   "execution_count": 78,
   "id": "a8934e60-42c9-48ef-818e-94c65159b0f6",
   "metadata": {},
   "outputs": [
    {
     "data": {
      "text/plain": [
       "8.0    1129\n",
       "7.0     996\n",
       "7.5     664\n",
       "6.0     606\n",
       "8.5     597\n",
       "9.0     589\n",
       "6.5     459\n",
       "5.0     448\n",
       "4.0     300\n",
       "5.5     291\n",
       "Name: score, dtype: int64"
      ]
     },
     "execution_count": 78,
     "metadata": {},
     "output_type": "execute_result"
    }
   ],
   "source": [
    "game_DF.score.value_counts()[:10]"
   ]
  },
  {
   "cell_type": "code",
   "execution_count": null,
   "id": "2df76ee2-b8d3-4899-a3d3-921093622b01",
   "metadata": {},
   "outputs": [],
   "source": []
  }
 ],
 "metadata": {
  "kernelspec": {
   "display_name": "Python 3 (ipykernel)",
   "language": "python",
   "name": "python3"
  },
  "language_info": {
   "codemirror_mode": {
    "name": "ipython",
    "version": 3
   },
   "file_extension": ".py",
   "mimetype": "text/x-python",
   "name": "python",
   "nbconvert_exporter": "python",
   "pygments_lexer": "ipython3",
   "version": "3.9.7"
  }
 },
 "nbformat": 4,
 "nbformat_minor": 5
}
