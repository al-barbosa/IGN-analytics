{
 "cells": [
  {
   "cell_type": "code",
   "execution_count": 1,
   "id": "52c905f1-d822-4ab0-8059-4c7b58ef1d1d",
   "metadata": {},
   "outputs": [],
   "source": [
    "from selenium import webdriver\n",
    "from selenium.webdriver.common.desired_capabilities import DesiredCapabilities\n",
    "from selenium.webdriver.common.keys import Keys\n",
    "from webdriver_manager.chrome import ChromeDriverManager\n",
    "from urllib.request import urlopen\n",
    "from bs4 import BeautifulSoup\n",
    "from datetime import datetime\n",
    "import pandas as pd\n",
    "import time\n",
    "import regex as re"
   ]
  },
  {
   "cell_type": "code",
   "execution_count": 2,
   "id": "cd1ec259-2480-478e-abbb-2105b88b6a62",
   "metadata": {},
   "outputs": [],
   "source": [
    "games = []\n",
    "\n",
    "test_links = ['https://www.ign.com/games/batman-dark-tomorrow']\n",
    "\n",
    "for url in test_links:\n",
    "\n",
    "    infos = {}\n",
    "    \n",
    "    response = urlopen(url)\n",
    "    html = response.read()\n",
    "    soup = BeautifulSoup(html, 'html.parser')\n",
    "    \n",
    "    try:\n",
    "        infos['game'] = soup.find('h1', {'class': 'display-title'}).getText()\n",
    "    except:\n",
    "        infos['game'] = ''\n",
    "\n",
    "    try:\n",
    "        all_devs = soup.find('div', {'class': 'developers-info'}).findAll('a')\n",
    "        devs = []\n",
    "        for dev in all_devs:\n",
    "            devs.append(dev.getText())\n",
    "        infos['developers'] = devs\n",
    "    except:\n",
    "        infos['developers'] = ''\n",
    "    \n",
    "    try:\n",
    "        all_plubs = soup.find('div', {'class': 'publishers-info'}).findAll('a')\n",
    "        plubs = []\n",
    "        for plub in all_plubs:\n",
    "            plubs.append(plub.getText())\n",
    "        infos['publishers'] = plubs\n",
    "    except:\n",
    "        infos['publishers'] = ''\n",
    "        \n",
    "    try:\n",
    "        frans = soup.find('div', {'class': 'franchises-info'}).findAll('a')\n",
    "        franchises = []\n",
    "        for fran in frans:\n",
    "            franchises.append(fran.getText())            \n",
    "        infos['franchises'] = franchises\n",
    "    except:\n",
    "        infos['franchises'] = ''\n",
    "        \n",
    "    try:\n",
    "        feats = soup.find('div', {'class': 'features-info'}).findAll('a')\n",
    "        features = []\n",
    "        for feat in feats:\n",
    "            features.append(feat.getText())\n",
    "        infos['features'] = features\n",
    "    except:\n",
    "        infos['features'] = ''\n",
    "\n",
    "    try:\n",
    "        date = soup.find('div', {'class': 'initial-release-info'}).findAll('div', {'class': 'jsx-1164031273'})[1].getText()\n",
    "        infos['released_date'] = datetime.strptime(date, '%b %d, %Y')\n",
    "    except:\n",
    "        infos['released_date'] = ''\n",
    "    \n",
    "    try:\n",
    "        all_plats = soup.find('div', {'class': 'platforms-info'}).findAll('title')\n",
    "        platforms = []\n",
    "        for plat in all_plats:\n",
    "            platforms.append(plat.getText())\n",
    "        infos['platform'] = platforms\n",
    "    except:\n",
    "        infos['platform'] = ''\n",
    "    \n",
    "    try:\n",
    "        all_genres = soup.find('div', {'class': 'genres-info'}).findAll('a')\n",
    "        genres = []\n",
    "        for gens in all_genres:\n",
    "            genres.append(gens.getText())\n",
    "        infos['genres'] = genres\n",
    "    except:\n",
    "        infos['genres'] = ''\n",
    "    \n",
    "    try:\n",
    "        infos['score'] = float(soup.find('figure', {'class': 'review-score'}).find('figcaption').getText())\n",
    "    except:\n",
    "        infos['score'] = ''\n",
    "    \n",
    "    try:\n",
    "        infos['score_text'] = soup.find('div', {'class': 'score-text'}).getText()\n",
    "    except:\n",
    "        infos['score_text'] = ''\n",
    "        \n",
    "    try:\n",
    "        infos['esrb'] = re.sub('ESRB: ', '', soup.find('svg', {'class': 'jsx-2211565535'}).getText())\n",
    "    except:\n",
    "        infos['esrb'] = ''\n",
    "        \n",
    "    try:\n",
    "        infos['esrb_info'] = soup.findAll('div', {'class': 'content-rating-info'})[1].getText().split(', ')\n",
    "    except:\n",
    "        infos['esrb_info'] = ''\n",
    "\n",
    "    games.append(infos)"
   ]
  },
  {
   "cell_type": "code",
   "execution_count": 3,
   "id": "ec44caf2-465e-40f5-85d9-9694276c5d7a",
   "metadata": {},
   "outputs": [
    {
     "data": {
      "text/plain": [
       "[{'game': 'Batman: Dark Tomorrow',\n",
       "  'developers': ['Kemco'],\n",
       "  'publishers': ['Kemco'],\n",
       "  'franchises': ['DC Comics', 'Batman'],\n",
       "  'features': ['Memory Card',\n",
       "   'Vibration',\n",
       "   'DualShock',\n",
       "   '480p',\n",
       "   'Dolby Digital 5.1'],\n",
       "  'released_date': '',\n",
       "  'platform': ['GameCube', 'Xbox', 'PlayStation 2'],\n",
       "  'genres': ['Action', 'Adventure'],\n",
       "  'score': 3.5,\n",
       "  'score_text': 'awful',\n",
       "  'esrb': 'Loading',\n",
       "  'esrb_info': ['Violence',\n",
       "   'Animated Violence',\n",
       "   'Mild Animated Violence',\n",
       "   'Realistic Violence']}]"
      ]
     },
     "execution_count": 3,
     "metadata": {},
     "output_type": "execute_result"
    }
   ],
   "source": [
    "games"
   ]
  },
  {
   "cell_type": "code",
   "execution_count": 130,
   "id": "c4690ab6-4375-4c3b-bc6b-5087650206dc",
   "metadata": {
    "collapsed": true,
    "jupyter": {
     "outputs_hidden": true
    },
    "tags": []
   },
   "outputs": [
    {
     "name": "stdout",
     "output_type": "stream",
     "text": [
      "\n",
      "Starting scrap of xbox-360\n",
      "Exited the loop\n",
      "The last added link was: https://www.ign.com/games/max-payne\n",
      "Current size of set: 1553\n",
      "\n",
      "Starting scrap of gba\n",
      "Exited the loop\n",
      "The last added link was: https://www.ign.com/games/namco-museum-gba\n",
      "Current size of set: 2027\n",
      "\n",
      "Starting scrap of pc\n",
      "Exited the loop\n"
     ]
    },
    {
     "ename": "StaleElementReferenceException",
     "evalue": "Message: stale element reference: element is not attached to the page document\n  (Session info: chrome=105.0.5195.125)\n",
     "output_type": "error",
     "traceback": [
      "\u001b[0;31m---------------------------------------------------------------------------\u001b[0m",
      "\u001b[0;31mStaleElementReferenceException\u001b[0m            Traceback (most recent call last)",
      "Input \u001b[0;32mIn [130]\u001b[0m, in \u001b[0;36m<cell line: 7>\u001b[0;34m()\u001b[0m\n\u001b[1;32m     31\u001b[0m a_list \u001b[38;5;241m=\u001b[39m browser\u001b[38;5;241m.\u001b[39mfind_elements_by_class_name(\u001b[38;5;124m'\u001b[39m\u001b[38;5;124mitem-body\u001b[39m\u001b[38;5;124m'\u001b[39m)\n\u001b[1;32m     32\u001b[0m \u001b[38;5;28;01mfor\u001b[39;00m a \u001b[38;5;129;01min\u001b[39;00m a_list:\n\u001b[0;32m---> 33\u001b[0m     \u001b[38;5;28;01mif\u001b[39;00m \u001b[43ma\u001b[49m\u001b[38;5;241;43m.\u001b[39;49m\u001b[43mfind_element_by_class_name\u001b[49m\u001b[43m(\u001b[49m\u001b[38;5;124;43m'\u001b[39;49m\u001b[38;5;124;43mjsx-1785568775\u001b[39;49m\u001b[38;5;124;43m'\u001b[39;49m\u001b[43m)\u001b[49m\u001b[38;5;241m.\u001b[39mtext \u001b[38;5;241m==\u001b[39m \u001b[38;5;124m'\u001b[39m\u001b[38;5;124mGAME\u001b[39m\u001b[38;5;124m'\u001b[39m:\n\u001b[1;32m     34\u001b[0m         link \u001b[38;5;241m=\u001b[39m a\u001b[38;5;241m.\u001b[39mfind_element_by_tag_name(\u001b[38;5;124m'\u001b[39m\u001b[38;5;124ma\u001b[39m\u001b[38;5;124m'\u001b[39m)\u001b[38;5;241m.\u001b[39mget_attribute(\u001b[38;5;124m'\u001b[39m\u001b[38;5;124mhref\u001b[39m\u001b[38;5;124m'\u001b[39m)\n\u001b[1;32m     35\u001b[0m         \u001b[38;5;28;01mif\u001b[39;00m link \u001b[38;5;129;01mnot\u001b[39;00m \u001b[38;5;129;01min\u001b[39;00m current_list:\n",
      "File \u001b[0;32m~/opt/anaconda3/lib/python3.9/site-packages/selenium/webdriver/remote/webelement.py:398\u001b[0m, in \u001b[0;36mWebElement.find_element_by_class_name\u001b[0;34m(self, name)\u001b[0m\n\u001b[1;32m    383\u001b[0m \u001b[38;5;28;01mdef\u001b[39;00m \u001b[38;5;21mfind_element_by_class_name\u001b[39m(\u001b[38;5;28mself\u001b[39m, name):\n\u001b[1;32m    384\u001b[0m     \u001b[38;5;124;03m\"\"\"Finds element within this element's children by class name.\u001b[39;00m\n\u001b[1;32m    385\u001b[0m \n\u001b[1;32m    386\u001b[0m \u001b[38;5;124;03m    :Args:\u001b[39;00m\n\u001b[0;32m   (...)\u001b[0m\n\u001b[1;32m    396\u001b[0m \u001b[38;5;124;03m        element = element.find_element_by_class_name('foo')\u001b[39;00m\n\u001b[1;32m    397\u001b[0m \u001b[38;5;124;03m    \"\"\"\u001b[39;00m\n\u001b[0;32m--> 398\u001b[0m     \u001b[38;5;28;01mreturn\u001b[39;00m \u001b[38;5;28;43mself\u001b[39;49m\u001b[38;5;241;43m.\u001b[39;49m\u001b[43mfind_element\u001b[49m\u001b[43m(\u001b[49m\u001b[43mby\u001b[49m\u001b[38;5;241;43m=\u001b[39;49m\u001b[43mBy\u001b[49m\u001b[38;5;241;43m.\u001b[39;49m\u001b[43mCLASS_NAME\u001b[49m\u001b[43m,\u001b[49m\u001b[43m \u001b[49m\u001b[43mvalue\u001b[49m\u001b[38;5;241;43m=\u001b[39;49m\u001b[43mname\u001b[49m\u001b[43m)\u001b[49m\n",
      "File \u001b[0;32m~/opt/anaconda3/lib/python3.9/site-packages/selenium/webdriver/remote/webelement.py:658\u001b[0m, in \u001b[0;36mWebElement.find_element\u001b[0;34m(self, by, value)\u001b[0m\n\u001b[1;32m    655\u001b[0m         by \u001b[38;5;241m=\u001b[39m By\u001b[38;5;241m.\u001b[39mCSS_SELECTOR\n\u001b[1;32m    656\u001b[0m         value \u001b[38;5;241m=\u001b[39m \u001b[38;5;124m'\u001b[39m\u001b[38;5;124m[name=\u001b[39m\u001b[38;5;124m\"\u001b[39m\u001b[38;5;132;01m%s\u001b[39;00m\u001b[38;5;124m\"\u001b[39m\u001b[38;5;124m]\u001b[39m\u001b[38;5;124m'\u001b[39m \u001b[38;5;241m%\u001b[39m value\n\u001b[0;32m--> 658\u001b[0m \u001b[38;5;28;01mreturn\u001b[39;00m \u001b[38;5;28;43mself\u001b[39;49m\u001b[38;5;241;43m.\u001b[39;49m\u001b[43m_execute\u001b[49m\u001b[43m(\u001b[49m\u001b[43mCommand\u001b[49m\u001b[38;5;241;43m.\u001b[39;49m\u001b[43mFIND_CHILD_ELEMENT\u001b[49m\u001b[43m,\u001b[49m\n\u001b[1;32m    659\u001b[0m \u001b[43m                     \u001b[49m\u001b[43m{\u001b[49m\u001b[38;5;124;43m\"\u001b[39;49m\u001b[38;5;124;43musing\u001b[39;49m\u001b[38;5;124;43m\"\u001b[39;49m\u001b[43m:\u001b[49m\u001b[43m \u001b[49m\u001b[43mby\u001b[49m\u001b[43m,\u001b[49m\u001b[43m \u001b[49m\u001b[38;5;124;43m\"\u001b[39;49m\u001b[38;5;124;43mvalue\u001b[39;49m\u001b[38;5;124;43m\"\u001b[39;49m\u001b[43m:\u001b[49m\u001b[43m \u001b[49m\u001b[43mvalue\u001b[49m\u001b[43m}\u001b[49m\u001b[43m)\u001b[49m[\u001b[38;5;124m'\u001b[39m\u001b[38;5;124mvalue\u001b[39m\u001b[38;5;124m'\u001b[39m]\n",
      "File \u001b[0;32m~/opt/anaconda3/lib/python3.9/site-packages/selenium/webdriver/remote/webelement.py:633\u001b[0m, in \u001b[0;36mWebElement._execute\u001b[0;34m(self, command, params)\u001b[0m\n\u001b[1;32m    631\u001b[0m     params \u001b[38;5;241m=\u001b[39m {}\n\u001b[1;32m    632\u001b[0m params[\u001b[38;5;124m'\u001b[39m\u001b[38;5;124mid\u001b[39m\u001b[38;5;124m'\u001b[39m] \u001b[38;5;241m=\u001b[39m \u001b[38;5;28mself\u001b[39m\u001b[38;5;241m.\u001b[39m_id\n\u001b[0;32m--> 633\u001b[0m \u001b[38;5;28;01mreturn\u001b[39;00m \u001b[38;5;28;43mself\u001b[39;49m\u001b[38;5;241;43m.\u001b[39;49m\u001b[43m_parent\u001b[49m\u001b[38;5;241;43m.\u001b[39;49m\u001b[43mexecute\u001b[49m\u001b[43m(\u001b[49m\u001b[43mcommand\u001b[49m\u001b[43m,\u001b[49m\u001b[43m \u001b[49m\u001b[43mparams\u001b[49m\u001b[43m)\u001b[49m\n",
      "File \u001b[0;32m~/opt/anaconda3/lib/python3.9/site-packages/selenium/webdriver/remote/webdriver.py:321\u001b[0m, in \u001b[0;36mWebDriver.execute\u001b[0;34m(self, driver_command, params)\u001b[0m\n\u001b[1;32m    319\u001b[0m response \u001b[38;5;241m=\u001b[39m \u001b[38;5;28mself\u001b[39m\u001b[38;5;241m.\u001b[39mcommand_executor\u001b[38;5;241m.\u001b[39mexecute(driver_command, params)\n\u001b[1;32m    320\u001b[0m \u001b[38;5;28;01mif\u001b[39;00m response:\n\u001b[0;32m--> 321\u001b[0m     \u001b[38;5;28;43mself\u001b[39;49m\u001b[38;5;241;43m.\u001b[39;49m\u001b[43merror_handler\u001b[49m\u001b[38;5;241;43m.\u001b[39;49m\u001b[43mcheck_response\u001b[49m\u001b[43m(\u001b[49m\u001b[43mresponse\u001b[49m\u001b[43m)\u001b[49m\n\u001b[1;32m    322\u001b[0m     response[\u001b[38;5;124m'\u001b[39m\u001b[38;5;124mvalue\u001b[39m\u001b[38;5;124m'\u001b[39m] \u001b[38;5;241m=\u001b[39m \u001b[38;5;28mself\u001b[39m\u001b[38;5;241m.\u001b[39m_unwrap_value(\n\u001b[1;32m    323\u001b[0m         response\u001b[38;5;241m.\u001b[39mget(\u001b[38;5;124m'\u001b[39m\u001b[38;5;124mvalue\u001b[39m\u001b[38;5;124m'\u001b[39m, \u001b[38;5;28;01mNone\u001b[39;00m))\n\u001b[1;32m    324\u001b[0m     \u001b[38;5;28;01mreturn\u001b[39;00m response\n",
      "File \u001b[0;32m~/opt/anaconda3/lib/python3.9/site-packages/selenium/webdriver/remote/errorhandler.py:242\u001b[0m, in \u001b[0;36mErrorHandler.check_response\u001b[0;34m(self, response)\u001b[0m\n\u001b[1;32m    240\u001b[0m         alert_text \u001b[38;5;241m=\u001b[39m value[\u001b[38;5;124m'\u001b[39m\u001b[38;5;124malert\u001b[39m\u001b[38;5;124m'\u001b[39m]\u001b[38;5;241m.\u001b[39mget(\u001b[38;5;124m'\u001b[39m\u001b[38;5;124mtext\u001b[39m\u001b[38;5;124m'\u001b[39m)\n\u001b[1;32m    241\u001b[0m     \u001b[38;5;28;01mraise\u001b[39;00m exception_class(message, screen, stacktrace, alert_text)\n\u001b[0;32m--> 242\u001b[0m \u001b[38;5;28;01mraise\u001b[39;00m exception_class(message, screen, stacktrace)\n",
      "\u001b[0;31mStaleElementReferenceException\u001b[0m: Message: stale element reference: element is not attached to the page document\n  (Session info: chrome=105.0.5195.125)\n"
     ]
    }
   ],
   "source": [
    "current_consoles = ['xbox-360', 'gba', 'pc']\n",
    "\n",
    "current_list = []\n",
    "\n",
    "x = 0\n",
    "y = 7\n",
    "while x != 4:\n",
    "    for console_n in current_consoles:\n",
    "\n",
    "        c = DesiredCapabilities.CHROME\n",
    "        c[\"pageLoadStrategy\"] = \"none\"\n",
    "        browser = webdriver.Chrome(ChromeDriverManager().install(), desired_capabilities=c)\n",
    "        browser.get(\"https://www.ign.com/reviews/games/{}\".format(console_n))\n",
    "\n",
    "        time.sleep(5)\n",
    "\n",
    "        browser.execute_script(\"window.stop();\")\n",
    "\n",
    "        print('Starting scrap of {}'.format(console_n))\n",
    "\n",
    "        pre_load = browser.execute_script('return document.body.scrollHeight')\n",
    "        after_load = 0    \n",
    "        while pre_load != after_load:\n",
    "            pre_load = browser.execute_script('return document.body.scrollHeight')\n",
    "            browser.execute_script('window.scrollTo(0, document.body.scrollHeight);')\n",
    "            time.sleep(y)\n",
    "            after_load = browser.execute_script('return document.body.scrollHeight')\n",
    "\n",
    "        print('Exited the loop')\n",
    "\n",
    "        a_list = browser.find_elements_by_class_name('item-body')\n",
    "        for a in a_list:\n",
    "            if a.find_element_by_class_name('jsx-1785568775').text == 'GAME':\n",
    "                link = a.find_element_by_tag_name('a').get_attribute('href')\n",
    "                if link not in current_list:\n",
    "                    current_list.append(link)\n",
    "\n",
    "        print('The last added link was: {}'.format(current_list[-1]))\n",
    "\n",
    "        print('Current size of set: {}'.format(len(current_list)))\n",
    "\n",
    "        browser.quit()\n",
    "    print(x)\n",
    "    x += 1\n",
    "    y += 1"
   ]
  },
  {
   "cell_type": "code",
   "execution_count": 123,
   "id": "551ae73f-5496-44fe-b3ba-f9f76be73344",
   "metadata": {},
   "outputs": [
    {
     "name": "stdout",
     "output_type": "stream",
     "text": [
      "\n"
     ]
    }
   ],
   "source": [
    "c = DesiredCapabilities.CHROME\n",
    "c[\"pageLoadStrategy\"] = \"none\"\n",
    "browser = webdriver.Chrome(ChromeDriverManager().install(), desired_capabilities=c)\n",
    "browser.get(\"https://www.ign.com/reviews/games/xbox-360\")"
   ]
  },
  {
   "cell_type": "code",
   "execution_count": 144,
   "id": "e971e892-e7ea-4fa6-aaee-c1d1e6ea948d",
   "metadata": {
    "tags": []
   },
   "outputs": [
    {
     "name": "stdout",
     "output_type": "stream",
     "text": [
      "Exited the loop\n"
     ]
    }
   ],
   "source": [
    "#last_height = browser.execute_script('return document.body.scrollHeight')\n",
    "\n",
    "#while (datetime.now().min < 20):\n",
    "timeout = time.time() + 60*5 # 5 minutes from now\n",
    "while True:\n",
    "    test = 0\n",
    "    if test == 5 or time.time() > timeout:\n",
    "        break\n",
    "    test = test - 1\n",
    "    browser.execute_script('window.scrollTo(0, document.body.scrollHeight);')\n",
    "    time.sleep(2)\n",
    "    #pre_load = browser.execute_script('return document.body.scrollHeight')\n",
    "    #after_load = 0\n",
    "    #while pre_load != after_load:\n",
    "    #    pre_load = browser.execute_script('return document.body.scrollHeight')\n",
    "    \n",
    "    #    after_load = browser.execute_script('return document.body.scrollHeight')\n",
    "\n",
    "print('Exited the loop')\n"
   ]
  },
  {
   "cell_type": "code",
   "execution_count": 145,
   "id": "87be55de-30de-4127-b64a-0d5b438ae577",
   "metadata": {},
   "outputs": [
    {
     "name": "stdout",
     "output_type": "stream",
     "text": [
      "The last added link was: https://www.ign.com/games/killer-instinct\n"
     ]
    }
   ],
   "source": [
    "a_list = browser.find_elements_by_class_name('item-body')\n",
    "current_list = []\n",
    "for a in a_list:\n",
    "    if a.find_element_by_class_name('jsx-1785568775').text == 'GAME':\n",
    "        link = a.find_element_by_tag_name('a').get_attribute('href')\n",
    "        if link not in current_list:\n",
    "            current_list.append(a.find_element_by_tag_name('a').get_attribute('href'))\n",
    "print('The last added link was: {}'.format(links[-1]))"
   ]
  },
  {
   "cell_type": "code",
   "execution_count": 21,
   "id": "9d28e498-b716-4a6e-803e-b9ecac60cf28",
   "metadata": {
    "tags": []
   },
   "outputs": [],
   "source": [
    "a_list = browser.find_elements_by_class_name('item-body')\n",
    "\n",
    "for a in a_list:\n",
    "    if a.find_element_by_class_name('jsx-1785568775').text == 'GAME':\n",
    "        link = a.find_element_by_tag_name('a').get_attribute('href')\n",
    "        if link not in links:\n",
    "            links.append(a.find_element_by_tag_name('a').get_attribute('href'))"
   ]
  },
  {
   "cell_type": "code",
   "execution_count": 201,
   "id": "6d671908-f093-4b45-a427-be7abefa4c86",
   "metadata": {
    "tags": []
   },
   "outputs": [],
   "source": [
    "games = []\n",
    "\n",
    "test_links = safeList[:5]\n",
    "\n",
    "for url in test_links:\n",
    "\n",
    "    infos = {}\n",
    "    \n",
    "    response = urlopen(url)\n",
    "    html = response.read()\n",
    "    soup = BeautifulSoup(html, 'html.parser')\n",
    "    \n",
    "    try:\n",
    "        infos['game'] = soup.find('h1', {'class': 'display-title'}).getText()\n",
    "    except:\n",
    "        infos['game'] = ''\n",
    "\n",
    "    try:\n",
    "        all_devs = soup.find('div', {'class': 'developers-info'}).findAll('a')\n",
    "        devs = []\n",
    "        for dev in all_devs:\n",
    "            devs.append(dev.getText())\n",
    "        infos['developers'] = devs\n",
    "    except:\n",
    "        infos['developers'] = ''\n",
    "    \n",
    "    try:\n",
    "        all_plubs = soup.find('div', {'class': 'publishers-info'}).findAll('a')\n",
    "        plubs = []\n",
    "        for plub in all_plubs:\n",
    "            plubs.append(plub.getText())\n",
    "        infos['publishers'] = plubs\n",
    "    except:\n",
    "        infos['publishers'] = ''\n",
    "        \n",
    "    try:\n",
    "        frans = soup.find('div', {'class': 'franchises-info'}).findAll('a')\n",
    "        franchises = []\n",
    "        for fran in frans:\n",
    "            franchises.append(fran.getText())            \n",
    "        infos['franchises'] = franchises\n",
    "    except:\n",
    "        infos['franchises'] = ''\n",
    "        \n",
    "    try:\n",
    "        feats = soup.find('div', {'class': 'features-info'}).findAll('a')\n",
    "        features = []\n",
    "        for feat in feats:\n",
    "            features.append(feat.getText())\n",
    "        infos['features'] = features\n",
    "    except:\n",
    "        infos['features'] = ''\n",
    "\n",
    "    try:\n",
    "        date = soup.find('div', {'class': 'initial-release-info'}).findAll('div', {'class': 'jsx-1164031273'})[1].getText()\n",
    "        infos['released_date'] = datetime.strptime(date, '%b %d, %Y')\n",
    "    except:\n",
    "        infos['released_date'] = ''\n",
    "    \n",
    "    try:\n",
    "        all_plats = soup.find('div', {'class': 'platforms-info'}).findAll('title')\n",
    "        platforms = []\n",
    "        for plat in all_plats:\n",
    "            platforms.append(plat.getText())\n",
    "        infos['platform'] = platforms\n",
    "    except:\n",
    "        infos['platform'] = ''\n",
    "    \n",
    "    try:\n",
    "        all_genres = soup.find('div', {'class': 'genres-info'}).findAll('a')\n",
    "        genres = []\n",
    "        for gens in all_genres:\n",
    "            genres.append(gens.getText())\n",
    "        infos['genres'] = genres\n",
    "    except:\n",
    "        infos['genres'] = ''\n",
    "    \n",
    "    try:\n",
    "        infos['score'] = float(soup.find('figure', {'class': 'review-score'}).find('figcaption').getText())\n",
    "    except:\n",
    "        infos['score'] = ''\n",
    "    \n",
    "    try:\n",
    "        infos['score_text'] = soup.find('div', {'class': 'score-text'}).getText()\n",
    "    except:\n",
    "        infos['score_text'] = ''\n",
    "        \n",
    "    try:\n",
    "        infos['esrb'] = re.sub('ESRB: ', '', soup.find('svg', {'class': 'jsx-2211565535'}).getText())\n",
    "    except:\n",
    "        infos['esrb'] = ''\n",
    "        \n",
    "    try:\n",
    "        infos['esrb_info'] = soup.findAll('div', {'class': 'content-rating-info'})[1].getText().split(', ')\n",
    "    except:\n",
    "        infos['esrb_info'] = ''\n",
    "\n",
    "    games.append(infos)"
   ]
  },
  {
   "cell_type": "code",
   "execution_count": 202,
   "id": "67be7b16-7af0-4bbc-9971-321f124b586f",
   "metadata": {
    "tags": []
   },
   "outputs": [
    {
     "data": {
      "text/plain": [
       "[{'game': 'Magic & Mayhem',\n",
       "  'developers': ['Mythos Games'],\n",
       "  'publishers': ['Bethesda  Softworks'],\n",
       "  'franchises': '',\n",
       "  'features': ['Memory Card', 'Online'],\n",
       "  'released_date': datetime.datetime(1999, 5, 15, 0, 0),\n",
       "  'platform': ['PC'],\n",
       "  'genres': ['Strategy'],\n",
       "  'score': 7.3,\n",
       "  'score_text': 'good',\n",
       "  'esrb': 'Teen',\n",
       "  'esrb_info': ['Animated Violence']},\n",
       " {'game': 'Fishing Master [2007]',\n",
       "  'developers': ['Hudson Soft'],\n",
       "  'publishers': ['Konami', 'Hudson Soft'],\n",
       "  'franchises': '',\n",
       "  'features': ['Number Of Players', 'Local - VS # of Players'],\n",
       "  'released_date': datetime.datetime(2006, 3, 29, 0, 0),\n",
       "  'platform': ['Wii'],\n",
       "  'genres': ['Hunting'],\n",
       "  'score': 5.5,\n",
       "  'score_text': 'mediocre',\n",
       "  'esrb': 'Everyone',\n",
       "  'esrb_info': ['Mild Language']},\n",
       " {'game': 'Far Cry 2',\n",
       "  'developers': ['Gameloft', 'Ubisoft Montreal'],\n",
       "  'publishers': ['Ubisoft', 'Gameloft'],\n",
       "  'franchises': ['Far Cry'],\n",
       "  'features': ['Memory Card',\n",
       "   'Vibration',\n",
       "   'DualShock',\n",
       "   'Memory Blocks',\n",
       "   'Dolby Digital',\n",
       "   '16:9',\n",
       "   '480p',\n",
       "   '720p',\n",
       "   'Downloadable Content',\n",
       "   'Online Leaderboards',\n",
       "   'Online',\n",
       "   '1080i',\n",
       "   'Mic/Headset Voice',\n",
       "   'System Link / LAN',\n",
       "   'Dolby Digital 5.1',\n",
       "   'Online Versus Multiplayer',\n",
       "   'Online Spectator Mode'],\n",
       "  'released_date': datetime.datetime(2008, 10, 21, 0, 0),\n",
       "  'platform': ['Luna', 'PC', 'Wireless', 'Xbox 360', 'PlayStation 3'],\n",
       "  'genres': ['Shooter'],\n",
       "  'score': 8.9,\n",
       "  'score_text': 'great',\n",
       "  'esrb': 'Mature',\n",
       "  'esrb_info': ['Intense Violence',\n",
       "   'Drug Reference',\n",
       "   'Strong Language',\n",
       "   'Sexual Themes',\n",
       "   'Blood']},\n",
       " {'game': 'Pro 18: World Tour Golf',\n",
       "  'developers': ['Psygnosis'],\n",
       "  'publishers': ['Psygnosis', 'Electro Source'],\n",
       "  'franchises': '',\n",
       "  'features': ['Number Of Players', 'Memory Card', 'Online'],\n",
       "  'released_date': datetime.datetime(1999, 3, 31, 0, 0),\n",
       "  'platform': ['PC', 'PlayStation'],\n",
       "  'genres': ['Sports'],\n",
       "  'score': 3.0,\n",
       "  'score_text': 'awful',\n",
       "  'esrb': 'Everyone',\n",
       "  'esrb_info': ['Suitable for Persons Ages Six and Older', 'No Descriptors']},\n",
       " {'game': 'Bust A Groove',\n",
       "  'developers': ['Metro Corporation (aka Metro Graphics)'],\n",
       "  'publishers': ['Sony Computer Entertainment', 'Enix', '989 Studios'],\n",
       "  'franchises': ['Bust a Groove'],\n",
       "  'features': ['Number Of Players', 'Memory Card', 'Vibration'],\n",
       "  'released_date': datetime.datetime(1998, 4, 27, 0, 0),\n",
       "  'platform': ['PlayStation'],\n",
       "  'genres': ['Action', 'Music'],\n",
       "  'score': 9.0,\n",
       "  'score_text': 'amazing',\n",
       "  'esrb': 'Everyone',\n",
       "  'esrb_info': ['Mild Language']}]"
      ]
     },
     "execution_count": 202,
     "metadata": {},
     "output_type": "execute_result"
    }
   ],
   "source": [
    "games"
   ]
  },
  {
   "cell_type": "code",
   "execution_count": 26,
   "id": "dcab80c4-5185-4812-8dd9-1f095bd8a144",
   "metadata": {
    "jupyter": {
     "source_hidden": true
    },
    "tags": []
   },
   "outputs": [],
   "source": [
    "compi = []\n",
    "\n",
    "for i in range(0, len(dados)):\n",
    "    \n",
    "    infos = {**dados.loc[i]}\n",
    "\n",
    "    url = dados.loc[i].review_link\n",
    "    response = urlopen(url)\n",
    "    html = response.read()\n",
    "    soup = BeautifulSoup(html, 'html.parser')\n",
    "    \n",
    "    try:\n",
    "        infos['game'] = soup.find('a', {'class': 'jsx-957202555'}).getText()\n",
    "    except:\n",
    "        infos['game'] = ''\n",
    "    \n",
    "    try:\n",
    "        infos['score_text'] = soup.find('div', {'class': 'score-text'}).getText()\n",
    "    except:\n",
    "        infos['score_text'] = ''\n",
    "\n",
    "    try:\n",
    "        verdict = soup.findAll('div', {'class': 'jsx-3103488995'})[1].getText()\n",
    "        infos['verdict'] = verdict\n",
    "    except:\n",
    "        infos['verdict'] = ''\n",
    "        \n",
    "    try:\n",
    "        platforms = soup.findAll('a', {'class': 'jsx-3880677412'})\n",
    "        platforms_list = []\n",
    "        for plat in platforms:\n",
    "            platforms_list.append(plat.getText())\n",
    "        infos['platforms'] = platforms_list\n",
    "    except:\n",
    "        infos['platforms'] = ''\n",
    "\n",
    "    reviewed_on = soup.find('figcaption', {'class': 'jsx-4081673794'}).findChildren(\"div\")[-1].getText()\n",
    "    reviewed_on = re.sub('Reviewed on ', '', reviewed_on)\n",
    "    if 'Reviewed on ' in soup.find('figcaption', {'class': 'jsx-4081673794'}).findChildren(\"div\")[-1].getText():\n",
    "        infos['reviewed_on'] = reviewed_on\n",
    "    else:\n",
    "        infos['reviewed_on'] = ''\n",
    "    \n",
    "    \n",
    "    if \"CHOICE\" in soup.find('div', {'class': 'review-score-section'}).getText():\n",
    "        infos['editors_choice'] = 'yes'\n",
    "    else:\n",
    "        infos['editors_choice'] = 'no'\n",
    "        \n",
    "    try:\n",
    "        date = soup.find('time', {'class': 'jsx-134961162'}).getText()\n",
    "        infos['released_date'] = datetime.strptime(date, '%b %d, %Y')\n",
    "    except:\n",
    "        infos['released_date'] = ''\n",
    "            \n",
    "    \n",
    "    try:\n",
    "        author = soup.find('a', {'class': 'article-author'}).getText()\n",
    "        infos['author'] = author\n",
    "    except:\n",
    "        infos['author'] = ''\n",
    "\n",
    "            \n",
    "    compi.append(infos)"
   ]
  },
  {
   "cell_type": "code",
   "execution_count": 58,
   "id": "5b976933-9e3a-41ee-ad4b-1b9e705bde50",
   "metadata": {},
   "outputs": [
    {
     "data": {
      "text/plain": [
       "[1, 2, 3, 4, 5, 6]"
      ]
     },
     "execution_count": 58,
     "metadata": {},
     "output_type": "execute_result"
    }
   ],
   "source": [
    "finalList = list(setTest)\n",
    "finalList"
   ]
  },
  {
   "cell_type": "code",
   "execution_count": 68,
   "id": "d134e887-f582-41cd-bdb6-c6ec02add9f1",
   "metadata": {},
   "outputs": [
    {
     "data": {
      "text/plain": [
       "[1, 2, 3, 4]"
      ]
     },
     "execution_count": 68,
     "metadata": {},
     "output_type": "execute_result"
    }
   ],
   "source": [
    "teste1"
   ]
  },
  {
   "cell_type": "code",
   "execution_count": 149,
   "id": "8d6736dc-b88c-4c5b-9e51-20af94c605dc",
   "metadata": {},
   "outputs": [
    {
     "name": "stdout",
     "output_type": "stream",
     "text": [
      "9516 3987\n"
     ]
    }
   ],
   "source": [
    "print(len(safeList), len(current_list))"
   ]
  },
  {
   "cell_type": "code",
   "execution_count": 150,
   "id": "ddf2f30f-2093-4a87-a69d-f153907a263f",
   "metadata": {},
   "outputs": [
    {
     "data": {
      "text/plain": [
       "11365"
      ]
     },
     "execution_count": 150,
     "metadata": {},
     "output_type": "execute_result"
    }
   ],
   "source": [
    "linksSet = set([*safeList, *current_list])\n",
    "len(linksSet)"
   ]
  },
  {
   "cell_type": "code",
   "execution_count": 151,
   "id": "20345105-bc23-4da9-b266-3e3d02863048",
   "metadata": {
    "tags": []
   },
   "outputs": [],
   "source": [
    "#PS5, SeriesX, PS4, XOne, Switch, WiiU, Wii, PS3, XBox 360, 3DS\n",
    "#New 3DS, DS, Vita, PSP, iPhone, iPad, Android, XBox, Game Boy, Nintendo 64, Mac\n",
    "\n",
    "safeList = list(linksSet)"
   ]
  },
  {
   "cell_type": "code",
   "execution_count": 152,
   "id": "c8d94273-98e1-4d9a-97e6-df99d1ce776c",
   "metadata": {},
   "outputs": [
    {
     "data": {
      "text/plain": [
       "11365"
      ]
     },
     "execution_count": 152,
     "metadata": {},
     "output_type": "execute_result"
    }
   ],
   "source": [
    "len(safeList)"
   ]
  },
  {
   "cell_type": "code",
   "execution_count": 154,
   "id": "337e86c9-0f51-435b-aa5a-f34c6f9e33ee",
   "metadata": {},
   "outputs": [
    {
     "data": {
      "text/html": [
       "<div>\n",
       "<style scoped>\n",
       "    .dataframe tbody tr th:only-of-type {\n",
       "        vertical-align: middle;\n",
       "    }\n",
       "\n",
       "    .dataframe tbody tr th {\n",
       "        vertical-align: top;\n",
       "    }\n",
       "\n",
       "    .dataframe thead th {\n",
       "        text-align: right;\n",
       "    }\n",
       "</style>\n",
       "<table border=\"1\" class=\"dataframe\">\n",
       "  <thead>\n",
       "    <tr style=\"text-align: right;\">\n",
       "      <th></th>\n",
       "      <th>0</th>\n",
       "    </tr>\n",
       "  </thead>\n",
       "  <tbody>\n",
       "    <tr>\n",
       "      <th>0</th>\n",
       "      <td>https://www.ign.com/games/magic-mayhem</td>\n",
       "    </tr>\n",
       "    <tr>\n",
       "      <th>1</th>\n",
       "      <td>https://www.ign.com/games/fishing-master-2007</td>\n",
       "    </tr>\n",
       "    <tr>\n",
       "      <th>2</th>\n",
       "      <td>https://www.ign.com/games/far-cry-2</td>\n",
       "    </tr>\n",
       "    <tr>\n",
       "      <th>3</th>\n",
       "      <td>https://www.ign.com/games/pro-18-world-tour-golf</td>\n",
       "    </tr>\n",
       "    <tr>\n",
       "      <th>4</th>\n",
       "      <td>https://www.ign.com/games/bust-a-groove</td>\n",
       "    </tr>\n",
       "  </tbody>\n",
       "</table>\n",
       "</div>"
      ],
      "text/plain": [
       "                                                  0\n",
       "0            https://www.ign.com/games/magic-mayhem\n",
       "1     https://www.ign.com/games/fishing-master-2007\n",
       "2               https://www.ign.com/games/far-cry-2\n",
       "3  https://www.ign.com/games/pro-18-world-tour-golf\n",
       "4           https://www.ign.com/games/bust-a-groove"
      ]
     },
     "execution_count": 154,
     "metadata": {},
     "output_type": "execute_result"
    }
   ],
   "source": [
    "dataF = pd.DataFrame(safeList)\n",
    "dataF.head()"
   ]
  },
  {
   "cell_type": "code",
   "execution_count": 175,
   "id": "bd671832-8ef4-4512-b833-3ec9d7eb010e",
   "metadata": {},
   "outputs": [],
   "source": [
    "dataF.to_csv('links')"
   ]
  },
  {
   "cell_type": "code",
   "execution_count": 174,
   "id": "e7f968e1-b53b-4f47-8364-674acc6d5db3",
   "metadata": {
    "tags": []
   },
   "outputs": [
    {
     "data": {
      "text/html": [
       "<div>\n",
       "<style scoped>\n",
       "    .dataframe tbody tr th:only-of-type {\n",
       "        vertical-align: middle;\n",
       "    }\n",
       "\n",
       "    .dataframe tbody tr th {\n",
       "        vertical-align: top;\n",
       "    }\n",
       "\n",
       "    .dataframe thead th {\n",
       "        text-align: right;\n",
       "    }\n",
       "</style>\n",
       "<table border=\"1\" class=\"dataframe\">\n",
       "  <thead>\n",
       "    <tr style=\"text-align: right;\">\n",
       "      <th></th>\n",
       "      <th>0</th>\n",
       "    </tr>\n",
       "  </thead>\n",
       "  <tbody>\n",
       "    <tr>\n",
       "      <th>0</th>\n",
       "      <td>https://www.ign.com/games/magic-mayhem</td>\n",
       "    </tr>\n",
       "    <tr>\n",
       "      <th>1</th>\n",
       "      <td>https://www.ign.com/games/fishing-master-2007</td>\n",
       "    </tr>\n",
       "    <tr>\n",
       "      <th>2</th>\n",
       "      <td>https://www.ign.com/games/far-cry-2</td>\n",
       "    </tr>\n",
       "    <tr>\n",
       "      <th>3</th>\n",
       "      <td>https://www.ign.com/games/pro-18-world-tour-golf</td>\n",
       "    </tr>\n",
       "    <tr>\n",
       "      <th>4</th>\n",
       "      <td>https://www.ign.com/games/bust-a-groove</td>\n",
       "    </tr>\n",
       "  </tbody>\n",
       "</table>\n",
       "</div>"
      ],
      "text/plain": [
       "                                                  0\n",
       "0            https://www.ign.com/games/magic-mayhem\n",
       "1     https://www.ign.com/games/fishing-master-2007\n",
       "2               https://www.ign.com/games/far-cry-2\n",
       "3  https://www.ign.com/games/pro-18-world-tour-golf\n",
       "4           https://www.ign.com/games/bust-a-groove"
      ]
     },
     "execution_count": 174,
     "metadata": {},
     "output_type": "execute_result"
    }
   ],
   "source": [
    "dataF.head()"
   ]
  },
  {
   "cell_type": "code",
   "execution_count": 172,
   "id": "e2f17573-4117-4c11-9e7f-35f7222cf0e3",
   "metadata": {},
   "outputs": [],
   "source": [
    "dataF.columns = ['0']"
   ]
  },
  {
   "cell_type": "code",
   "execution_count": null,
   "id": "eb0dfc46-d0a7-4623-aafe-480ea7fe187d",
   "metadata": {},
   "outputs": [],
   "source": []
  }
 ],
 "metadata": {
  "kernelspec": {
   "display_name": "Python 3 (ipykernel)",
   "language": "python",
   "name": "python3"
  },
  "language_info": {
   "codemirror_mode": {
    "name": "ipython",
    "version": 3
   },
   "file_extension": ".py",
   "mimetype": "text/x-python",
   "name": "python",
   "nbconvert_exporter": "python",
   "pygments_lexer": "ipython3",
   "version": "3.9.7"
  }
 },
 "nbformat": 4,
 "nbformat_minor": 5
}
