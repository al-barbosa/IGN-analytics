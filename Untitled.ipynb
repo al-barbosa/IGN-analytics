{
 "cells": [
  {
   "cell_type": "code",
   "execution_count": 128,
   "id": "2be53205-5163-4e3e-b4da-cb04e417f7dd",
   "metadata": {},
   "outputs": [],
   "source": [
    "import pandas as pd\n",
    "import matplotlib.pyplot as plt\n",
    "import numpy as np\n",
    "import scipy.stats as stats\n",
    "from sklearn.preprocessing import MultiLabelBinarizer\n",
    "import seaborn as sns\n",
    "import re\n",
    "from datetime import datetime"
   ]
  },
  {
   "cell_type": "code",
   "execution_count": 214,
   "id": "507fbb73-f55a-498a-b885-f12e8da31af7",
   "metadata": {},
   "outputs": [
    {
     "data": {
      "text/plain": [
       "11362"
      ]
     },
     "execution_count": 214,
     "metadata": {},
     "output_type": "execute_result"
    }
   ],
   "source": [
    "df = pd.read_csv('IGN_data', index_col=0)\n",
    "df.head()\n",
    "len(df.platform)"
   ]
  },
  {
   "cell_type": "code",
   "execution_count": 215,
   "id": "9af04349-a9f2-4816-b0fa-1cec8ead9fef",
   "metadata": {},
   "outputs": [
    {
     "data": {
      "text/html": [
       "<div>\n",
       "<style scoped>\n",
       "    .dataframe tbody tr th:only-of-type {\n",
       "        vertical-align: middle;\n",
       "    }\n",
       "\n",
       "    .dataframe tbody tr th {\n",
       "        vertical-align: top;\n",
       "    }\n",
       "\n",
       "    .dataframe thead th {\n",
       "        text-align: right;\n",
       "    }\n",
       "</style>\n",
       "<table border=\"1\" class=\"dataframe\">\n",
       "  <thead>\n",
       "    <tr style=\"text-align: right;\">\n",
       "      <th></th>\n",
       "      <th>game</th>\n",
       "      <th>developers</th>\n",
       "      <th>publishers</th>\n",
       "      <th>franchises</th>\n",
       "      <th>features</th>\n",
       "      <th>released_date</th>\n",
       "      <th>platform</th>\n",
       "      <th>genres</th>\n",
       "      <th>score</th>\n",
       "      <th>score_text</th>\n",
       "      <th>esrb</th>\n",
       "      <th>esrb_info</th>\n",
       "    </tr>\n",
       "  </thead>\n",
       "  <tbody>\n",
       "    <tr>\n",
       "      <th>0</th>\n",
       "      <td>Magic &amp; Mayhem</td>\n",
       "      <td>['Mythos Games']</td>\n",
       "      <td>['Bethesda  Softworks']</td>\n",
       "      <td>NaN</td>\n",
       "      <td>['Memory Card', 'Online']</td>\n",
       "      <td>1999-05-15 00:00:00</td>\n",
       "      <td>['PC']</td>\n",
       "      <td>['Strategy']</td>\n",
       "      <td>7.3</td>\n",
       "      <td>good</td>\n",
       "      <td>Teen</td>\n",
       "      <td>['Animated Violence']</td>\n",
       "    </tr>\n",
       "    <tr>\n",
       "      <th>1</th>\n",
       "      <td>Fishing Master [2007]</td>\n",
       "      <td>['Hudson Soft']</td>\n",
       "      <td>['Konami', 'Hudson Soft']</td>\n",
       "      <td>NaN</td>\n",
       "      <td>['Number Of Players', 'Local - VS # of Players']</td>\n",
       "      <td>2006-03-29 00:00:00</td>\n",
       "      <td>['Wii']</td>\n",
       "      <td>['Hunting']</td>\n",
       "      <td>5.5</td>\n",
       "      <td>mediocre</td>\n",
       "      <td>Everyone</td>\n",
       "      <td>['Mild Language']</td>\n",
       "    </tr>\n",
       "    <tr>\n",
       "      <th>2</th>\n",
       "      <td>Far Cry 2</td>\n",
       "      <td>['Gameloft', 'Ubisoft Montreal']</td>\n",
       "      <td>['Ubisoft', 'Gameloft']</td>\n",
       "      <td>['Far Cry']</td>\n",
       "      <td>['Memory Card', 'Vibration', 'DualShock', 'Mem...</td>\n",
       "      <td>2008-10-21 00:00:00</td>\n",
       "      <td>['Luna', 'PC', 'Wireless', 'Xbox 360', 'PlaySt...</td>\n",
       "      <td>['Shooter']</td>\n",
       "      <td>8.9</td>\n",
       "      <td>great</td>\n",
       "      <td>Mature</td>\n",
       "      <td>['Intense Violence', 'Drug Reference', 'Strong...</td>\n",
       "    </tr>\n",
       "    <tr>\n",
       "      <th>3</th>\n",
       "      <td>Pro 18: World Tour Golf</td>\n",
       "      <td>['Psygnosis']</td>\n",
       "      <td>['Psygnosis', 'Electro Source']</td>\n",
       "      <td>NaN</td>\n",
       "      <td>['Number Of Players', 'Memory Card', 'Online']</td>\n",
       "      <td>1999-03-31 00:00:00</td>\n",
       "      <td>['PC', 'PlayStation']</td>\n",
       "      <td>['Sports']</td>\n",
       "      <td>3.0</td>\n",
       "      <td>awful</td>\n",
       "      <td>Everyone</td>\n",
       "      <td>['Suitable for Persons Ages Six and Older', 'N...</td>\n",
       "    </tr>\n",
       "    <tr>\n",
       "      <th>4</th>\n",
       "      <td>Bust A Groove</td>\n",
       "      <td>['Metro Corporation (aka Metro Graphics)']</td>\n",
       "      <td>['Sony Computer Entertainment', 'Enix', '989 S...</td>\n",
       "      <td>['Bust a Groove']</td>\n",
       "      <td>['Number Of Players', 'Memory Card', 'Vibration']</td>\n",
       "      <td>1998-04-27 00:00:00</td>\n",
       "      <td>['PlayStation']</td>\n",
       "      <td>['Action', 'Music']</td>\n",
       "      <td>9.0</td>\n",
       "      <td>amazing</td>\n",
       "      <td>Everyone</td>\n",
       "      <td>['Mild Language']</td>\n",
       "    </tr>\n",
       "  </tbody>\n",
       "</table>\n",
       "</div>"
      ],
      "text/plain": [
       "                      game                                  developers  \\\n",
       "0           Magic & Mayhem                            ['Mythos Games']   \n",
       "1    Fishing Master [2007]                             ['Hudson Soft']   \n",
       "2                Far Cry 2            ['Gameloft', 'Ubisoft Montreal']   \n",
       "3  Pro 18: World Tour Golf                               ['Psygnosis']   \n",
       "4            Bust A Groove  ['Metro Corporation (aka Metro Graphics)']   \n",
       "\n",
       "                                          publishers         franchises  \\\n",
       "0                            ['Bethesda  Softworks']                NaN   \n",
       "1                          ['Konami', 'Hudson Soft']                NaN   \n",
       "2                            ['Ubisoft', 'Gameloft']        ['Far Cry']   \n",
       "3                    ['Psygnosis', 'Electro Source']                NaN   \n",
       "4  ['Sony Computer Entertainment', 'Enix', '989 S...  ['Bust a Groove']   \n",
       "\n",
       "                                            features        released_date  \\\n",
       "0                          ['Memory Card', 'Online']  1999-05-15 00:00:00   \n",
       "1   ['Number Of Players', 'Local - VS # of Players']  2006-03-29 00:00:00   \n",
       "2  ['Memory Card', 'Vibration', 'DualShock', 'Mem...  2008-10-21 00:00:00   \n",
       "3     ['Number Of Players', 'Memory Card', 'Online']  1999-03-31 00:00:00   \n",
       "4  ['Number Of Players', 'Memory Card', 'Vibration']  1998-04-27 00:00:00   \n",
       "\n",
       "                                            platform               genres  \\\n",
       "0                                             ['PC']         ['Strategy']   \n",
       "1                                            ['Wii']          ['Hunting']   \n",
       "2  ['Luna', 'PC', 'Wireless', 'Xbox 360', 'PlaySt...          ['Shooter']   \n",
       "3                              ['PC', 'PlayStation']           ['Sports']   \n",
       "4                                    ['PlayStation']  ['Action', 'Music']   \n",
       "\n",
       "   score score_text      esrb  \\\n",
       "0    7.3       good      Teen   \n",
       "1    5.5   mediocre  Everyone   \n",
       "2    8.9      great    Mature   \n",
       "3    3.0      awful  Everyone   \n",
       "4    9.0    amazing  Everyone   \n",
       "\n",
       "                                           esrb_info  \n",
       "0                              ['Animated Violence']  \n",
       "1                                  ['Mild Language']  \n",
       "2  ['Intense Violence', 'Drug Reference', 'Strong...  \n",
       "3  ['Suitable for Persons Ages Six and Older', 'N...  \n",
       "4                                  ['Mild Language']  "
      ]
     },
     "execution_count": 215,
     "metadata": {},
     "output_type": "execute_result"
    }
   ],
   "source": [
    "df.head()"
   ]
  },
  {
   "cell_type": "code",
   "execution_count": 216,
   "id": "b8450302-1956-4f05-9b31-9c1ae51c78ab",
   "metadata": {},
   "outputs": [],
   "source": [
    "dfGenres = df\n",
    "dfGenres = dfGenres[dfGenres.genres.notna()]"
   ]
  },
  {
   "cell_type": "code",
   "execution_count": 217,
   "id": "303b8cb0-b6fc-47e5-88cf-76e4b53078ba",
   "metadata": {},
   "outputs": [],
   "source": [
    "dfPub = df\n",
    "dfPub = dfPub[dfPub.publishers.notna()]"
   ]
  },
  {
   "cell_type": "code",
   "execution_count": 218,
   "id": "6ce3ac9c-9a48-453a-a50a-8e412579e7f9",
   "metadata": {},
   "outputs": [],
   "source": [
    "dfDev = df\n",
    "dfDev = dfDev[dfDev.developers.notna()]"
   ]
  },
  {
   "cell_type": "code",
   "execution_count": 219,
   "id": "19583fd1-46a1-478f-81bf-1bab69c0a327",
   "metadata": {},
   "outputs": [],
   "source": [
    "dfFran = df\n",
    "dfFran = dfFran[dfFran.franchises.notna()]"
   ]
  },
  {
   "cell_type": "code",
   "execution_count": 426,
   "id": "f3ed58a1-77bd-4200-8ca3-b196779ba8ac",
   "metadata": {},
   "outputs": [],
   "source": [
    "dfDates = df\n",
    "dfDates = dfDates[dfDates.released_date.notna()]"
   ]
  },
  {
   "cell_type": "code",
   "execution_count": 220,
   "id": "616e3819-859a-41a3-84c0-60fa97f5e103",
   "metadata": {
    "collapsed": true,
    "jupyter": {
     "outputs_hidden": true
    },
    "tags": []
   },
   "outputs": [
    {
     "name": "stderr",
     "output_type": "stream",
     "text": [
      "/var/folders/19/95z41cms6y99z9crn3jgx_l00000gn/T/ipykernel_3870/2925019873.py:2: SettingWithCopyWarning: \n",
      "A value is trying to be set on a copy of a slice from a DataFrame.\n",
      "Try using .loc[row_indexer,col_indexer] = value instead\n",
      "\n",
      "See the caveats in the documentation: https://pandas.pydata.org/pandas-docs/stable/user_guide/indexing.html#returning-a-view-versus-a-copy\n",
      "  dfDev['developers'] = dfDev['developers'].apply(eval)\n",
      "/var/folders/19/95z41cms6y99z9crn3jgx_l00000gn/T/ipykernel_3870/2925019873.py:3: SettingWithCopyWarning: \n",
      "A value is trying to be set on a copy of a slice from a DataFrame.\n",
      "Try using .loc[row_indexer,col_indexer] = value instead\n",
      "\n",
      "See the caveats in the documentation: https://pandas.pydata.org/pandas-docs/stable/user_guide/indexing.html#returning-a-view-versus-a-copy\n",
      "  dfPub['publishers'] = dfPub['publishers'].apply(eval)\n",
      "/var/folders/19/95z41cms6y99z9crn3jgx_l00000gn/T/ipykernel_3870/2925019873.py:4: SettingWithCopyWarning: \n",
      "A value is trying to be set on a copy of a slice from a DataFrame.\n",
      "Try using .loc[row_indexer,col_indexer] = value instead\n",
      "\n",
      "See the caveats in the documentation: https://pandas.pydata.org/pandas-docs/stable/user_guide/indexing.html#returning-a-view-versus-a-copy\n",
      "  dfFran['franchises'] = dfFran['franchises'].apply(eval)\n",
      "/var/folders/19/95z41cms6y99z9crn3jgx_l00000gn/T/ipykernel_3870/2925019873.py:5: SettingWithCopyWarning: \n",
      "A value is trying to be set on a copy of a slice from a DataFrame.\n",
      "Try using .loc[row_indexer,col_indexer] = value instead\n",
      "\n",
      "See the caveats in the documentation: https://pandas.pydata.org/pandas-docs/stable/user_guide/indexing.html#returning-a-view-versus-a-copy\n",
      "  dfGenres['genres'] = dfGenres['genres'].apply(eval)\n"
     ]
    }
   ],
   "source": [
    "df['platform'] = df['platform'].apply(eval)\n",
    "dfDev['developers'] = dfDev['developers'].apply(eval)\n",
    "dfPub['publishers'] = dfPub['publishers'].apply(eval)\n",
    "dfFran['franchises'] = dfFran['franchises'].apply(eval)\n",
    "dfGenres['genres'] = dfGenres['genres'].apply(eval)"
   ]
  },
  {
   "cell_type": "code",
   "execution_count": 140,
   "id": "4164dc24-91ae-44a0-a2ad-57b41b82d429",
   "metadata": {},
   "outputs": [
    {
     "data": {
      "text/html": [
       "<div>\n",
       "<style scoped>\n",
       "    .dataframe tbody tr th:only-of-type {\n",
       "        vertical-align: middle;\n",
       "    }\n",
       "\n",
       "    .dataframe tbody tr th {\n",
       "        vertical-align: top;\n",
       "    }\n",
       "\n",
       "    .dataframe thead th {\n",
       "        text-align: right;\n",
       "    }\n",
       "</style>\n",
       "<table border=\"1\" class=\"dataframe\">\n",
       "  <thead>\n",
       "    <tr style=\"text-align: right;\">\n",
       "      <th></th>\n",
       "      <th>game</th>\n",
       "      <th>developers</th>\n",
       "      <th>publishers</th>\n",
       "      <th>franchises</th>\n",
       "      <th>features</th>\n",
       "      <th>released_date</th>\n",
       "      <th>platform</th>\n",
       "      <th>genres</th>\n",
       "      <th>score</th>\n",
       "      <th>score_text</th>\n",
       "      <th>esrb</th>\n",
       "      <th>esrb_info</th>\n",
       "    </tr>\n",
       "  </thead>\n",
       "  <tbody>\n",
       "    <tr>\n",
       "      <th>0</th>\n",
       "      <td>Magic &amp; Mayhem</td>\n",
       "      <td>['Mythos Games']</td>\n",
       "      <td>['Bethesda  Softworks']</td>\n",
       "      <td>NaN</td>\n",
       "      <td>['Memory Card', 'Online']</td>\n",
       "      <td>1999-05-15 00:00:00</td>\n",
       "      <td>[PC]</td>\n",
       "      <td>['Strategy']</td>\n",
       "      <td>7.3</td>\n",
       "      <td>good</td>\n",
       "      <td>Teen</td>\n",
       "      <td>['Animated Violence']</td>\n",
       "    </tr>\n",
       "    <tr>\n",
       "      <th>1</th>\n",
       "      <td>Fishing Master [2007]</td>\n",
       "      <td>['Hudson Soft']</td>\n",
       "      <td>['Konami', 'Hudson Soft']</td>\n",
       "      <td>NaN</td>\n",
       "      <td>['Number Of Players', 'Local - VS # of Players']</td>\n",
       "      <td>2006-03-29 00:00:00</td>\n",
       "      <td>[Wii]</td>\n",
       "      <td>['Hunting']</td>\n",
       "      <td>5.5</td>\n",
       "      <td>mediocre</td>\n",
       "      <td>Everyone</td>\n",
       "      <td>['Mild Language']</td>\n",
       "    </tr>\n",
       "    <tr>\n",
       "      <th>2</th>\n",
       "      <td>Far Cry 2</td>\n",
       "      <td>['Gameloft', 'Ubisoft Montreal']</td>\n",
       "      <td>['Ubisoft', 'Gameloft']</td>\n",
       "      <td>['Far Cry']</td>\n",
       "      <td>['Memory Card', 'Vibration', 'DualShock', 'Mem...</td>\n",
       "      <td>2008-10-21 00:00:00</td>\n",
       "      <td>[Luna, PC, Wireless, Xbox 360, PlayStation 3]</td>\n",
       "      <td>['Shooter']</td>\n",
       "      <td>8.9</td>\n",
       "      <td>great</td>\n",
       "      <td>Mature</td>\n",
       "      <td>['Intense Violence', 'Drug Reference', 'Strong...</td>\n",
       "    </tr>\n",
       "    <tr>\n",
       "      <th>3</th>\n",
       "      <td>Pro 18: World Tour Golf</td>\n",
       "      <td>['Psygnosis']</td>\n",
       "      <td>['Psygnosis', 'Electro Source']</td>\n",
       "      <td>NaN</td>\n",
       "      <td>['Number Of Players', 'Memory Card', 'Online']</td>\n",
       "      <td>1999-03-31 00:00:00</td>\n",
       "      <td>[PC, PlayStation]</td>\n",
       "      <td>['Sports']</td>\n",
       "      <td>3.0</td>\n",
       "      <td>awful</td>\n",
       "      <td>Everyone</td>\n",
       "      <td>['Suitable for Persons Ages Six and Older', 'N...</td>\n",
       "    </tr>\n",
       "    <tr>\n",
       "      <th>4</th>\n",
       "      <td>Bust A Groove</td>\n",
       "      <td>['Metro Corporation (aka Metro Graphics)']</td>\n",
       "      <td>['Sony Computer Entertainment', 'Enix', '989 S...</td>\n",
       "      <td>['Bust a Groove']</td>\n",
       "      <td>['Number Of Players', 'Memory Card', 'Vibration']</td>\n",
       "      <td>1998-04-27 00:00:00</td>\n",
       "      <td>[PlayStation]</td>\n",
       "      <td>['Action', 'Music']</td>\n",
       "      <td>9.0</td>\n",
       "      <td>amazing</td>\n",
       "      <td>Everyone</td>\n",
       "      <td>['Mild Language']</td>\n",
       "    </tr>\n",
       "  </tbody>\n",
       "</table>\n",
       "</div>"
      ],
      "text/plain": [
       "                      game                                  developers  \\\n",
       "0           Magic & Mayhem                            ['Mythos Games']   \n",
       "1    Fishing Master [2007]                             ['Hudson Soft']   \n",
       "2                Far Cry 2            ['Gameloft', 'Ubisoft Montreal']   \n",
       "3  Pro 18: World Tour Golf                               ['Psygnosis']   \n",
       "4            Bust A Groove  ['Metro Corporation (aka Metro Graphics)']   \n",
       "\n",
       "                                          publishers         franchises  \\\n",
       "0                            ['Bethesda  Softworks']                NaN   \n",
       "1                          ['Konami', 'Hudson Soft']                NaN   \n",
       "2                            ['Ubisoft', 'Gameloft']        ['Far Cry']   \n",
       "3                    ['Psygnosis', 'Electro Source']                NaN   \n",
       "4  ['Sony Computer Entertainment', 'Enix', '989 S...  ['Bust a Groove']   \n",
       "\n",
       "                                            features        released_date  \\\n",
       "0                          ['Memory Card', 'Online']  1999-05-15 00:00:00   \n",
       "1   ['Number Of Players', 'Local - VS # of Players']  2006-03-29 00:00:00   \n",
       "2  ['Memory Card', 'Vibration', 'DualShock', 'Mem...  2008-10-21 00:00:00   \n",
       "3     ['Number Of Players', 'Memory Card', 'Online']  1999-03-31 00:00:00   \n",
       "4  ['Number Of Players', 'Memory Card', 'Vibration']  1998-04-27 00:00:00   \n",
       "\n",
       "                                        platform               genres  score  \\\n",
       "0                                           [PC]         ['Strategy']    7.3   \n",
       "1                                          [Wii]          ['Hunting']    5.5   \n",
       "2  [Luna, PC, Wireless, Xbox 360, PlayStation 3]          ['Shooter']    8.9   \n",
       "3                              [PC, PlayStation]           ['Sports']    3.0   \n",
       "4                                  [PlayStation]  ['Action', 'Music']    9.0   \n",
       "\n",
       "  score_text      esrb                                          esrb_info  \n",
       "0       good      Teen                              ['Animated Violence']  \n",
       "1   mediocre  Everyone                                  ['Mild Language']  \n",
       "2      great    Mature  ['Intense Violence', 'Drug Reference', 'Strong...  \n",
       "3      awful  Everyone  ['Suitable for Persons Ages Six and Older', 'N...  \n",
       "4    amazing  Everyone                                  ['Mild Language']  "
      ]
     },
     "execution_count": 140,
     "metadata": {},
     "output_type": "execute_result"
    }
   ],
   "source": [
    "df.head()"
   ]
  },
  {
   "cell_type": "code",
   "execution_count": 395,
   "id": "ea832f73-5272-4bf9-b8f3-e7b13fe64d39",
   "metadata": {},
   "outputs": [
    {
     "data": {
      "text/plain": [
       "'1999-05-15'"
      ]
     },
     "execution_count": 395,
     "metadata": {},
     "output_type": "execute_result"
    }
   ],
   "source": [
    "df.released_date[0][:10]"
   ]
  },
  {
   "cell_type": "code",
   "execution_count": 421,
   "id": "34815ff5-d969-40ca-81b7-0ff0a21638a5",
   "metadata": {},
   "outputs": [],
   "source": [
    "def time_convert(old_time_string):\n",
    "    return datetime.strptime(old_time_string[:10], '%Y-%m-%d')"
   ]
  },
  {
   "cell_type": "code",
   "execution_count": 427,
   "id": "d2f48c40-ae6b-405a-b066-f876a2206d97",
   "metadata": {
    "tags": []
   },
   "outputs": [
    {
     "name": "stderr",
     "output_type": "stream",
     "text": [
      "/var/folders/19/95z41cms6y99z9crn3jgx_l00000gn/T/ipykernel_3870/2424330191.py:1: SettingWithCopyWarning: \n",
      "A value is trying to be set on a copy of a slice from a DataFrame.\n",
      "Try using .loc[row_indexer,col_indexer] = value instead\n",
      "\n",
      "See the caveats in the documentation: https://pandas.pydata.org/pandas-docs/stable/user_guide/indexing.html#returning-a-view-versus-a-copy\n",
      "  dfDates['released_date'] = dfDates['released_date'].apply(time_convert)\n"
     ]
    },
    {
     "data": {
      "text/plain": [
       "game              object\n",
       "developers        object\n",
       "publishers        object\n",
       "franchises        object\n",
       "features          object\n",
       "released_date     object\n",
       "platform          object\n",
       "genres            object\n",
       "score            float64\n",
       "score_text        object\n",
       "esrb              object\n",
       "esrb_info         object\n",
       "dtype: object"
      ]
     },
     "execution_count": 427,
     "metadata": {},
     "output_type": "execute_result"
    }
   ],
   "source": [
    "dfDates['released_date'] = dfDates['released_date'].apply(time_convert)\n",
    "dfDates.dtypes"
   ]
  },
  {
   "cell_type": "code",
   "execution_count": 429,
   "id": "e41f136b-eec9-48fc-861a-10f4b3bbd412",
   "metadata": {},
   "outputs": [
    {
     "data": {
      "text/plain": [
       "datetime.datetime"
      ]
     },
     "execution_count": 429,
     "metadata": {},
     "output_type": "execute_result"
    }
   ],
   "source": [
    "type(dfDates.released_date[0])"
   ]
  },
  {
   "cell_type": "markdown",
   "id": "5974a6c3-2970-4506-a3cf-7e7fe81b7363",
   "metadata": {},
   "source": [
    "## Analytics of listed games by plataform"
   ]
  },
  {
   "cell_type": "code",
   "execution_count": 162,
   "id": "f752d4fa-3e9c-47c7-94f3-359d0d5ba62b",
   "metadata": {
    "tags": []
   },
   "outputs": [],
   "source": [
    "plataform_dict = {}\n",
    "for i in df.platform:\n",
    "    for j in i:\n",
    "        if j not in plataform_dict:\n",
    "            plataform_dict[j] = 1\n",
    "        else:\n",
    "            plataform_dict[j] += 1"
   ]
  },
  {
   "cell_type": "code",
   "execution_count": 163,
   "id": "c7989847-04d6-4eb0-bd82-e3a2c755a54f",
   "metadata": {
    "tags": []
   },
   "outputs": [
    {
     "data": {
      "text/plain": [
       "{'PC': 5389,\n",
       " 'Wii': 1459,\n",
       " 'Luna': 24,\n",
       " 'Wireless': 309,\n",
       " 'Xbox 360': 1846,\n",
       " 'Xbox One': 1231,\n",
       " 'PlayStation Vita': 328,\n",
       " 'GameCube': 580,\n",
       " 'Xbox': 896,\n",
       " 'Dreamcast': 327,\n",
       " 'PlayStation 5': 261,\n",
       " 'Game Boy Advance': 636,\n",
       " 'Nintendo DS': 438,\n",
       " 'Stadia': 156,\n",
       " 'Nintendo Switch': 908,\n",
       " 'Android': 393,\n",
       " 'iPhone': 1201,\n",
       " 'Nintendo 3DS': 386,\n",
       " 'Xbox Series X|S': 256,\n",
       " 'Wii U': 441,\n",
       " 'Macintosh': 939,\n",
       " 'Nintendo 64': 325,\n",
       " 'Game Boy Color': 100,\n",
       " 'Sega CD': 13,\n",
       " 'Game Boy': 89,\n",
       " 'NES': 145,\n",
       " 'Super Nintendo Entertainment System': 121,\n",
       " 'Game Gear': 33,\n",
       " 'Genesis': 114,\n",
       " 'Arcade': 317,\n",
       " 'Saturn': 152,\n",
       " 'Windows Phone': 70,\n",
       " 'Commodore 64/128': 50,\n",
       " 'Sega 32X': 7,\n",
       " 'Atari 2600': 31,\n",
       " 'NeoGeo CD': 23,\n",
       " 'NeoGeo': 34,\n",
       " 'Windows Surface': 3,\n",
       " 'DVD / HD Video Game': 4,\n",
       " 'NeoGeo Pocket Color': 3,\n",
       " 'Atari 5200': 18,\n",
       " 'Atari Lynx': 13,\n",
       " 'Atari 7800': 14,\n",
       " 'Jaguar': 10,\n",
       " 'SteamOS': 2,\n",
       " 'PSP': 945,\n",
       " 'PS1': 1001,\n",
       " 'PS2': 1792,\n",
       " 'PS3': 2013,\n",
       " 'PS4': 1561}"
      ]
     },
     "execution_count": 163,
     "metadata": {},
     "output_type": "execute_result"
    }
   ],
   "source": [
    "plataform_dict['PSP'] = plataform_dict.pop('PlayStation Portable')\n",
    "plataform_dict['PS1'] = plataform_dict.pop('PlayStation')\n",
    "plataform_dict['PS2'] = plataform_dict.pop('PlayStation 2')\n",
    "plataform_dict['PS3'] = plataform_dict.pop('PlayStation 3')\n",
    "plataform_dict['PS4'] = plataform_dict.pop('PlayStation 4')\n",
    "plataform_dict"
   ]
  },
  {
   "cell_type": "code",
   "execution_count": 91,
   "id": "b1ff5340-b010-4601-a830-d6fcc727c7da",
   "metadata": {},
   "outputs": [
    {
     "data": {
      "text/plain": [
       "[('PSP', 945),\n",
       " ('PS1', 1001),\n",
       " ('iPhone', 1201),\n",
       " ('Xbox One', 1231),\n",
       " ('Wii', 1459),\n",
       " ('PS4', 1561),\n",
       " ('PS2', 1792),\n",
       " ('Xbox 360', 1846),\n",
       " ('PS3', 2013),\n",
       " ('PC', 5389)]"
      ]
     },
     "execution_count": 91,
     "metadata": {},
     "output_type": "execute_result"
    }
   ],
   "source": [
    "consoles_with_most_games = sorted(plataform_dict.items(), key=lambda kv: (kv[1], kv[0]))[-10:]\n",
    "consoles_with_most_games"
   ]
  },
  {
   "cell_type": "markdown",
   "id": "e617deff-b4e3-44b4-ab5b-45f86c083a0a",
   "metadata": {},
   "source": [
    "PS3 + 360 = 3859 (+ PS2 = 5651)"
   ]
  },
  {
   "cell_type": "code",
   "execution_count": 92,
   "id": "df462705-4351-40e2-9622-62d1711a9243",
   "metadata": {},
   "outputs": [
    {
     "name": "stdout",
     "output_type": "stream",
     "text": [
      "PSP 945\n",
      "PS1 1001\n",
      "iPhone 1201\n",
      "Xbox One 1231\n",
      "Wii 1459\n",
      "PS4 1561\n",
      "PS2 1792\n",
      "Xbox 360 1846\n",
      "PS3 2013\n",
      "PC 5389\n"
     ]
    }
   ],
   "source": [
    "for key, value in consoles_with_most_games:\n",
    "    print(key, value)"
   ]
  },
  {
   "cell_type": "code",
   "execution_count": 93,
   "id": "caf51f47-d41b-4b5e-90ec-2cd1a1d14b35",
   "metadata": {},
   "outputs": [],
   "source": [
    "console = []\n",
    "l_games = []\n",
    "for i, j in consoles_with_most_games:\n",
    "    console.insert(0, i)\n",
    "    l_games.insert(0, j)"
   ]
  },
  {
   "cell_type": "code",
   "execution_count": 94,
   "id": "6ff1a942-1fca-42a4-8f51-b12c722aec27",
   "metadata": {},
   "outputs": [],
   "source": [
    "console = ['PC',\n",
    " 'PS3',\n",
    " 'Xbox 360',\n",
    " 'PS2',\n",
    " 'PS4',\n",
    " 'Wii',\n",
    " 'Xbox One',\n",
    " 'iPhone',\n",
    " 'PS1',\n",
    " 'PSP']"
   ]
  },
  {
   "cell_type": "code",
   "execution_count": 95,
   "id": "0d9650f7-8937-4e78-b1f0-0a357133b08f",
   "metadata": {},
   "outputs": [
    {
     "data": {
      "image/png": "[encoded data removed]",
      "text/plain": [
       "<Figure size 1080x576 with 1 Axes>"
      ]
     },
     "metadata": {},
     "output_type": "display_data"
    }
   ],
   "source": [
    "plt.style.use('ggplot')\n",
    "fig = plt.figure(figsize=(15,8))\n",
    "eixo = fig.add_axes([0, 0, 0.6, 0.6])\n",
    "eixo.set_title('Total listed games by console', fontdict={'fontsize': 20}, pad= 15)\n",
    "eixo.set_xlabel('Console', fontsize=15)\n",
    "eixo.set_ylabel('Listed games', fontsize=15)\n",
    "eixo.bar(console, l_games, color=['black', 'blue', 'green', 'blue', 'blue', 'red', 'green', 'gray', 'blue', 'blue'])\n",
    "for k, v in consoles_with_most_games:\n",
    "    eixo.text(k, v+100, str(v), fontsize=12)\n",
    "plt.show()"
   ]
  },
  {
   "cell_type": "code",
   "execution_count": 96,
   "id": "8116f138-3c47-46af-9a14-49fb11688a32",
   "metadata": {},
   "outputs": [
    {
     "data": {
      "text/plain": [
       "5389"
      ]
     },
     "execution_count": 96,
     "metadata": {},
     "output_type": "execute_result"
    }
   ],
   "source": [
    "PC_listed = 0\n",
    "for i, j in consoles_with_most_games[::]:\n",
    "    if 'PC' in i:\n",
    "        PC_listed += j\n",
    "PC_listed"
   ]
  },
  {
   "cell_type": "code",
   "execution_count": 97,
   "id": "b875fe15-c23d-47b5-b5ef-154ddda7a559",
   "metadata": {},
   "outputs": [
    {
     "data": {
      "text/plain": [
       "5965"
      ]
     },
     "execution_count": 97,
     "metadata": {},
     "output_type": "execute_result"
    }
   ],
   "source": [
    "PS_listed = 0\n",
    "for i in df.platform:\n",
    "    if (\"PlayStation\" in i) or (\"PlayStation 2\"  in i) or (\"PlayStation 3\"  in i) or (\"PlayStation 4\"  in i) or (\"PlayStation 5\"  in i) or (\"PlayStation Vita\"  in i) or (\"PlayStation Portable\"  in i):\n",
    "        PS_listed += 1\n",
    "PS_listed"
   ]
  },
  {
   "cell_type": "code",
   "execution_count": 98,
   "id": "c1cbbd5d-c553-4e69-bd20-1ca0155a0fd3",
   "metadata": {},
   "outputs": [
    {
     "name": "stdout",
     "output_type": "stream",
     "text": [
      "['PlayStation', 5965] \n",
      " ['PC', 5389]\n"
     ]
    }
   ],
   "source": [
    "PS_listed = ['PlayStation', PS_listed]\n",
    "PC_listed = ['PC', PC_listed]\n",
    "print(PS_listed, '\\n', PC_listed)"
   ]
  },
  {
   "cell_type": "code",
   "execution_count": 99,
   "id": "f0d2012f-f14c-4f29-9e88-b0405966135e",
   "metadata": {},
   "outputs": [
    {
     "data": {
      "text/plain": [
       "576"
      ]
     },
     "execution_count": 99,
     "metadata": {},
     "output_type": "execute_result"
    }
   ],
   "source": [
    "PS_listed[1] - PC_listed[1]"
   ]
  },
  {
   "cell_type": "code",
   "execution_count": 100,
   "id": "757ae983-11bf-4a26-a092-489236d5f991",
   "metadata": {},
   "outputs": [
    {
     "data": {
      "text/plain": [
       "10.69"
      ]
     },
     "execution_count": 100,
     "metadata": {},
     "output_type": "execute_result"
    }
   ],
   "source": [
    "np.round_(((PS_listed[1] - PC_listed[1]) / PC_listed[1]) * 100, 2)"
   ]
  },
  {
   "cell_type": "markdown",
   "id": "1b9d43f8-4435-43a2-8944-8b67c1d1496e",
   "metadata": {},
   "source": [
    "# **576**\n",
    "### more games are listed for the PS family (5965) then for PC (5389).\n",
    "It's **10.69%** more."
   ]
  },
  {
   "cell_type": "markdown",
   "id": "ca5baac7-ce3f-417b-aa18-7cd09c65ccbd",
   "metadata": {},
   "source": [
    "## Analytics of scores per platform"
   ]
  },
  {
   "cell_type": "code",
   "execution_count": 101,
   "id": "d1bf1a98-1158-4bf8-9e26-0da365e9adc2",
   "metadata": {},
   "outputs": [],
   "source": [
    "game_rate = []\n",
    "\n",
    "i = 0\n",
    "\n",
    "for game in df.game:\n",
    "    current_game = {}\n",
    "    current_game['game'] = game\n",
    "    for platform in df.iloc[i].platform:\n",
    "        current_game[platform] = float(df.iloc[i].score)\n",
    "    game_rate.append(current_game)\n",
    "    i+=1"
   ]
  },
  {
   "cell_type": "code",
   "execution_count": 102,
   "id": "94bc5a01-a89d-4aee-a73f-05a237910a59",
   "metadata": {},
   "outputs": [
    {
     "data": {
      "text/plain": [
       "11362"
      ]
     },
     "execution_count": 102,
     "metadata": {},
     "output_type": "execute_result"
    }
   ],
   "source": [
    "len(game_rate)"
   ]
  },
  {
   "cell_type": "code",
   "execution_count": 103,
   "id": "1e187648-50e9-46a0-afdd-d1e4e8390131",
   "metadata": {},
   "outputs": [],
   "source": [
    "df_gamerates = pd.DataFrame(game_rate)"
   ]
  },
  {
   "cell_type": "code",
   "execution_count": 104,
   "id": "7cfe237e-69a6-4297-92e2-b29260b1e8ba",
   "metadata": {},
   "outputs": [
    {
     "data": {
      "text/plain": [
       "Index(['game', 'PC', 'Wii', 'Xbox 360', 'PlayStation 3', 'PlayStation',\n",
       "       'PlayStation 2', 'PlayStation Portable', 'PlayStation 4', 'Xbox One',\n",
       "       'GameCube', 'Xbox', 'Game Boy Advance', 'Nintendo Switch', 'iPhone',\n",
       "       'Macintosh'],\n",
       "      dtype='object')"
      ]
     },
     "execution_count": 104,
     "metadata": {},
     "output_type": "execute_result"
    }
   ],
   "source": [
    "df_gamerates.count()[df_gamerates.count() > 500].index"
   ]
  },
  {
   "cell_type": "code",
   "execution_count": 105,
   "id": "c690ab04-e73d-4c5d-a8c6-347b2f2f91e8",
   "metadata": {},
   "outputs": [
    {
     "data": {
      "text/html": [
       "<div>\n",
       "<style scoped>\n",
       "    .dataframe tbody tr th:only-of-type {\n",
       "        vertical-align: middle;\n",
       "    }\n",
       "\n",
       "    .dataframe tbody tr th {\n",
       "        vertical-align: top;\n",
       "    }\n",
       "\n",
       "    .dataframe thead th {\n",
       "        text-align: right;\n",
       "    }\n",
       "</style>\n",
       "<table border=\"1\" class=\"dataframe\">\n",
       "  <thead>\n",
       "    <tr style=\"text-align: right;\">\n",
       "      <th></th>\n",
       "      <th>game</th>\n",
       "      <th>PC</th>\n",
       "      <th>Wii</th>\n",
       "      <th>Luna</th>\n",
       "      <th>Wireless</th>\n",
       "      <th>Xbox 360</th>\n",
       "      <th>PlayStation 3</th>\n",
       "      <th>PlayStation</th>\n",
       "      <th>PlayStation 2</th>\n",
       "      <th>PlayStation Portable</th>\n",
       "      <th>...</th>\n",
       "      <th>NeoGeo CD</th>\n",
       "      <th>NeoGeo</th>\n",
       "      <th>Windows Surface</th>\n",
       "      <th>DVD / HD Video Game</th>\n",
       "      <th>NeoGeo Pocket Color</th>\n",
       "      <th>Atari 5200</th>\n",
       "      <th>Atari Lynx</th>\n",
       "      <th>Atari 7800</th>\n",
       "      <th>Jaguar</th>\n",
       "      <th>SteamOS</th>\n",
       "    </tr>\n",
       "  </thead>\n",
       "  <tbody>\n",
       "    <tr>\n",
       "      <th>0</th>\n",
       "      <td>Magic &amp; Mayhem</td>\n",
       "      <td>7.3</td>\n",
       "      <td>NaN</td>\n",
       "      <td>NaN</td>\n",
       "      <td>NaN</td>\n",
       "      <td>NaN</td>\n",
       "      <td>NaN</td>\n",
       "      <td>NaN</td>\n",
       "      <td>NaN</td>\n",
       "      <td>NaN</td>\n",
       "      <td>...</td>\n",
       "      <td>NaN</td>\n",
       "      <td>NaN</td>\n",
       "      <td>NaN</td>\n",
       "      <td>NaN</td>\n",
       "      <td>NaN</td>\n",
       "      <td>NaN</td>\n",
       "      <td>NaN</td>\n",
       "      <td>NaN</td>\n",
       "      <td>NaN</td>\n",
       "      <td>NaN</td>\n",
       "    </tr>\n",
       "    <tr>\n",
       "      <th>1</th>\n",
       "      <td>Fishing Master [2007]</td>\n",
       "      <td>NaN</td>\n",
       "      <td>5.5</td>\n",
       "      <td>NaN</td>\n",
       "      <td>NaN</td>\n",
       "      <td>NaN</td>\n",
       "      <td>NaN</td>\n",
       "      <td>NaN</td>\n",
       "      <td>NaN</td>\n",
       "      <td>NaN</td>\n",
       "      <td>...</td>\n",
       "      <td>NaN</td>\n",
       "      <td>NaN</td>\n",
       "      <td>NaN</td>\n",
       "      <td>NaN</td>\n",
       "      <td>NaN</td>\n",
       "      <td>NaN</td>\n",
       "      <td>NaN</td>\n",
       "      <td>NaN</td>\n",
       "      <td>NaN</td>\n",
       "      <td>NaN</td>\n",
       "    </tr>\n",
       "    <tr>\n",
       "      <th>2</th>\n",
       "      <td>Far Cry 2</td>\n",
       "      <td>8.9</td>\n",
       "      <td>NaN</td>\n",
       "      <td>8.9</td>\n",
       "      <td>8.9</td>\n",
       "      <td>8.9</td>\n",
       "      <td>8.9</td>\n",
       "      <td>NaN</td>\n",
       "      <td>NaN</td>\n",
       "      <td>NaN</td>\n",
       "      <td>...</td>\n",
       "      <td>NaN</td>\n",
       "      <td>NaN</td>\n",
       "      <td>NaN</td>\n",
       "      <td>NaN</td>\n",
       "      <td>NaN</td>\n",
       "      <td>NaN</td>\n",
       "      <td>NaN</td>\n",
       "      <td>NaN</td>\n",
       "      <td>NaN</td>\n",
       "      <td>NaN</td>\n",
       "    </tr>\n",
       "    <tr>\n",
       "      <th>3</th>\n",
       "      <td>Pro 18: World Tour Golf</td>\n",
       "      <td>3.0</td>\n",
       "      <td>NaN</td>\n",
       "      <td>NaN</td>\n",
       "      <td>NaN</td>\n",
       "      <td>NaN</td>\n",
       "      <td>NaN</td>\n",
       "      <td>3.0</td>\n",
       "      <td>NaN</td>\n",
       "      <td>NaN</td>\n",
       "      <td>...</td>\n",
       "      <td>NaN</td>\n",
       "      <td>NaN</td>\n",
       "      <td>NaN</td>\n",
       "      <td>NaN</td>\n",
       "      <td>NaN</td>\n",
       "      <td>NaN</td>\n",
       "      <td>NaN</td>\n",
       "      <td>NaN</td>\n",
       "      <td>NaN</td>\n",
       "      <td>NaN</td>\n",
       "    </tr>\n",
       "    <tr>\n",
       "      <th>4</th>\n",
       "      <td>Bust A Groove</td>\n",
       "      <td>NaN</td>\n",
       "      <td>NaN</td>\n",
       "      <td>NaN</td>\n",
       "      <td>NaN</td>\n",
       "      <td>NaN</td>\n",
       "      <td>NaN</td>\n",
       "      <td>9.0</td>\n",
       "      <td>NaN</td>\n",
       "      <td>NaN</td>\n",
       "      <td>...</td>\n",
       "      <td>NaN</td>\n",
       "      <td>NaN</td>\n",
       "      <td>NaN</td>\n",
       "      <td>NaN</td>\n",
       "      <td>NaN</td>\n",
       "      <td>NaN</td>\n",
       "      <td>NaN</td>\n",
       "      <td>NaN</td>\n",
       "      <td>NaN</td>\n",
       "      <td>NaN</td>\n",
       "    </tr>\n",
       "  </tbody>\n",
       "</table>\n",
       "<p>5 rows × 51 columns</p>\n",
       "</div>"
      ],
      "text/plain": [
       "                      game   PC  Wii  Luna  Wireless  Xbox 360  PlayStation 3  \\\n",
       "0           Magic & Mayhem  7.3  NaN   NaN       NaN       NaN            NaN   \n",
       "1    Fishing Master [2007]  NaN  5.5   NaN       NaN       NaN            NaN   \n",
       "2                Far Cry 2  8.9  NaN   8.9       8.9       8.9            8.9   \n",
       "3  Pro 18: World Tour Golf  3.0  NaN   NaN       NaN       NaN            NaN   \n",
       "4            Bust A Groove  NaN  NaN   NaN       NaN       NaN            NaN   \n",
       "\n",
       "   PlayStation  PlayStation 2  PlayStation Portable  ...  NeoGeo CD  NeoGeo  \\\n",
       "0          NaN            NaN                   NaN  ...        NaN     NaN   \n",
       "1          NaN            NaN                   NaN  ...        NaN     NaN   \n",
       "2          NaN            NaN                   NaN  ...        NaN     NaN   \n",
       "3          3.0            NaN                   NaN  ...        NaN     NaN   \n",
       "4          9.0            NaN                   NaN  ...        NaN     NaN   \n",
       "\n",
       "   Windows Surface  DVD / HD Video Game  NeoGeo Pocket Color  Atari 5200  \\\n",
       "0              NaN                  NaN                  NaN         NaN   \n",
       "1              NaN                  NaN                  NaN         NaN   \n",
       "2              NaN                  NaN                  NaN         NaN   \n",
       "3              NaN                  NaN                  NaN         NaN   \n",
       "4              NaN                  NaN                  NaN         NaN   \n",
       "\n",
       "   Atari Lynx  Atari 7800  Jaguar  SteamOS  \n",
       "0         NaN         NaN     NaN      NaN  \n",
       "1         NaN         NaN     NaN      NaN  \n",
       "2         NaN         NaN     NaN      NaN  \n",
       "3         NaN         NaN     NaN      NaN  \n",
       "4         NaN         NaN     NaN      NaN  \n",
       "\n",
       "[5 rows x 51 columns]"
      ]
     },
     "execution_count": 105,
     "metadata": {},
     "output_type": "execute_result"
    }
   ],
   "source": [
    "df_gamerates.head()"
   ]
  },
  {
   "cell_type": "code",
   "execution_count": 106,
   "id": "02b6d1d9-1210-42ae-85aa-c0a91b86250a",
   "metadata": {},
   "outputs": [
    {
     "data": {
      "text/plain": [
       "Macintosh               7.615987\n",
       "Nintendo Switch         7.547235\n",
       "Xbox One                7.472980\n",
       "PlayStation 4           7.468232\n",
       "iPhone                  7.380602\n",
       "PlayStation 3           7.207692\n",
       "PC                      7.090328\n",
       "Xbox                    7.020470\n",
       "Xbox 360                7.014208\n",
       "GameCube                6.949050\n",
       "PlayStation Portable    6.829012\n",
       "PlayStation 2           6.750000\n",
       "Game Boy Advance        6.600789\n",
       "PlayStation             6.589089\n",
       "Wii                     6.339381\n",
       "dtype: float64"
      ]
     },
     "execution_count": 106,
     "metadata": {},
     "output_type": "execute_result"
    }
   ],
   "source": [
    "df_gamerates[['PC', 'Wii', 'Xbox 360', 'PlayStation 3', 'PlayStation',\n",
    "       'PlayStation 2', 'PlayStation Portable', 'PlayStation 4', 'Xbox One',\n",
    "       'GameCube', 'Xbox', 'Game Boy Advance', 'Nintendo Switch', 'iPhone',\n",
    "       'Macintosh']].mean().sort_values(ascending=False)"
   ]
  },
  {
   "cell_type": "code",
   "execution_count": 107,
   "id": "096336ad-014b-4b4f-b88a-c90e9bb0fa34",
   "metadata": {
    "tags": []
   },
   "outputs": [
    {
     "data": {
      "text/html": [
       "<div>\n",
       "<style scoped>\n",
       "    .dataframe tbody tr th:only-of-type {\n",
       "        vertical-align: middle;\n",
       "    }\n",
       "\n",
       "    .dataframe tbody tr th {\n",
       "        vertical-align: top;\n",
       "    }\n",
       "\n",
       "    .dataframe thead th {\n",
       "        text-align: right;\n",
       "    }\n",
       "</style>\n",
       "<table border=\"1\" class=\"dataframe\">\n",
       "  <thead>\n",
       "    <tr style=\"text-align: right;\">\n",
       "      <th></th>\n",
       "      <th>Wii</th>\n",
       "      <th>Xbox 360</th>\n",
       "      <th>PlayStation 3</th>\n",
       "    </tr>\n",
       "  </thead>\n",
       "  <tbody>\n",
       "    <tr>\n",
       "      <th>count</th>\n",
       "      <td>1455.00</td>\n",
       "      <td>1830.00</td>\n",
       "      <td>2002.00</td>\n",
       "    </tr>\n",
       "    <tr>\n",
       "      <th>mean</th>\n",
       "      <td>6.34</td>\n",
       "      <td>7.01</td>\n",
       "      <td>7.21</td>\n",
       "    </tr>\n",
       "    <tr>\n",
       "      <th>std</th>\n",
       "      <td>1.84</td>\n",
       "      <td>1.67</td>\n",
       "      <td>1.61</td>\n",
       "    </tr>\n",
       "    <tr>\n",
       "      <th>min</th>\n",
       "      <td>0.80</td>\n",
       "      <td>1.00</td>\n",
       "      <td>1.50</td>\n",
       "    </tr>\n",
       "    <tr>\n",
       "      <th>25%</th>\n",
       "      <td>5.00</td>\n",
       "      <td>6.00</td>\n",
       "      <td>6.30</td>\n",
       "    </tr>\n",
       "    <tr>\n",
       "      <th>50%</th>\n",
       "      <td>6.80</td>\n",
       "      <td>7.50</td>\n",
       "      <td>7.50</td>\n",
       "    </tr>\n",
       "    <tr>\n",
       "      <th>75%</th>\n",
       "      <td>7.80</td>\n",
       "      <td>8.30</td>\n",
       "      <td>8.50</td>\n",
       "    </tr>\n",
       "    <tr>\n",
       "      <th>max</th>\n",
       "      <td>10.00</td>\n",
       "      <td>10.00</td>\n",
       "      <td>10.00</td>\n",
       "    </tr>\n",
       "  </tbody>\n",
       "</table>\n",
       "</div>"
      ],
      "text/plain": [
       "           Wii  Xbox 360  PlayStation 3\n",
       "count  1455.00   1830.00        2002.00\n",
       "mean      6.34      7.01           7.21\n",
       "std       1.84      1.67           1.61\n",
       "min       0.80      1.00           1.50\n",
       "25%       5.00      6.00           6.30\n",
       "50%       6.80      7.50           7.50\n",
       "75%       7.80      8.30           8.50\n",
       "max      10.00     10.00          10.00"
      ]
     },
     "execution_count": 107,
     "metadata": {},
     "output_type": "execute_result"
    }
   ],
   "source": [
    "df_gamerates[['Wii', 'Xbox 360', 'PlayStation 3']].describe().round(2)"
   ]
  },
  {
   "cell_type": "code",
   "execution_count": 108,
   "id": "597427d4-ba5f-4929-acfd-021d129ee21d",
   "metadata": {},
   "outputs": [],
   "source": [
    "PS3_rates = df_gamerates['PlayStation 3'].dropna()\n",
    "X360_rates = df_gamerates['Xbox 360'].dropna()\n",
    "Wii_rates = df_gamerates['Wii'].dropna()\n",
    "PC_rates = df_gamerates['PC'].dropna()"
   ]
  },
  {
   "cell_type": "code",
   "execution_count": 109,
   "id": "89717b49-29a9-4bf4-9eeb-0c2e5e9f2707",
   "metadata": {},
   "outputs": [
    {
     "data": {
      "image/png": "[encoded data removed]",
      "text/plain": [
       "<Figure size 1080x576 with 1 Axes>"
      ]
     },
     "metadata": {},
     "output_type": "display_data"
    }
   ],
   "source": [
    "plt.style.use('ggplot')\n",
    "fig = plt.figure(figsize=(15,8))\n",
    "eixo = fig.add_axes([0, 0, 0.6, 0.6])\n",
    "sns.kdeplot(Wii_rates, color='r', shade=True, label='Nintendo Wii')\n",
    "sns.kdeplot(X360_rates, color='g', shade=True, label='XBox 360')\n",
    "sns.kdeplot(PS3_rates, color='b', shade=True, label='PlayStation 3')\n",
    "eixo.legend()\n",
    "eixo.set_title('Density distribution of scores', fontdict={'fontsize': 20}, pad= 15)\n",
    "eixo.set_xlabel('Score', fontsize=15)\n",
    "eixo.set_ylabel('Density', fontsize=15)\n",
    "plt.show()"
   ]
  },
  {
   "cell_type": "code",
   "execution_count": 110,
   "id": "96aa3481-3d43-420a-b749-53d843c84018",
   "metadata": {},
   "outputs": [
    {
     "data": {
      "text/plain": [
       "F_onewayResult(statistic=116.50668740869204, pvalue=3.0596797074895327e-50)"
      ]
     },
     "execution_count": 110,
     "metadata": {},
     "output_type": "execute_result"
    }
   ],
   "source": [
    "stats.f_oneway(PS3_rates, X360_rates, Wii_rates)"
   ]
  },
  {
   "cell_type": "markdown",
   "id": "51296c49-169f-432d-bb50-a366e9aa1594",
   "metadata": {},
   "source": [
    "With the low p_value in the ANOVA test we can assume that there's a higher chance of the difference between the means be statistically significant. The question now lies the difference between two means. For this, we'll use a T-Test to compare, starting with the higher mean (PlayStation 3 and XBox 360) towards the lowest (XBox 360 and Nintendo Wii)."
   ]
  },
  {
   "cell_type": "code",
   "execution_count": 111,
   "id": "20d432bf-4fd7-4f26-8a67-5dfabfaba210",
   "metadata": {},
   "outputs": [
    {
     "data": {
      "text/plain": [
       "99.99"
      ]
     },
     "execution_count": 111,
     "metadata": {},
     "output_type": "execute_result"
    }
   ],
   "source": [
    "tStat, pValue  = stats.ttest_ind(PS3_rates, X360_rates, alternative='greater')\n",
    "((1-pValue)*100).round(2)"
   ]
  },
  {
   "cell_type": "markdown",
   "id": "3e4e5b9b-a573-4a5c-b9c4-b0732454e4b0",
   "metadata": {},
   "source": [
    "With the low p-value we can see that there is a higher chance that there is, indeed, a difference between the means, showing that the PlayStation 3 higher notes are not due to random noise in more then 99.99% of the observed reviewd games."
   ]
  },
  {
   "cell_type": "code",
   "execution_count": 112,
   "id": "7de901b3-2ed7-4d0c-acac-ff7b56bd182e",
   "metadata": {},
   "outputs": [
    {
     "data": {
      "text/plain": [
       "100.0"
      ]
     },
     "execution_count": 112,
     "metadata": {},
     "output_type": "execute_result"
    }
   ],
   "source": [
    "tStat, pValue  = stats.ttest_ind(X360_rates, Wii_rates, alternative='greater')\n",
    "((1-pValue)*100).round(2)"
   ]
  },
  {
   "cell_type": "markdown",
   "id": "965850b1-5bde-4632-830a-ad9cdad4a708",
   "metadata": {},
   "source": [
    "Again, we can se that there is a higher chance that there is a difference between the means. Since thee gap between the means for the XBox 360 and Nintendo Wii games scores were higher than the previous one (who already had a significant result), that was something to predict, since the standar deviaton showed little variation."
   ]
  },
  {
   "cell_type": "markdown",
   "id": "a9a25a8a-01b9-4852-9c74-67023712a0a5",
   "metadata": {},
   "source": [
    "## Analytics of developers"
   ]
  },
  {
   "cell_type": "code",
   "execution_count": 307,
   "id": "cbdbde7e-a9a9-45cc-a623-639ead0ea8ab",
   "metadata": {
    "jupyter": {
     "source_hidden": true
    },
    "tags": []
   },
   "outputs": [
    {
     "data": {
      "text/plain": [
       "3307"
      ]
     },
     "execution_count": 307,
     "metadata": {},
     "output_type": "execute_result"
    }
   ],
   "source": [
    "# Criar objeto em que cada valor é uma lista com as notas e cada chave é uma dev\n",
    "devs_dict = {}\n",
    "for i in range(len(dfDev)):\n",
    "    if not np.isnan(dfDev.iloc[i].score):\n",
    "        for devs in dfDev.iloc[i].developers:\n",
    "            if devs not in devs_dict.keys():\n",
    "                devs_dict[devs] = [dfDev.iloc[i].score]\n",
    "            else:\n",
    "                devs_dict[devs] = [*devs_dict[devs], dfDev.iloc[i].score]\n",
    "len(devs_dict)"
   ]
  },
  {
   "cell_type": "code",
   "execution_count": 339,
   "id": "5d16d082-9cf2-4d65-968f-e9f682a0a2b9",
   "metadata": {
    "jupyter": {
     "source_hidden": true
    },
    "tags": []
   },
   "outputs": [],
   "source": [
    "devs_list = []\n",
    "for dev in devs_dict:\n",
    "    current_dev = {}\n",
    "    current_dev['dev'] = dev\n",
    "    current_dev['count'] = len(devs_dict[dev])\n",
    "    current_dev['mean'] = np.mean(devs_dict[dev])\n",
    "    current_dev['std'] = np.std(devs_dict[dev])\n",
    "    current_dev['min'], current_dev['25%'], current_dev['50%'], current_dev['75%'], current_dev['max'] = np.quantile(devs_dict[dev], [0,0.25,0.5,0.75,1])\n",
    "    \n",
    "    \n",
    "    devs_list.append(current_dev)"
   ]
  },
  {
   "cell_type": "code",
   "execution_count": 340,
   "id": "b7938714-b7aa-42fd-b9eb-6c81610e904b",
   "metadata": {
    "collapsed": true,
    "jupyter": {
     "outputs_hidden": true
    },
    "tags": []
   },
   "outputs": [
    {
     "data": {
      "text/plain": [
       "[{'dev': 'Mythos Games',\n",
       "  'count': 2,\n",
       "  'mean': 8.35,\n",
       "  'std': 1.0500000000000003,\n",
       "  'min': 7.3,\n",
       "  '25%': 7.825,\n",
       "  '50%': 8.35,\n",
       "  '75%': 8.875,\n",
       "  'max': 9.4},\n",
       " {'dev': 'Hudson Soft',\n",
       "  'count': 115,\n",
       "  'mean': 6.633913043478261,\n",
       "  'std': 1.5018763311863246,\n",
       "  'min': 1.5,\n",
       "  '25%': 6.0,\n",
       "  '50%': 7.0,\n",
       "  '75%': 7.8,\n",
       "  'max': 9.0},\n",
       " {'dev': 'Gameloft',\n",
       "  'count': 88,\n",
       "  'mean': 7.244318181818182,\n",
       "  'std': 1.2625603455015755,\n",
       "  'min': 3.0,\n",
       "  '25%': 6.574999999999999,\n",
       "  '50%': 7.5,\n",
       "  '75%': 8.0,\n",
       "  'max': 9.0},\n",
       " {'dev': 'Ubisoft Montreal',\n",
       "  'count': 92,\n",
       "  'mean': 7.457608695652173,\n",
       "  'std': 1.3680542907842077,\n",
       "  'min': 3.0,\n",
       "  '25%': 6.8,\n",
       "  '50%': 7.699999999999999,\n",
       "  '75%': 8.5,\n",
       "  'max': 9.6},\n",
       " {'dev': 'Psygnosis',\n",
       "  'count': 36,\n",
       "  'mean': 6.661111111111111,\n",
       "  'std': 2.0683162472807273,\n",
       "  'min': 2.0,\n",
       "  '25%': 5.375,\n",
       "  '50%': 7.0,\n",
       "  '75%': 8.5,\n",
       "  'max': 9.5}]"
      ]
     },
     "execution_count": 340,
     "metadata": {},
     "output_type": "execute_result"
    }
   ],
   "source": [
    "devs_list[:5]"
   ]
  },
  {
   "cell_type": "code",
   "execution_count": 344,
   "id": "77b679d8-fbfa-451e-8b66-da7305247a79",
   "metadata": {
    "collapsed": true,
    "jupyter": {
     "outputs_hidden": true
    },
    "tags": []
   },
   "outputs": [
    {
     "data": {
      "text/html": [
       "<div>\n",
       "<style scoped>\n",
       "    .dataframe tbody tr th:only-of-type {\n",
       "        vertical-align: middle;\n",
       "    }\n",
       "\n",
       "    .dataframe tbody tr th {\n",
       "        vertical-align: top;\n",
       "    }\n",
       "\n",
       "    .dataframe thead th {\n",
       "        text-align: right;\n",
       "    }\n",
       "</style>\n",
       "<table border=\"1\" class=\"dataframe\">\n",
       "  <thead>\n",
       "    <tr style=\"text-align: right;\">\n",
       "      <th></th>\n",
       "      <th>dev</th>\n",
       "      <th>count</th>\n",
       "      <th>mean</th>\n",
       "      <th>std</th>\n",
       "      <th>min</th>\n",
       "      <th>25%</th>\n",
       "      <th>50%</th>\n",
       "      <th>75%</th>\n",
       "      <th>max</th>\n",
       "    </tr>\n",
       "  </thead>\n",
       "  <tbody>\n",
       "    <tr>\n",
       "      <th>0</th>\n",
       "      <td>Mythos Games</td>\n",
       "      <td>2</td>\n",
       "      <td>8.350000</td>\n",
       "      <td>1.050000</td>\n",
       "      <td>7.3</td>\n",
       "      <td>7.825</td>\n",
       "      <td>8.35</td>\n",
       "      <td>8.875</td>\n",
       "      <td>9.4</td>\n",
       "    </tr>\n",
       "    <tr>\n",
       "      <th>1</th>\n",
       "      <td>Hudson Soft</td>\n",
       "      <td>115</td>\n",
       "      <td>6.633913</td>\n",
       "      <td>1.501876</td>\n",
       "      <td>1.5</td>\n",
       "      <td>6.000</td>\n",
       "      <td>7.00</td>\n",
       "      <td>7.800</td>\n",
       "      <td>9.0</td>\n",
       "    </tr>\n",
       "    <tr>\n",
       "      <th>2</th>\n",
       "      <td>Gameloft</td>\n",
       "      <td>88</td>\n",
       "      <td>7.244318</td>\n",
       "      <td>1.262560</td>\n",
       "      <td>3.0</td>\n",
       "      <td>6.575</td>\n",
       "      <td>7.50</td>\n",
       "      <td>8.000</td>\n",
       "      <td>9.0</td>\n",
       "    </tr>\n",
       "    <tr>\n",
       "      <th>3</th>\n",
       "      <td>Ubisoft Montreal</td>\n",
       "      <td>92</td>\n",
       "      <td>7.457609</td>\n",
       "      <td>1.368054</td>\n",
       "      <td>3.0</td>\n",
       "      <td>6.800</td>\n",
       "      <td>7.70</td>\n",
       "      <td>8.500</td>\n",
       "      <td>9.6</td>\n",
       "    </tr>\n",
       "    <tr>\n",
       "      <th>4</th>\n",
       "      <td>Psygnosis</td>\n",
       "      <td>36</td>\n",
       "      <td>6.661111</td>\n",
       "      <td>2.068316</td>\n",
       "      <td>2.0</td>\n",
       "      <td>5.375</td>\n",
       "      <td>7.00</td>\n",
       "      <td>8.500</td>\n",
       "      <td>9.5</td>\n",
       "    </tr>\n",
       "  </tbody>\n",
       "</table>\n",
       "</div>"
      ],
      "text/plain": [
       "                dev  count      mean       std  min    25%   50%    75%  max\n",
       "0      Mythos Games      2  8.350000  1.050000  7.3  7.825  8.35  8.875  9.4\n",
       "1       Hudson Soft    115  6.633913  1.501876  1.5  6.000  7.00  7.800  9.0\n",
       "2          Gameloft     88  7.244318  1.262560  3.0  6.575  7.50  8.000  9.0\n",
       "3  Ubisoft Montreal     92  7.457609  1.368054  3.0  6.800  7.70  8.500  9.6\n",
       "4         Psygnosis     36  6.661111  2.068316  2.0  5.375  7.00  8.500  9.5"
      ]
     },
     "execution_count": 344,
     "metadata": {},
     "output_type": "execute_result"
    }
   ],
   "source": [
    "devs_df = pd.DataFrame(devs_list)\n",
    "devs_df.head()"
   ]
  },
  {
   "cell_type": "code",
   "execution_count": 383,
   "id": "8f5730be-a0a7-4807-bda1-f72dac555d7f",
   "metadata": {
    "collapsed": true,
    "jupyter": {
     "outputs_hidden": true
    },
    "tags": []
   },
   "outputs": [
    {
     "data": {
      "text/html": [
       "<div>\n",
       "<style scoped>\n",
       "    .dataframe tbody tr th:only-of-type {\n",
       "        vertical-align: middle;\n",
       "    }\n",
       "\n",
       "    .dataframe tbody tr th {\n",
       "        vertical-align: top;\n",
       "    }\n",
       "\n",
       "    .dataframe thead th {\n",
       "        text-align: right;\n",
       "    }\n",
       "</style>\n",
       "<table border=\"1\" class=\"dataframe\">\n",
       "  <thead>\n",
       "    <tr style=\"text-align: right;\">\n",
       "      <th></th>\n",
       "      <th>dev</th>\n",
       "      <th>count</th>\n",
       "      <th>mean</th>\n",
       "      <th>std</th>\n",
       "      <th>min</th>\n",
       "      <th>25%</th>\n",
       "      <th>50%</th>\n",
       "      <th>75%</th>\n",
       "      <th>max</th>\n",
       "    </tr>\n",
       "  </thead>\n",
       "  <tbody>\n",
       "    <tr>\n",
       "      <th>38</th>\n",
       "      <td>Konami</td>\n",
       "      <td>171</td>\n",
       "      <td>6.65</td>\n",
       "      <td>1.67</td>\n",
       "      <td>2.5</td>\n",
       "      <td>5.35</td>\n",
       "      <td>7.00</td>\n",
       "      <td>8.00</td>\n",
       "      <td>9.8</td>\n",
       "    </tr>\n",
       "    <tr>\n",
       "      <th>172</th>\n",
       "      <td>Capcom</td>\n",
       "      <td>161</td>\n",
       "      <td>7.61</td>\n",
       "      <td>1.25</td>\n",
       "      <td>2.5</td>\n",
       "      <td>7.00</td>\n",
       "      <td>7.80</td>\n",
       "      <td>8.50</td>\n",
       "      <td>9.5</td>\n",
       "    </tr>\n",
       "    <tr>\n",
       "      <th>15</th>\n",
       "      <td>EA Canada</td>\n",
       "      <td>160</td>\n",
       "      <td>7.62</td>\n",
       "      <td>1.35</td>\n",
       "      <td>3.0</td>\n",
       "      <td>6.98</td>\n",
       "      <td>8.00</td>\n",
       "      <td>8.70</td>\n",
       "      <td>9.5</td>\n",
       "    </tr>\n",
       "    <tr>\n",
       "      <th>20</th>\n",
       "      <td>SEGA</td>\n",
       "      <td>121</td>\n",
       "      <td>6.98</td>\n",
       "      <td>1.50</td>\n",
       "      <td>3.0</td>\n",
       "      <td>6.00</td>\n",
       "      <td>7.20</td>\n",
       "      <td>8.00</td>\n",
       "      <td>9.3</td>\n",
       "    </tr>\n",
       "    <tr>\n",
       "      <th>17</th>\n",
       "      <td>Electronic Arts</td>\n",
       "      <td>116</td>\n",
       "      <td>7.73</td>\n",
       "      <td>1.21</td>\n",
       "      <td>2.5</td>\n",
       "      <td>7.10</td>\n",
       "      <td>8.00</td>\n",
       "      <td>8.52</td>\n",
       "      <td>9.5</td>\n",
       "    </tr>\n",
       "    <tr>\n",
       "      <th>1</th>\n",
       "      <td>Hudson Soft</td>\n",
       "      <td>115</td>\n",
       "      <td>6.63</td>\n",
       "      <td>1.50</td>\n",
       "      <td>1.5</td>\n",
       "      <td>6.00</td>\n",
       "      <td>7.00</td>\n",
       "      <td>7.80</td>\n",
       "      <td>9.0</td>\n",
       "    </tr>\n",
       "    <tr>\n",
       "      <th>47</th>\n",
       "      <td>Nintendo</td>\n",
       "      <td>108</td>\n",
       "      <td>7.99</td>\n",
       "      <td>1.27</td>\n",
       "      <td>4.5</td>\n",
       "      <td>7.00</td>\n",
       "      <td>8.00</td>\n",
       "      <td>9.00</td>\n",
       "      <td>10.0</td>\n",
       "    </tr>\n",
       "    <tr>\n",
       "      <th>101</th>\n",
       "      <td>Namco</td>\n",
       "      <td>105</td>\n",
       "      <td>7.13</td>\n",
       "      <td>1.53</td>\n",
       "      <td>2.5</td>\n",
       "      <td>6.20</td>\n",
       "      <td>7.50</td>\n",
       "      <td>8.10</td>\n",
       "      <td>9.4</td>\n",
       "    </tr>\n",
       "    <tr>\n",
       "      <th>60</th>\n",
       "      <td>Telltale Games</td>\n",
       "      <td>100</td>\n",
       "      <td>7.63</td>\n",
       "      <td>1.10</td>\n",
       "      <td>4.5</td>\n",
       "      <td>7.00</td>\n",
       "      <td>7.95</td>\n",
       "      <td>8.50</td>\n",
       "      <td>9.5</td>\n",
       "    </tr>\n",
       "    <tr>\n",
       "      <th>134</th>\n",
       "      <td>EA Tiburon</td>\n",
       "      <td>98</td>\n",
       "      <td>7.81</td>\n",
       "      <td>1.07</td>\n",
       "      <td>4.5</td>\n",
       "      <td>7.00</td>\n",
       "      <td>8.05</td>\n",
       "      <td>8.50</td>\n",
       "      <td>9.5</td>\n",
       "    </tr>\n",
       "  </tbody>\n",
       "</table>\n",
       "</div>"
      ],
      "text/plain": [
       "                 dev  count  mean   std  min   25%   50%   75%   max\n",
       "38            Konami    171  6.65  1.67  2.5  5.35  7.00  8.00   9.8\n",
       "172           Capcom    161  7.61  1.25  2.5  7.00  7.80  8.50   9.5\n",
       "15         EA Canada    160  7.62  1.35  3.0  6.98  8.00  8.70   9.5\n",
       "20              SEGA    121  6.98  1.50  3.0  6.00  7.20  8.00   9.3\n",
       "17   Electronic Arts    116  7.73  1.21  2.5  7.10  8.00  8.52   9.5\n",
       "1        Hudson Soft    115  6.63  1.50  1.5  6.00  7.00  7.80   9.0\n",
       "47          Nintendo    108  7.99  1.27  4.5  7.00  8.00  9.00  10.0\n",
       "101            Namco    105  7.13  1.53  2.5  6.20  7.50  8.10   9.4\n",
       "60    Telltale Games    100  7.63  1.10  4.5  7.00  7.95  8.50   9.5\n",
       "134       EA Tiburon     98  7.81  1.07  4.5  7.00  8.05  8.50   9.5"
      ]
     },
     "execution_count": 383,
     "metadata": {},
     "output_type": "execute_result"
    }
   ],
   "source": [
    "devs_df.sort_values('count', ascending=False)[:10].round(2)"
   ]
  },
  {
   "cell_type": "code",
   "execution_count": 384,
   "id": "26d7b74b-d649-416c-8593-bfc1e8372292",
   "metadata": {
    "collapsed": true,
    "jupyter": {
     "outputs_hidden": true
    },
    "tags": []
   },
   "outputs": [
    {
     "data": {
      "text/html": [
       "<div>\n",
       "<style scoped>\n",
       "    .dataframe tbody tr th:only-of-type {\n",
       "        vertical-align: middle;\n",
       "    }\n",
       "\n",
       "    .dataframe tbody tr th {\n",
       "        vertical-align: top;\n",
       "    }\n",
       "\n",
       "    .dataframe thead th {\n",
       "        text-align: right;\n",
       "    }\n",
       "</style>\n",
       "<table border=\"1\" class=\"dataframe\">\n",
       "  <thead>\n",
       "    <tr style=\"text-align: right;\">\n",
       "      <th></th>\n",
       "      <th>dev</th>\n",
       "      <th>count</th>\n",
       "      <th>mean</th>\n",
       "      <th>std</th>\n",
       "      <th>min</th>\n",
       "      <th>25%</th>\n",
       "      <th>50%</th>\n",
       "      <th>75%</th>\n",
       "      <th>max</th>\n",
       "    </tr>\n",
       "  </thead>\n",
       "  <tbody>\n",
       "    <tr>\n",
       "      <th>966</th>\n",
       "      <td>Rockstar North</td>\n",
       "      <td>14</td>\n",
       "      <td>9.18</td>\n",
       "      <td>0.66</td>\n",
       "      <td>7.5</td>\n",
       "      <td>9.00</td>\n",
       "      <td>9.20</td>\n",
       "      <td>9.67</td>\n",
       "      <td>10.0</td>\n",
       "    </tr>\n",
       "    <tr>\n",
       "      <th>61</th>\n",
       "      <td>Naughty Dog Software</td>\n",
       "      <td>21</td>\n",
       "      <td>8.99</td>\n",
       "      <td>0.80</td>\n",
       "      <td>7.5</td>\n",
       "      <td>8.50</td>\n",
       "      <td>9.00</td>\n",
       "      <td>9.50</td>\n",
       "      <td>10.0</td>\n",
       "    </tr>\n",
       "    <tr>\n",
       "      <th>231</th>\n",
       "      <td>Turn 10 Studios</td>\n",
       "      <td>15</td>\n",
       "      <td>8.85</td>\n",
       "      <td>0.76</td>\n",
       "      <td>6.5</td>\n",
       "      <td>8.85</td>\n",
       "      <td>9.00</td>\n",
       "      <td>9.30</td>\n",
       "      <td>9.6</td>\n",
       "    </tr>\n",
       "    <tr>\n",
       "      <th>1621</th>\n",
       "      <td>Santa Monica Studio</td>\n",
       "      <td>11</td>\n",
       "      <td>8.68</td>\n",
       "      <td>1.05</td>\n",
       "      <td>6.9</td>\n",
       "      <td>7.90</td>\n",
       "      <td>8.80</td>\n",
       "      <td>9.55</td>\n",
       "      <td>10.0</td>\n",
       "    </tr>\n",
       "    <tr>\n",
       "      <th>567</th>\n",
       "      <td>Kojima Productions [2005-2015]</td>\n",
       "      <td>12</td>\n",
       "      <td>8.63</td>\n",
       "      <td>1.11</td>\n",
       "      <td>6.5</td>\n",
       "      <td>7.92</td>\n",
       "      <td>8.90</td>\n",
       "      <td>9.57</td>\n",
       "      <td>10.0</td>\n",
       "    </tr>\n",
       "    <tr>\n",
       "      <th>123</th>\n",
       "      <td>Sports Interactive (SI Interactive)</td>\n",
       "      <td>14</td>\n",
       "      <td>8.59</td>\n",
       "      <td>0.55</td>\n",
       "      <td>7.5</td>\n",
       "      <td>8.05</td>\n",
       "      <td>8.80</td>\n",
       "      <td>9.00</td>\n",
       "      <td>9.3</td>\n",
       "    </tr>\n",
       "    <tr>\n",
       "      <th>1413</th>\n",
       "      <td>Valve</td>\n",
       "      <td>22</td>\n",
       "      <td>8.57</td>\n",
       "      <td>0.89</td>\n",
       "      <td>7.0</td>\n",
       "      <td>8.00</td>\n",
       "      <td>8.50</td>\n",
       "      <td>9.40</td>\n",
       "      <td>10.0</td>\n",
       "    </tr>\n",
       "    <tr>\n",
       "      <th>491</th>\n",
       "      <td>Sucker Punch</td>\n",
       "      <td>11</td>\n",
       "      <td>8.56</td>\n",
       "      <td>0.59</td>\n",
       "      <td>7.5</td>\n",
       "      <td>8.30</td>\n",
       "      <td>8.70</td>\n",
       "      <td>9.00</td>\n",
       "      <td>9.2</td>\n",
       "    </tr>\n",
       "    <tr>\n",
       "      <th>295</th>\n",
       "      <td>Epic Games</td>\n",
       "      <td>22</td>\n",
       "      <td>8.52</td>\n",
       "      <td>0.77</td>\n",
       "      <td>6.5</td>\n",
       "      <td>8.05</td>\n",
       "      <td>8.55</td>\n",
       "      <td>9.00</td>\n",
       "      <td>9.6</td>\n",
       "    </tr>\n",
       "    <tr>\n",
       "      <th>176</th>\n",
       "      <td>Arkane Studios</td>\n",
       "      <td>11</td>\n",
       "      <td>8.43</td>\n",
       "      <td>0.76</td>\n",
       "      <td>7.5</td>\n",
       "      <td>8.00</td>\n",
       "      <td>8.00</td>\n",
       "      <td>9.00</td>\n",
       "      <td>10.0</td>\n",
       "    </tr>\n",
       "  </tbody>\n",
       "</table>\n",
       "</div>"
      ],
      "text/plain": [
       "                                      dev  count  mean   std  min   25%   50%  \\\n",
       "966                        Rockstar North     14  9.18  0.66  7.5  9.00  9.20   \n",
       "61                   Naughty Dog Software     21  8.99  0.80  7.5  8.50  9.00   \n",
       "231                       Turn 10 Studios     15  8.85  0.76  6.5  8.85  9.00   \n",
       "1621                  Santa Monica Studio     11  8.68  1.05  6.9  7.90  8.80   \n",
       "567        Kojima Productions [2005-2015]     12  8.63  1.11  6.5  7.92  8.90   \n",
       "123   Sports Interactive (SI Interactive)     14  8.59  0.55  7.5  8.05  8.80   \n",
       "1413                                Valve     22  8.57  0.89  7.0  8.00  8.50   \n",
       "491                          Sucker Punch     11  8.56  0.59  7.5  8.30  8.70   \n",
       "295                            Epic Games     22  8.52  0.77  6.5  8.05  8.55   \n",
       "176                        Arkane Studios     11  8.43  0.76  7.5  8.00  8.00   \n",
       "\n",
       "       75%   max  \n",
       "966   9.67  10.0  \n",
       "61    9.50  10.0  \n",
       "231   9.30   9.6  \n",
       "1621  9.55  10.0  \n",
       "567   9.57  10.0  \n",
       "123   9.00   9.3  \n",
       "1413  9.40  10.0  \n",
       "491   9.00   9.2  \n",
       "295   9.00   9.6  \n",
       "176   9.00  10.0  "
      ]
     },
     "execution_count": 384,
     "metadata": {},
     "output_type": "execute_result"
    }
   ],
   "source": [
    "devs_df[devs_df['count'] > 10].sort_values('mean', ascending=False)[:10].round(2)"
   ]
  },
  {
   "cell_type": "code",
   "execution_count": 385,
   "id": "4d8c97b8-e719-442a-9f0b-f549edc1bee0",
   "metadata": {
    "collapsed": true,
    "jupyter": {
     "outputs_hidden": true
    },
    "tags": []
   },
   "outputs": [
    {
     "data": {
      "text/html": [
       "<div>\n",
       "<style scoped>\n",
       "    .dataframe tbody tr th:only-of-type {\n",
       "        vertical-align: middle;\n",
       "    }\n",
       "\n",
       "    .dataframe tbody tr th {\n",
       "        vertical-align: top;\n",
       "    }\n",
       "\n",
       "    .dataframe thead th {\n",
       "        text-align: right;\n",
       "    }\n",
       "</style>\n",
       "<table border=\"1\" class=\"dataframe\">\n",
       "  <thead>\n",
       "    <tr style=\"text-align: right;\">\n",
       "      <th></th>\n",
       "      <th>dev</th>\n",
       "      <th>count</th>\n",
       "      <th>mean</th>\n",
       "      <th>std</th>\n",
       "      <th>min</th>\n",
       "      <th>25%</th>\n",
       "      <th>50%</th>\n",
       "      <th>75%</th>\n",
       "      <th>max</th>\n",
       "    </tr>\n",
       "  </thead>\n",
       "  <tbody>\n",
       "    <tr>\n",
       "      <th>438</th>\n",
       "      <td>Data Design Interactive</td>\n",
       "      <td>24</td>\n",
       "      <td>2.07</td>\n",
       "      <td>1.22</td>\n",
       "      <td>0.8</td>\n",
       "      <td>1.00</td>\n",
       "      <td>2.0</td>\n",
       "      <td>2.92</td>\n",
       "      <td>6.0</td>\n",
       "    </tr>\n",
       "    <tr>\n",
       "      <th>16</th>\n",
       "      <td>Digital Leisure</td>\n",
       "      <td>11</td>\n",
       "      <td>4.70</td>\n",
       "      <td>1.86</td>\n",
       "      <td>2.0</td>\n",
       "      <td>3.00</td>\n",
       "      <td>4.5</td>\n",
       "      <td>6.75</td>\n",
       "      <td>7.2</td>\n",
       "    </tr>\n",
       "    <tr>\n",
       "      <th>394</th>\n",
       "      <td>Sensory Sweep</td>\n",
       "      <td>13</td>\n",
       "      <td>4.87</td>\n",
       "      <td>1.89</td>\n",
       "      <td>1.9</td>\n",
       "      <td>3.00</td>\n",
       "      <td>5.5</td>\n",
       "      <td>6.40</td>\n",
       "      <td>7.5</td>\n",
       "    </tr>\n",
       "    <tr>\n",
       "      <th>1334</th>\n",
       "      <td>Takara</td>\n",
       "      <td>14</td>\n",
       "      <td>4.96</td>\n",
       "      <td>1.96</td>\n",
       "      <td>1.5</td>\n",
       "      <td>3.38</td>\n",
       "      <td>5.5</td>\n",
       "      <td>6.38</td>\n",
       "      <td>7.5</td>\n",
       "    </tr>\n",
       "    <tr>\n",
       "      <th>163</th>\n",
       "      <td>Neko Entertainment</td>\n",
       "      <td>14</td>\n",
       "      <td>5.04</td>\n",
       "      <td>1.85</td>\n",
       "      <td>2.5</td>\n",
       "      <td>3.25</td>\n",
       "      <td>5.3</td>\n",
       "      <td>6.38</td>\n",
       "      <td>8.0</td>\n",
       "    </tr>\n",
       "    <tr>\n",
       "      <th>113</th>\n",
       "      <td>HB Studios</td>\n",
       "      <td>11</td>\n",
       "      <td>5.14</td>\n",
       "      <td>2.41</td>\n",
       "      <td>1.5</td>\n",
       "      <td>2.65</td>\n",
       "      <td>5.5</td>\n",
       "      <td>7.00</td>\n",
       "      <td>8.3</td>\n",
       "    </tr>\n",
       "    <tr>\n",
       "      <th>216</th>\n",
       "      <td>FarSight Studios</td>\n",
       "      <td>15</td>\n",
       "      <td>5.19</td>\n",
       "      <td>2.37</td>\n",
       "      <td>1.0</td>\n",
       "      <td>3.25</td>\n",
       "      <td>5.5</td>\n",
       "      <td>7.00</td>\n",
       "      <td>8.5</td>\n",
       "    </tr>\n",
       "    <tr>\n",
       "      <th>90</th>\n",
       "      <td>3DO</td>\n",
       "      <td>34</td>\n",
       "      <td>5.22</td>\n",
       "      <td>1.74</td>\n",
       "      <td>2.5</td>\n",
       "      <td>4.00</td>\n",
       "      <td>4.9</td>\n",
       "      <td>7.00</td>\n",
       "      <td>8.4</td>\n",
       "    </tr>\n",
       "    <tr>\n",
       "      <th>937</th>\n",
       "      <td>CI Games</td>\n",
       "      <td>14</td>\n",
       "      <td>5.24</td>\n",
       "      <td>1.35</td>\n",
       "      <td>3.0</td>\n",
       "      <td>4.50</td>\n",
       "      <td>5.0</td>\n",
       "      <td>6.00</td>\n",
       "      <td>7.4</td>\n",
       "    </tr>\n",
       "    <tr>\n",
       "      <th>1012</th>\n",
       "      <td>Acclaim Entertainment</td>\n",
       "      <td>14</td>\n",
       "      <td>5.41</td>\n",
       "      <td>1.77</td>\n",
       "      <td>2.1</td>\n",
       "      <td>4.22</td>\n",
       "      <td>5.0</td>\n",
       "      <td>6.82</td>\n",
       "      <td>8.7</td>\n",
       "    </tr>\n",
       "  </tbody>\n",
       "</table>\n",
       "</div>"
      ],
      "text/plain": [
       "                          dev  count  mean   std  min   25%  50%   75%  max\n",
       "438   Data Design Interactive     24  2.07  1.22  0.8  1.00  2.0  2.92  6.0\n",
       "16            Digital Leisure     11  4.70  1.86  2.0  3.00  4.5  6.75  7.2\n",
       "394             Sensory Sweep     13  4.87  1.89  1.9  3.00  5.5  6.40  7.5\n",
       "1334                   Takara     14  4.96  1.96  1.5  3.38  5.5  6.38  7.5\n",
       "163        Neko Entertainment     14  5.04  1.85  2.5  3.25  5.3  6.38  8.0\n",
       "113                HB Studios     11  5.14  2.41  1.5  2.65  5.5  7.00  8.3\n",
       "216          FarSight Studios     15  5.19  2.37  1.0  3.25  5.5  7.00  8.5\n",
       "90                        3DO     34  5.22  1.74  2.5  4.00  4.9  7.00  8.4\n",
       "937                  CI Games     14  5.24  1.35  3.0  4.50  5.0  6.00  7.4\n",
       "1012    Acclaim Entertainment     14  5.41  1.77  2.1  4.22  5.0  6.82  8.7"
      ]
     },
     "execution_count": 385,
     "metadata": {},
     "output_type": "execute_result"
    }
   ],
   "source": [
    "devs_df[devs_df['count'] > 10].sort_values('mean', ascending=True)[:10].round(2)"
   ]
  },
  {
   "cell_type": "markdown",
   "id": "11d4a384-aa04-4a4a-b41c-1ed167bf95bd",
   "metadata": {},
   "source": [
    "## Analytics of time series"
   ]
  },
  {
   "cell_type": "code",
   "execution_count": 430,
   "id": "bbc83183-3c0f-4183-bbb7-6abb7d2160a2",
   "metadata": {},
   "outputs": [
    {
     "data": {
      "text/html": [
       "<div>\n",
       "<style scoped>\n",
       "    .dataframe tbody tr th:only-of-type {\n",
       "        vertical-align: middle;\n",
       "    }\n",
       "\n",
       "    .dataframe tbody tr th {\n",
       "        vertical-align: top;\n",
       "    }\n",
       "\n",
       "    .dataframe thead th {\n",
       "        text-align: right;\n",
       "    }\n",
       "</style>\n",
       "<table border=\"1\" class=\"dataframe\">\n",
       "  <thead>\n",
       "    <tr style=\"text-align: right;\">\n",
       "      <th></th>\n",
       "      <th>game</th>\n",
       "      <th>developers</th>\n",
       "      <th>publishers</th>\n",
       "      <th>franchises</th>\n",
       "      <th>features</th>\n",
       "      <th>released_date</th>\n",
       "      <th>platform</th>\n",
       "      <th>genres</th>\n",
       "      <th>score</th>\n",
       "      <th>score_text</th>\n",
       "      <th>esrb</th>\n",
       "      <th>esrb_info</th>\n",
       "    </tr>\n",
       "  </thead>\n",
       "  <tbody>\n",
       "    <tr>\n",
       "      <th>0</th>\n",
       "      <td>Magic &amp; Mayhem</td>\n",
       "      <td>['Mythos Games']</td>\n",
       "      <td>['Bethesda  Softworks']</td>\n",
       "      <td>NaN</td>\n",
       "      <td>['Memory Card', 'Online']</td>\n",
       "      <td>1999-05-15 00:00:00</td>\n",
       "      <td>[PC]</td>\n",
       "      <td>['Strategy']</td>\n",
       "      <td>7.3</td>\n",
       "      <td>good</td>\n",
       "      <td>Teen</td>\n",
       "      <td>['Animated Violence']</td>\n",
       "    </tr>\n",
       "    <tr>\n",
       "      <th>1</th>\n",
       "      <td>Fishing Master [2007]</td>\n",
       "      <td>['Hudson Soft']</td>\n",
       "      <td>['Konami', 'Hudson Soft']</td>\n",
       "      <td>NaN</td>\n",
       "      <td>['Number Of Players', 'Local - VS # of Players']</td>\n",
       "      <td>2006-03-29 00:00:00</td>\n",
       "      <td>[Wii]</td>\n",
       "      <td>['Hunting']</td>\n",
       "      <td>5.5</td>\n",
       "      <td>mediocre</td>\n",
       "      <td>Everyone</td>\n",
       "      <td>['Mild Language']</td>\n",
       "    </tr>\n",
       "    <tr>\n",
       "      <th>2</th>\n",
       "      <td>Far Cry 2</td>\n",
       "      <td>['Gameloft', 'Ubisoft Montreal']</td>\n",
       "      <td>['Ubisoft', 'Gameloft']</td>\n",
       "      <td>['Far Cry']</td>\n",
       "      <td>['Memory Card', 'Vibration', 'DualShock', 'Mem...</td>\n",
       "      <td>2008-10-21 00:00:00</td>\n",
       "      <td>[Luna, PC, Wireless, Xbox 360, PlayStation 3]</td>\n",
       "      <td>['Shooter']</td>\n",
       "      <td>8.9</td>\n",
       "      <td>great</td>\n",
       "      <td>Mature</td>\n",
       "      <td>['Intense Violence', 'Drug Reference', 'Strong...</td>\n",
       "    </tr>\n",
       "    <tr>\n",
       "      <th>3</th>\n",
       "      <td>Pro 18: World Tour Golf</td>\n",
       "      <td>['Psygnosis']</td>\n",
       "      <td>['Psygnosis', 'Electro Source']</td>\n",
       "      <td>NaN</td>\n",
       "      <td>['Number Of Players', 'Memory Card', 'Online']</td>\n",
       "      <td>1999-03-31 00:00:00</td>\n",
       "      <td>[PC, PlayStation]</td>\n",
       "      <td>['Sports']</td>\n",
       "      <td>3.0</td>\n",
       "      <td>awful</td>\n",
       "      <td>Everyone</td>\n",
       "      <td>['Suitable for Persons Ages Six and Older', 'N...</td>\n",
       "    </tr>\n",
       "    <tr>\n",
       "      <th>4</th>\n",
       "      <td>Bust A Groove</td>\n",
       "      <td>['Metro Corporation (aka Metro Graphics)']</td>\n",
       "      <td>['Sony Computer Entertainment', 'Enix', '989 S...</td>\n",
       "      <td>['Bust a Groove']</td>\n",
       "      <td>['Number Of Players', 'Memory Card', 'Vibration']</td>\n",
       "      <td>1998-04-27 00:00:00</td>\n",
       "      <td>[PlayStation]</td>\n",
       "      <td>['Action', 'Music']</td>\n",
       "      <td>9.0</td>\n",
       "      <td>amazing</td>\n",
       "      <td>Everyone</td>\n",
       "      <td>['Mild Language']</td>\n",
       "    </tr>\n",
       "  </tbody>\n",
       "</table>\n",
       "</div>"
      ],
      "text/plain": [
       "                      game                                  developers  \\\n",
       "0           Magic & Mayhem                            ['Mythos Games']   \n",
       "1    Fishing Master [2007]                             ['Hudson Soft']   \n",
       "2                Far Cry 2            ['Gameloft', 'Ubisoft Montreal']   \n",
       "3  Pro 18: World Tour Golf                               ['Psygnosis']   \n",
       "4            Bust A Groove  ['Metro Corporation (aka Metro Graphics)']   \n",
       "\n",
       "                                          publishers         franchises  \\\n",
       "0                            ['Bethesda  Softworks']                NaN   \n",
       "1                          ['Konami', 'Hudson Soft']                NaN   \n",
       "2                            ['Ubisoft', 'Gameloft']        ['Far Cry']   \n",
       "3                    ['Psygnosis', 'Electro Source']                NaN   \n",
       "4  ['Sony Computer Entertainment', 'Enix', '989 S...  ['Bust a Groove']   \n",
       "\n",
       "                                            features        released_date  \\\n",
       "0                          ['Memory Card', 'Online']  1999-05-15 00:00:00   \n",
       "1   ['Number Of Players', 'Local - VS # of Players']  2006-03-29 00:00:00   \n",
       "2  ['Memory Card', 'Vibration', 'DualShock', 'Mem...  2008-10-21 00:00:00   \n",
       "3     ['Number Of Players', 'Memory Card', 'Online']  1999-03-31 00:00:00   \n",
       "4  ['Number Of Players', 'Memory Card', 'Vibration']  1998-04-27 00:00:00   \n",
       "\n",
       "                                        platform               genres  score  \\\n",
       "0                                           [PC]         ['Strategy']    7.3   \n",
       "1                                          [Wii]          ['Hunting']    5.5   \n",
       "2  [Luna, PC, Wireless, Xbox 360, PlayStation 3]          ['Shooter']    8.9   \n",
       "3                              [PC, PlayStation]           ['Sports']    3.0   \n",
       "4                                  [PlayStation]  ['Action', 'Music']    9.0   \n",
       "\n",
       "  score_text      esrb                                          esrb_info  \n",
       "0       good      Teen                              ['Animated Violence']  \n",
       "1   mediocre  Everyone                                  ['Mild Language']  \n",
       "2      great    Mature  ['Intense Violence', 'Drug Reference', 'Strong...  \n",
       "3      awful  Everyone  ['Suitable for Persons Ages Six and Older', 'N...  \n",
       "4    amazing  Everyone                                  ['Mild Language']  "
      ]
     },
     "execution_count": 430,
     "metadata": {},
     "output_type": "execute_result"
    }
   ],
   "source": [
    "dfDates.head()"
   ]
  },
  {
   "cell_type": "code",
   "execution_count": null,
   "id": "71a3ef94-4bf8-49e7-a884-8891022365f4",
   "metadata": {},
   "outputs": [],
   "source": []
  }
 ],
 "metadata": {
  "kernelspec": {
   "display_name": "Python 3 (ipykernel)",
   "language": "python",
   "name": "python3"
  },
  "language_info": {
   "codemirror_mode": {
    "name": "ipython",
    "version": 3
   },
   "file_extension": ".py",
   "mimetype": "text/x-python",
   "name": "python",
   "nbconvert_exporter": "python",
   "pygments_lexer": "ipython3",
   "version": "3.9.7"
  }
 },
 "nbformat": 4,
 "nbformat_minor": 5
}
