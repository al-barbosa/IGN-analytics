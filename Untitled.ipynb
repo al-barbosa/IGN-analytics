{
 "cells": [
  {
   "cell_type": "code",
   "execution_count": 2,
   "id": "2be53205-5163-4e3e-b4da-cb04e417f7dd",
   "metadata": {},
   "outputs": [],
   "source": [
    "import pandas as pd\n",
    "import matplotlib.pyplot as plt\n",
    "import numpy as np\n",
    "import scipy.stats as stats\n",
    "import seaborn as sns\n",
    "from datetime import datetime\n",
    "plt.style.use('fivethirtyeight')"
   ]
  },
  {
   "cell_type": "code",
   "execution_count": 3,
   "id": "507fbb73-f55a-498a-b885-f12e8da31af7",
   "metadata": {},
   "outputs": [
    {
     "data": {
      "text/plain": [
       "(11362, 12)"
      ]
     },
     "execution_count": 3,
     "metadata": {},
     "output_type": "execute_result"
    }
   ],
   "source": [
    "df = pd.read_csv('IGN_data', index_col=0)\n",
    "df.shape"
   ]
  },
  {
   "cell_type": "code",
   "execution_count": 4,
   "id": "9af04349-a9f2-4816-b0fa-1cec8ead9fef",
   "metadata": {},
   "outputs": [
    {
     "data": {
      "text/html": [
       "<div>\n",
       "<style scoped>\n",
       "    .dataframe tbody tr th:only-of-type {\n",
       "        vertical-align: middle;\n",
       "    }\n",
       "\n",
       "    .dataframe tbody tr th {\n",
       "        vertical-align: top;\n",
       "    }\n",
       "\n",
       "    .dataframe thead th {\n",
       "        text-align: right;\n",
       "    }\n",
       "</style>\n",
       "<table border=\"1\" class=\"dataframe\">\n",
       "  <thead>\n",
       "    <tr style=\"text-align: right;\">\n",
       "      <th></th>\n",
       "      <th>game</th>\n",
       "      <th>developers</th>\n",
       "      <th>publishers</th>\n",
       "      <th>franchises</th>\n",
       "      <th>features</th>\n",
       "      <th>released_date</th>\n",
       "      <th>platform</th>\n",
       "      <th>genres</th>\n",
       "      <th>score</th>\n",
       "      <th>score_text</th>\n",
       "      <th>esrb</th>\n",
       "      <th>esrb_info</th>\n",
       "    </tr>\n",
       "  </thead>\n",
       "  <tbody>\n",
       "    <tr>\n",
       "      <th>0</th>\n",
       "      <td>Magic &amp; Mayhem</td>\n",
       "      <td>['Mythos Games']</td>\n",
       "      <td>['Bethesda  Softworks']</td>\n",
       "      <td>NaN</td>\n",
       "      <td>['Memory Card', 'Online']</td>\n",
       "      <td>1999-05-15 00:00:00</td>\n",
       "      <td>['PC']</td>\n",
       "      <td>['Strategy']</td>\n",
       "      <td>7.3</td>\n",
       "      <td>good</td>\n",
       "      <td>Teen</td>\n",
       "      <td>['Animated Violence']</td>\n",
       "    </tr>\n",
       "    <tr>\n",
       "      <th>1</th>\n",
       "      <td>Fishing Master [2007]</td>\n",
       "      <td>['Hudson Soft']</td>\n",
       "      <td>['Konami', 'Hudson Soft']</td>\n",
       "      <td>NaN</td>\n",
       "      <td>['Number Of Players', 'Local - VS # of Players']</td>\n",
       "      <td>2006-03-29 00:00:00</td>\n",
       "      <td>['Wii']</td>\n",
       "      <td>['Hunting']</td>\n",
       "      <td>5.5</td>\n",
       "      <td>mediocre</td>\n",
       "      <td>Everyone</td>\n",
       "      <td>['Mild Language']</td>\n",
       "    </tr>\n",
       "    <tr>\n",
       "      <th>2</th>\n",
       "      <td>Far Cry 2</td>\n",
       "      <td>['Gameloft', 'Ubisoft Montreal']</td>\n",
       "      <td>['Ubisoft', 'Gameloft']</td>\n",
       "      <td>['Far Cry']</td>\n",
       "      <td>['Memory Card', 'Vibration', 'DualShock', 'Mem...</td>\n",
       "      <td>2008-10-21 00:00:00</td>\n",
       "      <td>['Luna', 'PC', 'Wireless', 'Xbox 360', 'PlaySt...</td>\n",
       "      <td>['Shooter']</td>\n",
       "      <td>8.9</td>\n",
       "      <td>great</td>\n",
       "      <td>Mature</td>\n",
       "      <td>['Intense Violence', 'Drug Reference', 'Strong...</td>\n",
       "    </tr>\n",
       "    <tr>\n",
       "      <th>3</th>\n",
       "      <td>Pro 18: World Tour Golf</td>\n",
       "      <td>['Psygnosis']</td>\n",
       "      <td>['Psygnosis', 'Electro Source']</td>\n",
       "      <td>NaN</td>\n",
       "      <td>['Number Of Players', 'Memory Card', 'Online']</td>\n",
       "      <td>1999-03-31 00:00:00</td>\n",
       "      <td>['PC', 'PlayStation']</td>\n",
       "      <td>['Sports']</td>\n",
       "      <td>3.0</td>\n",
       "      <td>awful</td>\n",
       "      <td>Everyone</td>\n",
       "      <td>['Suitable for Persons Ages Six and Older', 'N...</td>\n",
       "    </tr>\n",
       "    <tr>\n",
       "      <th>4</th>\n",
       "      <td>Bust A Groove</td>\n",
       "      <td>['Metro Corporation (aka Metro Graphics)']</td>\n",
       "      <td>['Sony Computer Entertainment', 'Enix', '989 S...</td>\n",
       "      <td>['Bust a Groove']</td>\n",
       "      <td>['Number Of Players', 'Memory Card', 'Vibration']</td>\n",
       "      <td>1998-04-27 00:00:00</td>\n",
       "      <td>['PlayStation']</td>\n",
       "      <td>['Action', 'Music']</td>\n",
       "      <td>9.0</td>\n",
       "      <td>amazing</td>\n",
       "      <td>Everyone</td>\n",
       "      <td>['Mild Language']</td>\n",
       "    </tr>\n",
       "  </tbody>\n",
       "</table>\n",
       "</div>"
      ],
      "text/plain": [
       "                      game                                  developers  \\\n",
       "0           Magic & Mayhem                            ['Mythos Games']   \n",
       "1    Fishing Master [2007]                             ['Hudson Soft']   \n",
       "2                Far Cry 2            ['Gameloft', 'Ubisoft Montreal']   \n",
       "3  Pro 18: World Tour Golf                               ['Psygnosis']   \n",
       "4            Bust A Groove  ['Metro Corporation (aka Metro Graphics)']   \n",
       "\n",
       "                                          publishers         franchises  \\\n",
       "0                            ['Bethesda  Softworks']                NaN   \n",
       "1                          ['Konami', 'Hudson Soft']                NaN   \n",
       "2                            ['Ubisoft', 'Gameloft']        ['Far Cry']   \n",
       "3                    ['Psygnosis', 'Electro Source']                NaN   \n",
       "4  ['Sony Computer Entertainment', 'Enix', '989 S...  ['Bust a Groove']   \n",
       "\n",
       "                                            features        released_date  \\\n",
       "0                          ['Memory Card', 'Online']  1999-05-15 00:00:00   \n",
       "1   ['Number Of Players', 'Local - VS # of Players']  2006-03-29 00:00:00   \n",
       "2  ['Memory Card', 'Vibration', 'DualShock', 'Mem...  2008-10-21 00:00:00   \n",
       "3     ['Number Of Players', 'Memory Card', 'Online']  1999-03-31 00:00:00   \n",
       "4  ['Number Of Players', 'Memory Card', 'Vibration']  1998-04-27 00:00:00   \n",
       "\n",
       "                                            platform               genres  \\\n",
       "0                                             ['PC']         ['Strategy']   \n",
       "1                                            ['Wii']          ['Hunting']   \n",
       "2  ['Luna', 'PC', 'Wireless', 'Xbox 360', 'PlaySt...          ['Shooter']   \n",
       "3                              ['PC', 'PlayStation']           ['Sports']   \n",
       "4                                    ['PlayStation']  ['Action', 'Music']   \n",
       "\n",
       "   score score_text      esrb  \\\n",
       "0    7.3       good      Teen   \n",
       "1    5.5   mediocre  Everyone   \n",
       "2    8.9      great    Mature   \n",
       "3    3.0      awful  Everyone   \n",
       "4    9.0    amazing  Everyone   \n",
       "\n",
       "                                           esrb_info  \n",
       "0                              ['Animated Violence']  \n",
       "1                                  ['Mild Language']  \n",
       "2  ['Intense Violence', 'Drug Reference', 'Strong...  \n",
       "3  ['Suitable for Persons Ages Six and Older', 'N...  \n",
       "4                                  ['Mild Language']  "
      ]
     },
     "execution_count": 4,
     "metadata": {},
     "output_type": "execute_result"
    }
   ],
   "source": [
    "df.head()"
   ]
  },
  {
   "cell_type": "markdown",
   "id": "02c36fb3-99e5-484d-b57d-1e81f2258ac7",
   "metadata": {
    "jp-MarkdownHeadingCollapsed": true,
    "tags": []
   },
   "source": [
    "### Creating and cleaning specific dataframes for each subject."
   ]
  },
  {
   "cell_type": "markdown",
   "id": "6e85774e-3e35-42b4-8895-8b4eb462de79",
   "metadata": {},
   "source": [
    "First of, its better to create specific dataframes for each subject of interest. In this way, we'll be sure that in each one there'll be the data that we need."
   ]
  },
  {
   "cell_type": "markdown",
   "id": "1a69522c-b2ce-4597-b6f9-3bfb63e8e0a4",
   "metadata": {},
   "source": [
    "For this analyse, we'll be looking into data related to the games by console, by developer, by franchase and by date."
   ]
  },
  {
   "cell_type": "markdown",
   "id": "42dac98d-7e3f-4299-8082-04622de617c8",
   "metadata": {},
   "source": [
    "One important step is to transform the string in those fields back to list. For these, first we take off all the null values. We'll not be doing this step for platforms since all the rows have an assigned value there. Since released date is not supposed to be list, we'll not deal with it right now."
   ]
  },
  {
   "cell_type": "code",
   "execution_count": 5,
   "id": "303b8cb0-b6fc-47e5-88cf-76e4b53078ba",
   "metadata": {},
   "outputs": [],
   "source": [
    "dfDev = df\n",
    "dfDev = dfDev[dfDev.developers.notna()]\n",
    "dfFran = df\n",
    "dfFran = dfFran[dfFran.franchises.notna()]\n",
    "dfDates = df\n",
    "dfDates = dfDates[dfDates.released_date.notna()]"
   ]
  },
  {
   "cell_type": "code",
   "execution_count": 6,
   "id": "92909ea1-56a7-4b5a-95c2-ce3b05e4dacd",
   "metadata": {
    "tags": []
   },
   "outputs": [
    {
     "name": "stderr",
     "output_type": "stream",
     "text": [
      "/var/folders/19/95z41cms6y99z9crn3jgx_l00000gn/T/ipykernel_5980/1914082695.py:2: SettingWithCopyWarning: \n",
      "A value is trying to be set on a copy of a slice from a DataFrame.\n",
      "Try using .loc[row_indexer,col_indexer] = value instead\n",
      "\n",
      "See the caveats in the documentation: https://pandas.pydata.org/pandas-docs/stable/user_guide/indexing.html#returning-a-view-versus-a-copy\n",
      "  dfDev['developers'] = dfDev['developers'].apply(eval)\n",
      "/var/folders/19/95z41cms6y99z9crn3jgx_l00000gn/T/ipykernel_5980/1914082695.py:3: SettingWithCopyWarning: \n",
      "A value is trying to be set on a copy of a slice from a DataFrame.\n",
      "Try using .loc[row_indexer,col_indexer] = value instead\n",
      "\n",
      "See the caveats in the documentation: https://pandas.pydata.org/pandas-docs/stable/user_guide/indexing.html#returning-a-view-versus-a-copy\n",
      "  dfFran['franchises'] = dfFran['franchises'].apply(eval)\n"
     ]
    }
   ],
   "source": [
    "df['platform'] = df['platform'].apply(eval)\n",
    "dfDev['developers'] = dfDev['developers'].apply(eval)\n",
    "dfFran['franchises'] = dfFran['franchises'].apply(eval)"
   ]
  },
  {
   "cell_type": "markdown",
   "id": "301c0690-7727-469c-b798-da3b594b8785",
   "metadata": {},
   "source": [
    "We have a problem with the released date, it is in string when it should be in datetime. Before we fix this, let's check if the date is right on the surface by ordering then from oldest to newest."
   ]
  },
  {
   "cell_type": "code",
   "execution_count": 7,
   "id": "ea832f73-5272-4bf9-b8f3-e7b13fe64d39",
   "metadata": {
    "tags": []
   },
   "outputs": [
    {
     "data": {
      "text/html": [
       "<div>\n",
       "<style scoped>\n",
       "    .dataframe tbody tr th:only-of-type {\n",
       "        vertical-align: middle;\n",
       "    }\n",
       "\n",
       "    .dataframe tbody tr th {\n",
       "        vertical-align: top;\n",
       "    }\n",
       "\n",
       "    .dataframe thead th {\n",
       "        text-align: right;\n",
       "    }\n",
       "</style>\n",
       "<table border=\"1\" class=\"dataframe\">\n",
       "  <thead>\n",
       "    <tr style=\"text-align: right;\">\n",
       "      <th></th>\n",
       "      <th>game</th>\n",
       "      <th>developers</th>\n",
       "      <th>publishers</th>\n",
       "      <th>franchises</th>\n",
       "      <th>features</th>\n",
       "      <th>released_date</th>\n",
       "      <th>platform</th>\n",
       "      <th>genres</th>\n",
       "      <th>score</th>\n",
       "      <th>score_text</th>\n",
       "      <th>esrb</th>\n",
       "      <th>esrb_info</th>\n",
       "    </tr>\n",
       "  </thead>\n",
       "  <tbody>\n",
       "    <tr>\n",
       "      <th>5686</th>\n",
       "      <td>Gemini Rue</td>\n",
       "      <td>['Independent', 'Wadjet Eye Games']</td>\n",
       "      <td>['Wadjet Eye Games']</td>\n",
       "      <td>NaN</td>\n",
       "      <td>['Number Of Players']</td>\n",
       "      <td>0201-12-17 00:00:00</td>\n",
       "      <td>['iPhone', 'PC', 'Macintosh', 'Android']</td>\n",
       "      <td>['Adventure']</td>\n",
       "      <td>9.0</td>\n",
       "      <td>amazing</td>\n",
       "      <td>NaN</td>\n",
       "      <td>NaN</td>\n",
       "    </tr>\n",
       "    <tr>\n",
       "      <th>5184</th>\n",
       "      <td>Wings</td>\n",
       "      <td>['Unknown', 'Cinemaware', 'Crawfish Interactive']</td>\n",
       "      <td>['Electra', 'Cinemaware', 'ACE (2)', 'Metro 3D...</td>\n",
       "      <td>NaN</td>\n",
       "      <td>['Number Of Players', 'Cartridge Save', 'Multi...</td>\n",
       "      <td>1976-12-31 00:00:00</td>\n",
       "      <td>['Game Boy Advance', 'Arcade', 'Atari 2600']</td>\n",
       "      <td>['Shooter', 'Other', 'Action']</td>\n",
       "      <td>7.5</td>\n",
       "      <td>good</td>\n",
       "      <td>NaN</td>\n",
       "      <td>NaN</td>\n",
       "    </tr>\n",
       "    <tr>\n",
       "      <th>9417</th>\n",
       "      <td>Super Breakout</td>\n",
       "      <td>['Atari Inc. (1972-1984)', 'Atari', 'Majesco']</td>\n",
       "      <td>['Majesco', 'Glu Mobile', 'Atari Inc. (1972-19...</td>\n",
       "      <td>['Breakout']</td>\n",
       "      <td>NaN</td>\n",
       "      <td>1978-09-01 00:00:00</td>\n",
       "      <td>['iPhone', 'Game Boy Color', 'Atari 5200', 'At...</td>\n",
       "      <td>['Action']</td>\n",
       "      <td>4.0</td>\n",
       "      <td>bad</td>\n",
       "      <td>NaN</td>\n",
       "      <td>NaN</td>\n",
       "    </tr>\n",
       "    <tr>\n",
       "      <th>2362</th>\n",
       "      <td>Space Invaders</td>\n",
       "      <td>['Digital Bridges', 'Atari Inc. (1972-1984)', ...</td>\n",
       "      <td>['Nintendo', 'Digital Bridges', 'Atari Inc. (1...</td>\n",
       "      <td>['Space Invaders']</td>\n",
       "      <td>['Memory Card', 'Offline Versus Multiplayer']</td>\n",
       "      <td>1978-12-31 00:00:00</td>\n",
       "      <td>['Wireless', 'Wii', 'Super Nintendo Entertainm...</td>\n",
       "      <td>['Shooter', 'SHMUP']</td>\n",
       "      <td>4.0</td>\n",
       "      <td>bad</td>\n",
       "      <td>Everyone</td>\n",
       "      <td>['Mild Animated Violence', 'No Descriptors']</td>\n",
       "    </tr>\n",
       "    <tr>\n",
       "      <th>733</th>\n",
       "      <td>Battlezone [1980]</td>\n",
       "      <td>['Black Pearl', 'Atari', 'Atari Inc. (1972-198...</td>\n",
       "      <td>['THQ', 'Atari', 'Atari Inc. (1972-1984)']</td>\n",
       "      <td>['Battlezone']</td>\n",
       "      <td>['1080i', '16:9', 'Online', '720p', 'Gaming Ca...</td>\n",
       "      <td>1980-06-01 00:00:00</td>\n",
       "      <td>['PC', 'Xbox 360', 'Commodore 64/128', 'Atari ...</td>\n",
       "      <td>['Shooter', 'Action', 'Other']</td>\n",
       "      <td>6.0</td>\n",
       "      <td>okay</td>\n",
       "      <td>NaN</td>\n",
       "      <td>NaN</td>\n",
       "    </tr>\n",
       "    <tr>\n",
       "      <th>...</th>\n",
       "      <td>...</td>\n",
       "      <td>...</td>\n",
       "      <td>...</td>\n",
       "      <td>...</td>\n",
       "      <td>...</td>\n",
       "      <td>...</td>\n",
       "      <td>...</td>\n",
       "      <td>...</td>\n",
       "      <td>...</td>\n",
       "      <td>...</td>\n",
       "      <td>...</td>\n",
       "      <td>...</td>\n",
       "    </tr>\n",
       "    <tr>\n",
       "      <th>8013</th>\n",
       "      <td>Isonzo</td>\n",
       "      <td>['Blackmill Games']</td>\n",
       "      <td>['M2H']</td>\n",
       "      <td>['WW1 Game Series [Blackmill Games]']</td>\n",
       "      <td>['Online Versus Multiplayer']</td>\n",
       "      <td>2022-09-13 00:00:00</td>\n",
       "      <td>['Xbox One', 'PlayStation 4', 'Xbox Series X|S...</td>\n",
       "      <td>['Shooter', 'First-Person']</td>\n",
       "      <td>7.0</td>\n",
       "      <td>good</td>\n",
       "      <td>Mature</td>\n",
       "      <td>['Blood and Gore', 'Intense Violence', ' Users...</td>\n",
       "    </tr>\n",
       "    <tr>\n",
       "      <th>272</th>\n",
       "      <td>Metal: Hellsinger</td>\n",
       "      <td>['The Outsiders']</td>\n",
       "      <td>['Funcom']</td>\n",
       "      <td>NaN</td>\n",
       "      <td>['Online Leaderboards']</td>\n",
       "      <td>2022-09-15 00:00:00</td>\n",
       "      <td>['Xbox Series X|S', 'Xbox One', 'PlayStation 5...</td>\n",
       "      <td>['Music', 'Shooter', 'First-Person']</td>\n",
       "      <td>7.0</td>\n",
       "      <td>good</td>\n",
       "      <td>Teen</td>\n",
       "      <td>['Blood', 'Use of Tobacco', 'Violence']</td>\n",
       "    </tr>\n",
       "    <tr>\n",
       "      <th>898</th>\n",
       "      <td>Return to Monkey Island</td>\n",
       "      <td>['Terrible Toybox']</td>\n",
       "      <td>['Devolver Digital']</td>\n",
       "      <td>['Monkey Island']</td>\n",
       "      <td>NaN</td>\n",
       "      <td>2022-09-19 00:00:00</td>\n",
       "      <td>['Nintendo Switch', 'PC']</td>\n",
       "      <td>['Adventure']</td>\n",
       "      <td>9.0</td>\n",
       "      <td>amazing</td>\n",
       "      <td>Teen</td>\n",
       "      <td>['Fantasy Violence', 'Alcohol Reference']</td>\n",
       "    </tr>\n",
       "    <tr>\n",
       "      <th>904</th>\n",
       "      <td>Soulstice</td>\n",
       "      <td>['Reply Game Studios']</td>\n",
       "      <td>['Modus Games']</td>\n",
       "      <td>NaN</td>\n",
       "      <td>NaN</td>\n",
       "      <td>2022-09-20 00:00:00</td>\n",
       "      <td>['PC', 'PlayStation 5', 'Xbox Series X|S']</td>\n",
       "      <td>['Action', 'Soulslike']</td>\n",
       "      <td>5.0</td>\n",
       "      <td>mediocre</td>\n",
       "      <td>Mature</td>\n",
       "      <td>['Violence', 'Blood and Gore', 'Nudity']</td>\n",
       "    </tr>\n",
       "    <tr>\n",
       "      <th>810</th>\n",
       "      <td>Mount &amp; Blade II: Bannerlord</td>\n",
       "      <td>['Taleworlds']</td>\n",
       "      <td>['Taleworlds']</td>\n",
       "      <td>['Mount and Blade']</td>\n",
       "      <td>['Number Of Players', 'Online - VS Number Of P...</td>\n",
       "      <td>2022-10-25 00:00:00</td>\n",
       "      <td>['PlayStation 5', 'Xbox One', 'Xbox Series X|S...</td>\n",
       "      <td>['RPG']</td>\n",
       "      <td>8.0</td>\n",
       "      <td>great</td>\n",
       "      <td>Rating Pending</td>\n",
       "      <td>NaN</td>\n",
       "    </tr>\n",
       "  </tbody>\n",
       "</table>\n",
       "<p>11307 rows × 12 columns</p>\n",
       "</div>"
      ],
      "text/plain": [
       "                              game  \\\n",
       "5686                    Gemini Rue   \n",
       "5184                         Wings   \n",
       "9417                Super Breakout   \n",
       "2362                Space Invaders   \n",
       "733              Battlezone [1980]   \n",
       "...                            ...   \n",
       "8013                        Isonzo   \n",
       "272              Metal: Hellsinger   \n",
       "898        Return to Monkey Island   \n",
       "904                      Soulstice   \n",
       "810   Mount & Blade II: Bannerlord   \n",
       "\n",
       "                                             developers  \\\n",
       "5686                ['Independent', 'Wadjet Eye Games']   \n",
       "5184  ['Unknown', 'Cinemaware', 'Crawfish Interactive']   \n",
       "9417     ['Atari Inc. (1972-1984)', 'Atari', 'Majesco']   \n",
       "2362  ['Digital Bridges', 'Atari Inc. (1972-1984)', ...   \n",
       "733   ['Black Pearl', 'Atari', 'Atari Inc. (1972-198...   \n",
       "...                                                 ...   \n",
       "8013                                ['Blackmill Games']   \n",
       "272                                   ['The Outsiders']   \n",
       "898                                 ['Terrible Toybox']   \n",
       "904                              ['Reply Game Studios']   \n",
       "810                                      ['Taleworlds']   \n",
       "\n",
       "                                             publishers  \\\n",
       "5686                               ['Wadjet Eye Games']   \n",
       "5184  ['Electra', 'Cinemaware', 'ACE (2)', 'Metro 3D...   \n",
       "9417  ['Majesco', 'Glu Mobile', 'Atari Inc. (1972-19...   \n",
       "2362  ['Nintendo', 'Digital Bridges', 'Atari Inc. (1...   \n",
       "733          ['THQ', 'Atari', 'Atari Inc. (1972-1984)']   \n",
       "...                                                 ...   \n",
       "8013                                            ['M2H']   \n",
       "272                                          ['Funcom']   \n",
       "898                                ['Devolver Digital']   \n",
       "904                                     ['Modus Games']   \n",
       "810                                      ['Taleworlds']   \n",
       "\n",
       "                                 franchises  \\\n",
       "5686                                    NaN   \n",
       "5184                                    NaN   \n",
       "9417                           ['Breakout']   \n",
       "2362                     ['Space Invaders']   \n",
       "733                          ['Battlezone']   \n",
       "...                                     ...   \n",
       "8013  ['WW1 Game Series [Blackmill Games]']   \n",
       "272                                     NaN   \n",
       "898                       ['Monkey Island']   \n",
       "904                                     NaN   \n",
       "810                     ['Mount and Blade']   \n",
       "\n",
       "                                               features        released_date  \\\n",
       "5686                              ['Number Of Players']  0201-12-17 00:00:00   \n",
       "5184  ['Number Of Players', 'Cartridge Save', 'Multi...  1976-12-31 00:00:00   \n",
       "9417                                                NaN  1978-09-01 00:00:00   \n",
       "2362      ['Memory Card', 'Offline Versus Multiplayer']  1978-12-31 00:00:00   \n",
       "733   ['1080i', '16:9', 'Online', '720p', 'Gaming Ca...  1980-06-01 00:00:00   \n",
       "...                                                 ...                  ...   \n",
       "8013                      ['Online Versus Multiplayer']  2022-09-13 00:00:00   \n",
       "272                             ['Online Leaderboards']  2022-09-15 00:00:00   \n",
       "898                                                 NaN  2022-09-19 00:00:00   \n",
       "904                                                 NaN  2022-09-20 00:00:00   \n",
       "810   ['Number Of Players', 'Online - VS Number Of P...  2022-10-25 00:00:00   \n",
       "\n",
       "                                               platform  \\\n",
       "5686           ['iPhone', 'PC', 'Macintosh', 'Android']   \n",
       "5184       ['Game Boy Advance', 'Arcade', 'Atari 2600']   \n",
       "9417  ['iPhone', 'Game Boy Color', 'Atari 5200', 'At...   \n",
       "2362  ['Wireless', 'Wii', 'Super Nintendo Entertainm...   \n",
       "733   ['PC', 'Xbox 360', 'Commodore 64/128', 'Atari ...   \n",
       "...                                                 ...   \n",
       "8013  ['Xbox One', 'PlayStation 4', 'Xbox Series X|S...   \n",
       "272   ['Xbox Series X|S', 'Xbox One', 'PlayStation 5...   \n",
       "898                           ['Nintendo Switch', 'PC']   \n",
       "904          ['PC', 'PlayStation 5', 'Xbox Series X|S']   \n",
       "810   ['PlayStation 5', 'Xbox One', 'Xbox Series X|S...   \n",
       "\n",
       "                                    genres  score score_text            esrb  \\\n",
       "5686                         ['Adventure']    9.0    amazing             NaN   \n",
       "5184        ['Shooter', 'Other', 'Action']    7.5       good             NaN   \n",
       "9417                            ['Action']    4.0        bad             NaN   \n",
       "2362                  ['Shooter', 'SHMUP']    4.0        bad        Everyone   \n",
       "733         ['Shooter', 'Action', 'Other']    6.0       okay             NaN   \n",
       "...                                    ...    ...        ...             ...   \n",
       "8013           ['Shooter', 'First-Person']    7.0       good          Mature   \n",
       "272   ['Music', 'Shooter', 'First-Person']    7.0       good            Teen   \n",
       "898                          ['Adventure']    9.0    amazing            Teen   \n",
       "904                ['Action', 'Soulslike']    5.0   mediocre          Mature   \n",
       "810                                ['RPG']    8.0      great  Rating Pending   \n",
       "\n",
       "                                              esrb_info  \n",
       "5686                                                NaN  \n",
       "5184                                                NaN  \n",
       "9417                                                NaN  \n",
       "2362       ['Mild Animated Violence', 'No Descriptors']  \n",
       "733                                                 NaN  \n",
       "...                                                 ...  \n",
       "8013  ['Blood and Gore', 'Intense Violence', ' Users...  \n",
       "272             ['Blood', 'Use of Tobacco', 'Violence']  \n",
       "898           ['Fantasy Violence', 'Alcohol Reference']  \n",
       "904            ['Violence', 'Blood and Gore', 'Nudity']  \n",
       "810                                                 NaN  \n",
       "\n",
       "[11307 rows x 12 columns]"
      ]
     },
     "execution_count": 7,
     "metadata": {},
     "output_type": "execute_result"
    }
   ],
   "source": [
    "dfDates.sort_values('released_date')"
   ]
  },
  {
   "cell_type": "markdown",
   "id": "1cd72ac3-27a6-4c07-b8d7-75a1b0cbdd0a",
   "metadata": {},
   "source": [
    "As you can see, we have a game released on the year of 201. Checking on Google we see that this is (obviously) a mistake, and Gemini Rue was actually released on 2011. Let's change this."
   ]
  },
  {
   "cell_type": "code",
   "execution_count": 8,
   "id": "437a8640-4067-4347-b63c-ce96da48308c",
   "metadata": {},
   "outputs": [
    {
     "data": {
      "text/html": [
       "<div>\n",
       "<style scoped>\n",
       "    .dataframe tbody tr th:only-of-type {\n",
       "        vertical-align: middle;\n",
       "    }\n",
       "\n",
       "    .dataframe tbody tr th {\n",
       "        vertical-align: top;\n",
       "    }\n",
       "\n",
       "    .dataframe thead th {\n",
       "        text-align: right;\n",
       "    }\n",
       "</style>\n",
       "<table border=\"1\" class=\"dataframe\">\n",
       "  <thead>\n",
       "    <tr style=\"text-align: right;\">\n",
       "      <th></th>\n",
       "      <th>game</th>\n",
       "      <th>developers</th>\n",
       "      <th>publishers</th>\n",
       "      <th>franchises</th>\n",
       "      <th>features</th>\n",
       "      <th>released_date</th>\n",
       "      <th>platform</th>\n",
       "      <th>genres</th>\n",
       "      <th>score</th>\n",
       "      <th>score_text</th>\n",
       "      <th>esrb</th>\n",
       "      <th>esrb_info</th>\n",
       "    </tr>\n",
       "  </thead>\n",
       "  <tbody>\n",
       "    <tr>\n",
       "      <th>5686</th>\n",
       "      <td>Gemini Rue</td>\n",
       "      <td>['Independent', 'Wadjet Eye Games']</td>\n",
       "      <td>['Wadjet Eye Games']</td>\n",
       "      <td>NaN</td>\n",
       "      <td>['Number Of Players']</td>\n",
       "      <td>2011-12-17 00:00:00</td>\n",
       "      <td>['iPhone', 'PC', 'Macintosh', 'Android']</td>\n",
       "      <td>['Adventure']</td>\n",
       "      <td>9.0</td>\n",
       "      <td>amazing</td>\n",
       "      <td>NaN</td>\n",
       "      <td>NaN</td>\n",
       "    </tr>\n",
       "  </tbody>\n",
       "</table>\n",
       "</div>"
      ],
      "text/plain": [
       "            game                           developers            publishers  \\\n",
       "5686  Gemini Rue  ['Independent', 'Wadjet Eye Games']  ['Wadjet Eye Games']   \n",
       "\n",
       "     franchises               features        released_date  \\\n",
       "5686        NaN  ['Number Of Players']  2011-12-17 00:00:00   \n",
       "\n",
       "                                      platform         genres  score  \\\n",
       "5686  ['iPhone', 'PC', 'Macintosh', 'Android']  ['Adventure']    9.0   \n",
       "\n",
       "     score_text esrb esrb_info  \n",
       "5686    amazing  NaN       NaN  "
      ]
     },
     "execution_count": 8,
     "metadata": {},
     "output_type": "execute_result"
    }
   ],
   "source": [
    "dfDates.loc[5686, 'released_date'] = '2011-12-17 00:00:00'\n",
    "dfDates[dfDates.game == 'Gemini Rue']"
   ]
  },
  {
   "cell_type": "code",
   "execution_count": 9,
   "id": "34815ff5-d969-40ca-81b7-0ff0a21638a5",
   "metadata": {},
   "outputs": [],
   "source": [
    "def time_convert(old_time_string):\n",
    "    return datetime.strptime(old_time_string[:10], '%Y-%m-%d')\n",
    "def time_convert_year_month(old_time_string):\n",
    "    return datetime.strptime(old_time_string[:7], '%Y-%m')"
   ]
  },
  {
   "cell_type": "code",
   "execution_count": 10,
   "id": "d2f48c40-ae6b-405a-b066-f876a2206d97",
   "metadata": {
    "tags": []
   },
   "outputs": [
    {
     "name": "stderr",
     "output_type": "stream",
     "text": [
      "/var/folders/19/95z41cms6y99z9crn3jgx_l00000gn/T/ipykernel_5980/3518294371.py:1: SettingWithCopyWarning: \n",
      "A value is trying to be set on a copy of a slice from a DataFrame.\n",
      "Try using .loc[row_indexer,col_indexer] = value instead\n",
      "\n",
      "See the caveats in the documentation: https://pandas.pydata.org/pandas-docs/stable/user_guide/indexing.html#returning-a-view-versus-a-copy\n",
      "  dfDates['date'] = dfDates['released_date'].apply(time_convert)\n",
      "/var/folders/19/95z41cms6y99z9crn3jgx_l00000gn/T/ipykernel_5980/3518294371.py:2: SettingWithCopyWarning: \n",
      "A value is trying to be set on a copy of a slice from a DataFrame.\n",
      "Try using .loc[row_indexer,col_indexer] = value instead\n",
      "\n",
      "See the caveats in the documentation: https://pandas.pydata.org/pandas-docs/stable/user_guide/indexing.html#returning-a-view-versus-a-copy\n",
      "  dfDates['year_month'] = dfDates['released_date'].apply(time_convert_year_month)\n"
     ]
    }
   ],
   "source": [
    "dfDates['date'] = dfDates['released_date'].apply(time_convert)\n",
    "dfDates['year_month'] = dfDates['released_date'].apply(time_convert_year_month)"
   ]
  },
  {
   "cell_type": "markdown",
   "id": "b9c46882-d803-4070-90ac-278ab7eef702",
   "metadata": {
    "tags": []
   },
   "source": [
    "## Warning before we start:"
   ]
  },
  {
   "cell_type": "markdown",
   "id": "158c06d8-4600-42cb-9ab8-72b1197bf579",
   "metadata": {},
   "source": [
    "This database was created based on the reviewed games by IGN through the years. So every time that we talk about, for example, \"how many games were released for the PlayStation 4\", we're talking about how many games reviewed by IGN were released for PS4. We mention this here so we don't have to worry about pointing this out in every step. Also, it's fair to say that, by the size and age of the website and the size of the dataframe, all the major games were analyzed. To see the distribution of games per year of release, check the \"Analytics of time series\" section."
   ]
  },
  {
   "cell_type": "markdown",
   "id": "5974a6c3-2970-4506-a3cf-7e7fe81b7363",
   "metadata": {
    "jp-MarkdownHeadingCollapsed": true,
    "tags": []
   },
   "source": [
    "## Analytics of listed games by plataform"
   ]
  },
  {
   "cell_type": "markdown",
   "id": "f40b5c35-6cf8-4b27-9afd-9d5ae8ecd11b",
   "metadata": {},
   "source": [
    "First of, let's start by checking how many games were released by platform. Quantity doesn't always translates into quality, but it's a good start point."
   ]
  },
  {
   "cell_type": "code",
   "execution_count": 11,
   "id": "f752d4fa-3e9c-47c7-94f3-359d0d5ba62b",
   "metadata": {
    "tags": []
   },
   "outputs": [],
   "source": [
    "plataform_dict = {}\n",
    "for i in df.platform:\n",
    "    for j in i:\n",
    "        if j not in plataform_dict:\n",
    "            plataform_dict[j] = 1\n",
    "        else:\n",
    "            plataform_dict[j] += 1"
   ]
  },
  {
   "cell_type": "markdown",
   "id": "7b867b51-78c7-4b31-b7e0-828f702111a6",
   "metadata": {},
   "source": [
    "Thinking in the idea of doing a graphic of these data, let's change the PlayStation name for the abbreviation so we save space in a future X axis."
   ]
  },
  {
   "cell_type": "code",
   "execution_count": 12,
   "id": "c7989847-04d6-4eb0-bd82-e3a2c755a54f",
   "metadata": {
    "tags": []
   },
   "outputs": [
    {
     "data": {
      "text/plain": [
       "{'PC': 5389,\n",
       " 'Wii': 1459,\n",
       " 'Luna': 24,\n",
       " 'Wireless': 309,\n",
       " 'Xbox 360': 1846,\n",
       " 'Xbox One': 1231,\n",
       " 'PlayStation Vita': 328,\n",
       " 'GameCube': 580,\n",
       " 'Xbox': 896,\n",
       " 'Dreamcast': 327,\n",
       " 'PlayStation 5': 261,\n",
       " 'Game Boy Advance': 636,\n",
       " 'Nintendo DS': 438,\n",
       " 'Stadia': 156,\n",
       " 'Nintendo Switch': 908,\n",
       " 'Android': 393,\n",
       " 'iPhone': 1201,\n",
       " 'Nintendo 3DS': 386,\n",
       " 'Xbox Series X|S': 256,\n",
       " 'Wii U': 441,\n",
       " 'Macintosh': 939,\n",
       " 'Nintendo 64': 325,\n",
       " 'Game Boy Color': 100,\n",
       " 'Sega CD': 13,\n",
       " 'Game Boy': 89,\n",
       " 'NES': 145,\n",
       " 'Super Nintendo Entertainment System': 121,\n",
       " 'Game Gear': 33,\n",
       " 'Genesis': 114,\n",
       " 'Arcade': 317,\n",
       " 'Saturn': 152,\n",
       " 'Windows Phone': 70,\n",
       " 'Commodore 64/128': 50,\n",
       " 'Sega 32X': 7,\n",
       " 'Atari 2600': 31,\n",
       " 'NeoGeo CD': 23,\n",
       " 'NeoGeo': 34,\n",
       " 'Windows Surface': 3,\n",
       " 'DVD / HD Video Game': 4,\n",
       " 'NeoGeo Pocket Color': 3,\n",
       " 'Atari 5200': 18,\n",
       " 'Atari Lynx': 13,\n",
       " 'Atari 7800': 14,\n",
       " 'Jaguar': 10,\n",
       " 'SteamOS': 2,\n",
       " 'PSP': 945,\n",
       " 'PS1': 1001,\n",
       " 'PS2': 1792,\n",
       " 'PS3': 2013,\n",
       " 'PS4': 1561}"
      ]
     },
     "execution_count": 12,
     "metadata": {},
     "output_type": "execute_result"
    }
   ],
   "source": [
    "plataform_dict['PSP'] = plataform_dict.pop('PlayStation Portable')\n",
    "plataform_dict['PS1'] = plataform_dict.pop('PlayStation')\n",
    "plataform_dict['PS2'] = plataform_dict.pop('PlayStation 2')\n",
    "plataform_dict['PS3'] = plataform_dict.pop('PlayStation 3')\n",
    "plataform_dict['PS4'] = plataform_dict.pop('PlayStation 4')\n",
    "plataform_dict"
   ]
  },
  {
   "cell_type": "markdown",
   "id": "63af6e62-1e12-4b6c-b4ac-15335cfb23d0",
   "metadata": {},
   "source": [
    "Since we have a lot of different consoles, let's focus on the top 10."
   ]
  },
  {
   "cell_type": "code",
   "execution_count": 22,
   "id": "b1ff5340-b010-4601-a830-d6fcc727c7da",
   "metadata": {},
   "outputs": [
    {
     "data": {
      "text/plain": [
       "[('PSP', 945),\n",
       " ('PS1', 1001),\n",
       " ('iPhone', 1201),\n",
       " ('Xbox One', 1231),\n",
       " ('Wii', 1459),\n",
       " ('PS4', 1561),\n",
       " ('PS2', 1792),\n",
       " ('Xbox 360', 1846),\n",
       " ('PS3', 2013),\n",
       " ('PC', 5389)]"
      ]
     },
     "execution_count": 22,
     "metadata": {},
     "output_type": "execute_result"
    }
   ],
   "source": [
    "consoles_with_most_games = sorted(plataform_dict.items(), key = lambda kv: (kv[1], kv[0]))[-10:]\n",
    "consoles_with_most_games"
   ]
  },
  {
   "cell_type": "markdown",
   "id": "96f6078b-5fa7-49dd-b1ad-a0eb1e8de210",
   "metadata": {},
   "source": [
    "Unsurprisingly, the PC is the absolute winner, after all bare in mind that he was there for all the different console generations. In second place we have consoles of the seventh generation (we'll see later that reflects the number of released games by date). It's intersting to note that of this top 10, five Sony's console are present, the only absence being the PSVita."
   ]
  },
  {
   "cell_type": "markdown",
   "id": "ffa5f0ef-a97b-4b86-9acb-6eaced76dfd2",
   "metadata": {},
   "source": [
    "Another point is that we have only one Nintendo console, which can be explained by the fact that the lack of multi platform games coming to their consoles who normally have weaker hardware."
   ]
  },
  {
   "cell_type": "markdown",
   "id": "ecb95c5f-fd82-4be6-b91a-b9757e147813",
   "metadata": {},
   "source": [
    "Also, considering the more access restricted hardware, it's surprising to see iPhone above Android."
   ]
  },
  {
   "cell_type": "markdown",
   "id": "b6e0e281-7c39-4001-b2dc-a02fa6b5f864",
   "metadata": {},
   "source": [
    "#### Let's work now on creating a data to use in the graphic."
   ]
  },
  {
   "cell_type": "code",
   "execution_count": 23,
   "id": "caf51f47-d41b-4b5e-90ec-2cd1a1d14b35",
   "metadata": {},
   "outputs": [],
   "source": [
    "console = []\n",
    "l_games = []\n",
    "for i, j in consoles_with_most_games:\n",
    "    console.insert(0, i)\n",
    "    l_games.insert(0, j)"
   ]
  },
  {
   "cell_type": "code",
   "execution_count": 24,
   "id": "6ff1a942-1fca-42a4-8f51-b12c722aec27",
   "metadata": {},
   "outputs": [],
   "source": [
    "console = ['PC',\n",
    " 'PS3',\n",
    " 'Xbox 360',\n",
    " 'PS2',\n",
    " 'PS4',\n",
    " 'Wii',\n",
    " 'Xbox One',\n",
    " 'iPhone',\n",
    " 'PS1',\n",
    " 'PSP']"
   ]
  },
  {
   "cell_type": "code",
   "execution_count": 73,
   "id": "0d9650f7-8937-4e78-b1f0-0a357133b08f",
   "metadata": {},
   "outputs": [
    {
     "data": {
      "image/png": "[encoded data removed]",
      "text/plain": [
       "<Figure size 1080x576 with 1 Axes>"
      ]
     },
     "metadata": {},
     "output_type": "display_data"
    }
   ],
   "source": [
    "plt.style.use('fivethirtyeight')\n",
    "fig = plt.figure(figsize = (15,8))\n",
    "ax = fig.add_axes([0, 0, 0.6, 0.6])\n",
    "ax.set_title('Total games by console', fontdict = {'fontsize': 20}, pad = 15)\n",
    "ax.bar(console, l_games, color = ['#810f7c', '#008fd5', '#6d904f', '#008fd5', '#008fd5', '#fc4f30', '#6d904f', '#8b8b8b', '#008fd5', '#008fd5'])\n",
    "for k, v in consoles_with_most_games:\n",
    "    ax.text(k, v + 100, str(v), fontsize = 12)\n",
    "plt.show()"
   ]
  },
  {
   "cell_type": "markdown",
   "id": "8fe6a77a-9872-4dff-b902-75e64c085aa7",
   "metadata": {},
   "source": [
    "We mentioned earlier that the PlayStation family are the most present in the top 10. So it's worth ask: the sum of all their games enough to match the PC released games? To check this, we'll count the numbers of games released on a PlayStation console, making sure to not repeat the game if it was released more then once (for games like Ratchet & Clank: Size Matters, who was released on the PSP and PS2)."
   ]
  },
  {
   "cell_type": "code",
   "execution_count": 17,
   "id": "8116f138-3c47-46af-9a14-49fb11688a32",
   "metadata": {},
   "outputs": [
    {
     "data": {
      "text/plain": [
       "5389"
      ]
     },
     "execution_count": 17,
     "metadata": {},
     "output_type": "execute_result"
    }
   ],
   "source": [
    "PC_listed = 0\n",
    "for i, j in consoles_with_most_games[::]:\n",
    "    if 'PC' in i:\n",
    "        PC_listed += j\n",
    "PC_listed"
   ]
  },
  {
   "cell_type": "code",
   "execution_count": 18,
   "id": "b875fe15-c23d-47b5-b5ef-154ddda7a559",
   "metadata": {},
   "outputs": [
    {
     "data": {
      "text/plain": [
       "5965"
      ]
     },
     "execution_count": 18,
     "metadata": {},
     "output_type": "execute_result"
    }
   ],
   "source": [
    "PS_listed = 0\n",
    "for i in df.platform:\n",
    "    if (\"PlayStation\" in i) or (\"PlayStation 2\"  in i) or (\"PlayStation 3\"  in i) or (\"PlayStation 4\"  in i) or (\"PlayStation 5\"  in i) or (\"PlayStation Vita\"  in i) or (\"PlayStation Portable\"  in i):\n",
    "        PS_listed += 1\n",
    "PS_listed"
   ]
  },
  {
   "cell_type": "code",
   "execution_count": 19,
   "id": "c1cbbd5d-c553-4e69-bd20-1ca0155a0fd3",
   "metadata": {},
   "outputs": [
    {
     "name": "stdout",
     "output_type": "stream",
     "text": [
      "['PlayStation', 5965] \n",
      " ['PC', 5389]\n"
     ]
    }
   ],
   "source": [
    "PS_listed = ['PlayStation', PS_listed]\n",
    "PC_listed = ['PC', PC_listed]\n",
    "print(PS_listed, '\\n', PC_listed)"
   ]
  },
  {
   "cell_type": "code",
   "execution_count": 27,
   "id": "f0d2012f-f14c-4f29-9e88-b0405966135e",
   "metadata": {},
   "outputs": [
    {
     "data": {
      "text/plain": [
       "576"
      ]
     },
     "execution_count": 27,
     "metadata": {},
     "output_type": "execute_result"
    }
   ],
   "source": [
    "PS_listed[1] - PC_listed[1]"
   ]
  },
  {
   "cell_type": "code",
   "execution_count": 28,
   "id": "757ae983-11bf-4a26-a092-489236d5f991",
   "metadata": {},
   "outputs": [
    {
     "data": {
      "text/plain": [
       "10.69"
      ]
     },
     "execution_count": 28,
     "metadata": {},
     "output_type": "execute_result"
    }
   ],
   "source": [
    "np.round_(((PS_listed[1] - PC_listed[1]) / PC_listed[1]) * 100, 2)"
   ]
  },
  {
   "cell_type": "markdown",
   "id": "1b9d43f8-4435-43a2-8944-8b67c1d1496e",
   "metadata": {},
   "source": [
    "### **576**\n",
    "#### more games are listed for the PS family (5965) then for PC (5389).\n",
    "It's **10.69%** more. Considering that this is the sum of 5 table consoles e 2 portables, it's still surprising for the PC such low margin."
   ]
  },
  {
   "cell_type": "markdown",
   "id": "ca5baac7-ce3f-417b-aa18-7cd09c65ccbd",
   "metadata": {
    "jp-MarkdownHeadingCollapsed": true,
    "tags": []
   },
   "source": [
    "## Analytics of scores per platform"
   ]
  },
  {
   "cell_type": "markdown",
   "id": "1d313e1d-0de1-4d02-9abd-e61f12b7ba4d",
   "metadata": {},
   "source": [
    "We mentioned that \"quantity does not equals quality\", and although a large library can be a important fact in the decision making process of choose a new console, it counts even more how good are the released games."
   ]
  },
  {
   "cell_type": "markdown",
   "id": "5c75546a-b5bb-4c46-ac49-502bf777ac46",
   "metadata": {},
   "source": [
    "For starter, let's use two dataframes, one of them which the score of every game for each console and a second one with only those games who received 8 or more as a score (in both cases a game released for more than one console will count one time for each console) ."
   ]
  },
  {
   "cell_type": "code",
   "execution_count": 29,
   "id": "d1bf1a98-1158-4bf8-9e26-0da365e9adc2",
   "metadata": {},
   "outputs": [],
   "source": [
    "game_rate = []\n",
    "\n",
    "i = 0\n",
    "\n",
    "for game in df.game:\n",
    "    current_game = {}\n",
    "    current_game['game'] = game\n",
    "    for platform in df.iloc[i].platform:\n",
    "        current_game[platform] = float(df.iloc[i].score)\n",
    "    game_rate.append(current_game)\n",
    "    i += 1"
   ]
  },
  {
   "cell_type": "code",
   "execution_count": 30,
   "id": "9d14d1c9-2b0b-49e8-9cce-8c7d3c6344d6",
   "metadata": {},
   "outputs": [],
   "source": [
    "game_rate_8 = []\n",
    "\n",
    "i = 0\n",
    "\n",
    "for game in df.game:\n",
    "    if df.iloc[i].score >= 8:\n",
    "        current_game = {}\n",
    "        current_game['game'] = game\n",
    "        for platform in df.iloc[i].platform:\n",
    "            current_game[platform] = float(df.iloc[i].score)\n",
    "        game_rate_8.append(current_game)\n",
    "    i += 1"
   ]
  },
  {
   "cell_type": "code",
   "execution_count": 31,
   "id": "94bc5a01-a89d-4aee-a73f-05a237910a59",
   "metadata": {},
   "outputs": [
    {
     "data": {
      "text/plain": [
       "11362"
      ]
     },
     "execution_count": 31,
     "metadata": {},
     "output_type": "execute_result"
    }
   ],
   "source": [
    "len(game_rate)"
   ]
  },
  {
   "cell_type": "code",
   "execution_count": 32,
   "id": "1e187648-50e9-46a0-afdd-d1e4e8390131",
   "metadata": {},
   "outputs": [],
   "source": [
    "df_gamerates_8 = pd.DataFrame(game_rate_8)\n",
    "df_gamerates = pd.DataFrame(game_rate)"
   ]
  },
  {
   "cell_type": "markdown",
   "id": "46409907-521d-48fc-8377-385498994c3e",
   "metadata": {},
   "source": [
    "To avoid time with to unimportant data, let's select only consoles with, at least, 500 released games."
   ]
  },
  {
   "cell_type": "code",
   "execution_count": 33,
   "id": "7cfe237e-69a6-4297-92e2-b29260b1e8ba",
   "metadata": {},
   "outputs": [
    {
     "data": {
      "text/plain": [
       "Index(['game', 'PC', 'Wii', 'Xbox 360', 'PlayStation 3', 'PlayStation',\n",
       "       'PlayStation 2', 'PlayStation Portable', 'PlayStation 4', 'Xbox One',\n",
       "       'GameCube', 'Xbox', 'Game Boy Advance', 'Nintendo Switch', 'iPhone',\n",
       "       'Macintosh'],\n",
       "      dtype='object')"
      ]
     },
     "execution_count": 33,
     "metadata": {},
     "output_type": "execute_result"
    }
   ],
   "source": [
    "df_gamerates.count()[df_gamerates.count() > 500].index"
   ]
  },
  {
   "cell_type": "code",
   "execution_count": 40,
   "id": "02b6d1d9-1210-42ae-85aa-c0a91b86250a",
   "metadata": {},
   "outputs": [
    {
     "data": {
      "text/plain": [
       "Macintosh               7.616\n",
       "Nintendo Switch         7.547\n",
       "Xbox One                7.473\n",
       "PlayStation 4           7.468\n",
       "iPhone                  7.381\n",
       "PlayStation 3           7.208\n",
       "PC                      7.090\n",
       "Xbox                    7.020\n",
       "Xbox 360                7.014\n",
       "GameCube                6.949\n",
       "PlayStation Portable    6.829\n",
       "PlayStation 2           6.750\n",
       "Game Boy Advance        6.601\n",
       "PlayStation             6.589\n",
       "Wii                     6.339\n",
       "dtype: float64"
      ]
     },
     "execution_count": 40,
     "metadata": {},
     "output_type": "execute_result"
    }
   ],
   "source": [
    "df_gamerates[['PC', 'Wii', 'Xbox 360', 'PlayStation 3', 'PlayStation',\n",
    "       'PlayStation 2', 'PlayStation Portable', 'PlayStation 4', 'Xbox One',\n",
    "       'GameCube', 'Xbox', 'Game Boy Advance', 'Nintendo Switch', 'iPhone',\n",
    "       'Macintosh']].mean().sort_values(ascending=False).round(3)"
   ]
  },
  {
   "cell_type": "markdown",
   "id": "207d02b6-5529-4a69-a214-fb35571f7299",
   "metadata": {},
   "source": [
    "Surprisingly, Macintosh is the console with the highest mean. This can bee explained exactly by the lack of games. It requires certain effort to release a game in a market without a lot of gamers, this acts as a barrier of quality of the released games. \n",
    "We just saw that Nintendo only had the Wii in the top 10 of total released games per console, and although the Switch wasn't there, he shows up here in the second place.\n",
    "This result shows that in a superficial view, indeed, quantity does not egual quality."
   ]
  },
  {
   "cell_type": "markdown",
   "id": "f76e11b7-e44a-4b64-a3ad-d0bf83f2ccc0",
   "metadata": {},
   "source": [
    "A little confession: I'm no fanboy, but I did was surprised to see the PS2 in such low position. Let's dig into this question now."
   ]
  },
  {
   "cell_type": "markdown",
   "id": "79422185-23eb-43ce-8c09-12b07e7785ae",
   "metadata": {
    "tags": []
   },
   "source": [
    "### Sixth Generation"
   ]
  },
  {
   "cell_type": "code",
   "execution_count": 41,
   "id": "dad62078-9f72-44fe-985e-0cd5add0a0d6",
   "metadata": {},
   "outputs": [],
   "source": [
    "PS2_rates = df_gamerates['PlayStation 2'].dropna()\n",
    "X_rates = df_gamerates['Xbox'].dropna()\n",
    "GC_rates = df_gamerates['GameCube'].dropna()"
   ]
  },
  {
   "cell_type": "code",
   "execution_count": 43,
   "id": "b60cf458-9f91-46fb-9a7d-abbd5e19f1d4",
   "metadata": {},
   "outputs": [
    {
     "data": {
      "text/html": [
       "<div>\n",
       "<style scoped>\n",
       "    .dataframe tbody tr th:only-of-type {\n",
       "        vertical-align: middle;\n",
       "    }\n",
       "\n",
       "    .dataframe tbody tr th {\n",
       "        vertical-align: top;\n",
       "    }\n",
       "\n",
       "    .dataframe thead th {\n",
       "        text-align: right;\n",
       "    }\n",
       "</style>\n",
       "<table border=\"1\" class=\"dataframe\">\n",
       "  <thead>\n",
       "    <tr style=\"text-align: right;\">\n",
       "      <th></th>\n",
       "      <th>PlayStation 2</th>\n",
       "      <th>GameCube</th>\n",
       "      <th>Xbox</th>\n",
       "    </tr>\n",
       "  </thead>\n",
       "  <tbody>\n",
       "    <tr>\n",
       "      <th>count</th>\n",
       "      <td>1782.000</td>\n",
       "      <td>579.000</td>\n",
       "      <td>894.000</td>\n",
       "    </tr>\n",
       "    <tr>\n",
       "      <th>mean</th>\n",
       "      <td>6.750</td>\n",
       "      <td>6.949</td>\n",
       "      <td>7.020</td>\n",
       "    </tr>\n",
       "    <tr>\n",
       "      <th>std</th>\n",
       "      <td>1.801</td>\n",
       "      <td>1.727</td>\n",
       "      <td>1.759</td>\n",
       "    </tr>\n",
       "    <tr>\n",
       "      <th>min</th>\n",
       "      <td>0.800</td>\n",
       "      <td>1.100</td>\n",
       "      <td>1.000</td>\n",
       "    </tr>\n",
       "    <tr>\n",
       "      <th>25%</th>\n",
       "      <td>5.600</td>\n",
       "      <td>6.000</td>\n",
       "      <td>6.000</td>\n",
       "    </tr>\n",
       "    <tr>\n",
       "      <th>50%</th>\n",
       "      <td>7.000</td>\n",
       "      <td>7.200</td>\n",
       "      <td>7.400</td>\n",
       "    </tr>\n",
       "    <tr>\n",
       "      <th>75%</th>\n",
       "      <td>8.000</td>\n",
       "      <td>8.300</td>\n",
       "      <td>8.300</td>\n",
       "    </tr>\n",
       "    <tr>\n",
       "      <th>max</th>\n",
       "      <td>9.800</td>\n",
       "      <td>9.800</td>\n",
       "      <td>9.900</td>\n",
       "    </tr>\n",
       "  </tbody>\n",
       "</table>\n",
       "</div>"
      ],
      "text/plain": [
       "       PlayStation 2  GameCube     Xbox\n",
       "count       1782.000   579.000  894.000\n",
       "mean           6.750     6.949    7.020\n",
       "std            1.801     1.727    1.759\n",
       "min            0.800     1.100    1.000\n",
       "25%            5.600     6.000    6.000\n",
       "50%            7.000     7.200    7.400\n",
       "75%            8.000     8.300    8.300\n",
       "max            9.800     9.800    9.900"
      ]
     },
     "execution_count": 43,
     "metadata": {},
     "output_type": "execute_result"
    }
   ],
   "source": [
    "df_gamerates[['PlayStation 2', 'GameCube', 'Xbox']].describe().round(3)"
   ]
  },
  {
   "cell_type": "markdown",
   "id": "43e3ae7a-1825-48f1-b966-4ca8e1602ee1",
   "metadata": {},
   "source": [
    "First, starting from the end. No console had a 10 out of 10 score, with the closer one being the XBox with 9.9. This is surprising, considering that this generation had classics such as God of War, Halo 2 and Metroid Prime."
   ]
  },
  {
   "cell_type": "markdown",
   "id": "115ec648-2f1b-4790-b9fb-5af57d2f994c",
   "metadata": {},
   "source": [
    "We can also see here that the XBox was indeed the console with the higher mean in the sixth generation, followed by the GameCube. But there's important to pay attention: The PlayStation 2 has a higher number of released games, higher then the sum of the competition. This may reflect on the average score, perhaps the number of bad games are higher enough to drow the mean down, but maybe the number of good games are also higher. One clue that this might be the case can be found in the standart deviation of the PlayStation 2, which is slighty higher than those from XBox and GameCube."
   ]
  },
  {
   "cell_type": "markdown",
   "id": "69c50056-2a0f-460d-91b9-e7bece88ee2e",
   "metadata": {},
   "source": [
    "Before we check our hypothesis, let's visualize the distribution of scores and check if there's s statistical difference between the means."
   ]
  },
  {
   "cell_type": "code",
   "execution_count": 44,
   "id": "b1c39822-9cea-4a90-8d81-39bb1bc5f32a",
   "metadata": {},
   "outputs": [
    {
     "data": {
      "image/png": "[encoded data removed]",
      "text/plain": [
       "<Figure size 1080x576 with 1 Axes>"
      ]
     },
     "metadata": {},
     "output_type": "display_data"
    }
   ],
   "source": [
    "fig = plt.figure(figsize=(15,8))\n",
    "eixo = fig.add_axes([0, 0, 0.8, 0.8])\n",
    "sns.kdeplot(PS2_rates, color='#008fd5', shade=True, label='PlayStation 2')\n",
    "sns.kdeplot(GC_rates, color='#fc4f30', shade=True, label='GameCube')\n",
    "sns.kdeplot(X_rates, color='#6d904f', shade=True, label='XBox')\n",
    "eixo.legend()\n",
    "eixo.set_title('Density distribution of scores', fontdict={'fontsize': 20}, pad= 15)\n",
    "eixo.set_xlabel('', fontsize=15)\n",
    "eixo.set_ylabel('', fontsize=15)\n",
    "plt.show()"
   ]
  },
  {
   "cell_type": "code",
   "execution_count": 46,
   "id": "c9dbc72a-d579-4856-a068-c183f9ae6c89",
   "metadata": {},
   "outputs": [
    {
     "data": {
      "text/plain": [
       "99.958"
      ]
     },
     "execution_count": 46,
     "metadata": {},
     "output_type": "execute_result"
    }
   ],
   "source": [
    "tStat, pValue  = stats.f_oneway(PS2_rates, X_rates, GC_rates)\n",
    "((1-pValue)*100).round(3)"
   ]
  },
  {
   "cell_type": "markdown",
   "id": "81a1d3ee-8a8c-4dcf-936f-4a6f74a5b4fb",
   "metadata": {},
   "source": [
    "With the low p_value in the ANOVA test we can assume that there's a higher chance of the difference between the means be statistically significant. The question now lies the difference between two means. For this, we'll use a T-Test to compare, starting with the higher mean (XBox and GameCube) towards the lowest (GameCube and PlayStation 2)."
   ]
  },
  {
   "cell_type": "code",
   "execution_count": 47,
   "id": "d3b5d723-8792-4656-9ab9-c587596c97de",
   "metadata": {},
   "outputs": [
    {
     "data": {
      "text/plain": [
       "77.824"
      ]
     },
     "execution_count": 47,
     "metadata": {},
     "output_type": "execute_result"
    }
   ],
   "source": [
    "tStat, pValue  = stats.ttest_ind(X_rates, GC_rates, alternative='greater')\n",
    "((1-pValue)*100).round(3)"
   ]
  },
  {
   "cell_type": "markdown",
   "id": "bed0986f-7dc7-4d85-be9c-1071de1f7455",
   "metadata": {},
   "source": [
    "Since we have the confidence level of 77.82% we should not discard the null hypothesis. So it's safe to say that there's high indication that the means of the XBox and the GameCube follow in the same range."
   ]
  },
  {
   "cell_type": "code",
   "execution_count": 48,
   "id": "bceb5789-699b-4241-b588-7191d49beb9f",
   "metadata": {},
   "outputs": [
    {
     "data": {
      "text/plain": [
       "99.014"
      ]
     },
     "execution_count": 48,
     "metadata": {},
     "output_type": "execute_result"
    }
   ],
   "source": [
    "tStat, pValue  = stats.ttest_ind(GC_rates, PS2_rates, alternative='greater')\n",
    "((1-pValue)*100).round(3)"
   ]
  },
  {
   "cell_type": "markdown",
   "id": "59747874-3997-4f71-a479-35365c36d26d",
   "metadata": {},
   "source": [
    "With a 99.01% of confidence there's a lower chance that the difference of the mean between the PlayStation 2 and the GameCube is due to random chance."
   ]
  },
  {
   "cell_type": "markdown",
   "id": "bc421b95-42fe-4b15-a5fa-eaa232fa2e20",
   "metadata": {},
   "source": [
    "Since we already saw that there's a high chance that the mean of the GameCube and the PlayStation 2 are different, it's safe to assume that there'll be also a difference betweent the XBox and the PlayStation 2. Just to be sure, we procide with the analyses."
   ]
  },
  {
   "cell_type": "code",
   "execution_count": 49,
   "id": "9f4045c7-6b05-41ff-a0cf-be23d442e18d",
   "metadata": {},
   "outputs": [
    {
     "data": {
      "text/plain": [
       "99.989"
      ]
     },
     "execution_count": 49,
     "metadata": {},
     "output_type": "execute_result"
    }
   ],
   "source": [
    "tStat, pValue  = stats.ttest_ind(X_rates, PS2_rates, alternative='greater')\n",
    "((1-pValue)*100).round(3)"
   ]
  },
  {
   "cell_type": "markdown",
   "id": "fe426a35-ea97-4758-8ae9-4c061e6fab10",
   "metadata": {},
   "source": [
    "Here we have a 99.99% confidence there's a lower chance that the difference of the mean between the PlayStation 2 and the GameCube is due to random chance."
   ]
  },
  {
   "cell_type": "markdown",
   "id": "5c748b72-1eff-46a1-9e44-9c2a299e1869",
   "metadata": {},
   "source": [
    "Now, as mentioned before, the PlayStation 2 has more games than the XBox and the GameCube combined. So it's worth check how many of those were actually good (although 'good' is subjective, let's considere as good games with a score of 8 or higher)."
   ]
  },
  {
   "cell_type": "code",
   "execution_count": 50,
   "id": "3286681a-1a53-442c-922e-b8b7ec18f076",
   "metadata": {},
   "outputs": [
    {
     "data": {
      "text/plain": [
       "PlayStation 2    533\n",
       "Xbox             335\n",
       "GameCube         204\n",
       "dtype: int64"
      ]
     },
     "execution_count": 50,
     "metadata": {},
     "output_type": "execute_result"
    }
   ],
   "source": [
    "df_gamerates_8[['PlayStation 2', 'Xbox', 'GameCube']].count()"
   ]
  },
  {
   "cell_type": "markdown",
   "id": "acc5bf5f-61ee-493b-b9e5-3f4159179042",
   "metadata": {},
   "source": [
    "As we can see, the number of 'good' games in the PlayStation 2 is almost the combination of total 'good' games in the XBox and the GameCube. Since an average gamer won't be able to play every single game in the console, maybe the number of 'good' ones counts more then the total mean."
   ]
  },
  {
   "cell_type": "markdown",
   "id": "a385a635-46b6-4032-9c05-73a17d3ee1a0",
   "metadata": {},
   "source": [
    "### Seventh Generation"
   ]
  },
  {
   "cell_type": "code",
   "execution_count": 51,
   "id": "597427d4-ba5f-4929-acfd-021d129ee21d",
   "metadata": {},
   "outputs": [],
   "source": [
    "PS3_rates = df_gamerates['PlayStation 3'].dropna()\n",
    "X360_rates = df_gamerates['Xbox 360'].dropna()\n",
    "Wii_rates = df_gamerates['Wii'].dropna()"
   ]
  },
  {
   "cell_type": "code",
   "execution_count": 52,
   "id": "096336ad-014b-4b4f-b88a-c90e9bb0fa34",
   "metadata": {
    "tags": []
   },
   "outputs": [
    {
     "data": {
      "text/html": [
       "<div>\n",
       "<style scoped>\n",
       "    .dataframe tbody tr th:only-of-type {\n",
       "        vertical-align: middle;\n",
       "    }\n",
       "\n",
       "    .dataframe tbody tr th {\n",
       "        vertical-align: top;\n",
       "    }\n",
       "\n",
       "    .dataframe thead th {\n",
       "        text-align: right;\n",
       "    }\n",
       "</style>\n",
       "<table border=\"1\" class=\"dataframe\">\n",
       "  <thead>\n",
       "    <tr style=\"text-align: right;\">\n",
       "      <th></th>\n",
       "      <th>Wii</th>\n",
       "      <th>Xbox 360</th>\n",
       "      <th>PlayStation 3</th>\n",
       "    </tr>\n",
       "  </thead>\n",
       "  <tbody>\n",
       "    <tr>\n",
       "      <th>count</th>\n",
       "      <td>1455.000</td>\n",
       "      <td>1830.000</td>\n",
       "      <td>2002.000</td>\n",
       "    </tr>\n",
       "    <tr>\n",
       "      <th>mean</th>\n",
       "      <td>6.339</td>\n",
       "      <td>7.014</td>\n",
       "      <td>7.208</td>\n",
       "    </tr>\n",
       "    <tr>\n",
       "      <th>std</th>\n",
       "      <td>1.842</td>\n",
       "      <td>1.666</td>\n",
       "      <td>1.612</td>\n",
       "    </tr>\n",
       "    <tr>\n",
       "      <th>min</th>\n",
       "      <td>0.800</td>\n",
       "      <td>1.000</td>\n",
       "      <td>1.500</td>\n",
       "    </tr>\n",
       "    <tr>\n",
       "      <th>25%</th>\n",
       "      <td>5.000</td>\n",
       "      <td>6.000</td>\n",
       "      <td>6.300</td>\n",
       "    </tr>\n",
       "    <tr>\n",
       "      <th>50%</th>\n",
       "      <td>6.800</td>\n",
       "      <td>7.500</td>\n",
       "      <td>7.500</td>\n",
       "    </tr>\n",
       "    <tr>\n",
       "      <th>75%</th>\n",
       "      <td>7.800</td>\n",
       "      <td>8.300</td>\n",
       "      <td>8.500</td>\n",
       "    </tr>\n",
       "    <tr>\n",
       "      <th>max</th>\n",
       "      <td>10.000</td>\n",
       "      <td>10.000</td>\n",
       "      <td>10.000</td>\n",
       "    </tr>\n",
       "  </tbody>\n",
       "</table>\n",
       "</div>"
      ],
      "text/plain": [
       "            Wii  Xbox 360  PlayStation 3\n",
       "count  1455.000  1830.000       2002.000\n",
       "mean      6.339     7.014          7.208\n",
       "std       1.842     1.666          1.612\n",
       "min       0.800     1.000          1.500\n",
       "25%       5.000     6.000          6.300\n",
       "50%       6.800     7.500          7.500\n",
       "75%       7.800     8.300          8.500\n",
       "max      10.000    10.000         10.000"
      ]
     },
     "execution_count": 52,
     "metadata": {},
     "output_type": "execute_result"
    }
   ],
   "source": [
    "df_gamerates[['Wii', 'Xbox 360', 'PlayStation 3']].describe().round(3)"
   ]
  },
  {
   "cell_type": "markdown",
   "id": "dab36b58-76f4-4c66-8bfd-e33f67d3cb93",
   "metadata": {},
   "source": [
    "Here we can see a more equal number of games per console. Also, in this generation we have achieved some 10 out of 10 games."
   ]
  },
  {
   "cell_type": "code",
   "execution_count": 53,
   "id": "89717b49-29a9-4bf4-9eeb-0c2e5e9f2707",
   "metadata": {},
   "outputs": [
    {
     "data": {
      "image/png": "[encoded data removed]",
      "text/plain": [
       "<Figure size 1080x576 with 1 Axes>"
      ]
     },
     "metadata": {},
     "output_type": "display_data"
    }
   ],
   "source": [
    "fig = plt.figure(figsize=(15,8))\n",
    "eixo = fig.add_axes([0, 0, 0.8, 0.8])\n",
    "sns.kdeplot(Wii_rates, color='#fc4f30', shade=True, label='Nintendo Wii')\n",
    "sns.kdeplot(X360_rates, color='#6d904f', shade=True, label='XBox 360')\n",
    "sns.kdeplot(PS3_rates, color='#008fd5', shade=True, label='PlayStation 3')\n",
    "eixo.legend()\n",
    "eixo.set_title('Density distribution of scores', fontdict={'fontsize': 20}, pad= 15)\n",
    "eixo.set_xlabel('', fontsize=15)\n",
    "eixo.set_ylabel('', fontsize=15)\n",
    "plt.show()"
   ]
  },
  {
   "cell_type": "code",
   "execution_count": 54,
   "id": "96aa3481-3d43-420a-b749-53d843c84018",
   "metadata": {},
   "outputs": [
    {
     "data": {
      "text/plain": [
       "F_onewayResult(statistic=116.50668740869204, pvalue=3.0596797074895327e-50)"
      ]
     },
     "execution_count": 54,
     "metadata": {},
     "output_type": "execute_result"
    }
   ],
   "source": [
    "stats.f_oneway(PS3_rates, X360_rates, Wii_rates)"
   ]
  },
  {
   "cell_type": "markdown",
   "id": "51296c49-169f-432d-bb50-a366e9aa1594",
   "metadata": {},
   "source": [
    "With the low p_value in the ANOVA test we can assume that there's a higher chance of the difference between the means be statistically significant. The question now lies the difference between two means. For this, we'll use a T-Test to compare, starting with the higher mean (PlayStation 3 and XBox 360) towards the lowest (XBox 360 and Nintendo Wii)."
   ]
  },
  {
   "cell_type": "code",
   "execution_count": 56,
   "id": "20d432bf-4fd7-4f26-8a67-5dfabfaba210",
   "metadata": {},
   "outputs": [
    {
     "data": {
      "text/plain": [
       "99.987"
      ]
     },
     "execution_count": 56,
     "metadata": {},
     "output_type": "execute_result"
    }
   ],
   "source": [
    "tStat, pValue  = stats.ttest_ind(PS3_rates, X360_rates, alternative='greater')\n",
    "((1-pValue)*100).round(3)"
   ]
  },
  {
   "cell_type": "markdown",
   "id": "3e4e5b9b-a573-4a5c-b9c4-b0732454e4b0",
   "metadata": {},
   "source": [
    "With the low p-value we can see that there is a higher chance that there is, indeed, a difference between the means, showing that the PlayStation 3 higher notes are not due to random noise in more then 99.99% of the observed reviewd games."
   ]
  },
  {
   "cell_type": "code",
   "execution_count": 57,
   "id": "7de901b3-2ed7-4d0c-acac-ff7b56bd182e",
   "metadata": {},
   "outputs": [
    {
     "data": {
      "text/plain": [
       "100.0"
      ]
     },
     "execution_count": 57,
     "metadata": {},
     "output_type": "execute_result"
    }
   ],
   "source": [
    "tStat, pValue  = stats.ttest_ind(X360_rates, Wii_rates, alternative='greater')\n",
    "((1-pValue)*100).round(3)"
   ]
  },
  {
   "cell_type": "markdown",
   "id": "965850b1-5bde-4632-830a-ad9cdad4a708",
   "metadata": {},
   "source": [
    "Again, we can se that there is a higher chance that there is a difference between the means. Since thee gap between the means for the XBox 360 and Nintendo Wii games scores were higher than the previous one (who already had a significant result), that was something to predict, since the standar deviaton showed little variation."
   ]
  },
  {
   "cell_type": "code",
   "execution_count": 58,
   "id": "37805f58-0ff8-4138-a4fc-afcbb7b864a8",
   "metadata": {},
   "outputs": [
    {
     "data": {
      "text/plain": [
       "PlayStation 3    837\n",
       "Xbox 360         675\n",
       "Wii              339\n",
       "dtype: int64"
      ]
     },
     "execution_count": 58,
     "metadata": {},
     "output_type": "execute_result"
    }
   ],
   "source": [
    "df_gamerates_8[['PlayStation 3', 'Xbox 360', 'Wii']].count()"
   ]
  },
  {
   "cell_type": "markdown",
   "id": "a1099e1d-d8a3-4152-997c-85d6d5b04769",
   "metadata": {},
   "source": [
    "Again, in the total of 'good' games we can see a more balanced scenario. Although the Sony console is has the lead, the difference for the second place is smaller. One can argue that since we'll won't have time to play all of these games, the total number in both of then can be enough and the final decision lies on personal taste."
   ]
  },
  {
   "cell_type": "markdown",
   "id": "c7497156-c3f3-4756-9548-dd9e7162d427",
   "metadata": {},
   "source": [
    "### Eight Generation"
   ]
  },
  {
   "cell_type": "code",
   "execution_count": 59,
   "id": "406ac14f-63ab-467d-be98-abb4a6e0c667",
   "metadata": {},
   "outputs": [],
   "source": [
    "PS4_rates = df_gamerates['PlayStation 4'].dropna()\n",
    "XOne_rates = df_gamerates['Xbox One'].dropna()"
   ]
  },
  {
   "cell_type": "code",
   "execution_count": 61,
   "id": "812692fa-c366-495e-ac7c-be5645acb769",
   "metadata": {},
   "outputs": [
    {
     "data": {
      "text/html": [
       "<div>\n",
       "<style scoped>\n",
       "    .dataframe tbody tr th:only-of-type {\n",
       "        vertical-align: middle;\n",
       "    }\n",
       "\n",
       "    .dataframe tbody tr th {\n",
       "        vertical-align: top;\n",
       "    }\n",
       "\n",
       "    .dataframe thead th {\n",
       "        text-align: right;\n",
       "    }\n",
       "</style>\n",
       "<table border=\"1\" class=\"dataframe\">\n",
       "  <thead>\n",
       "    <tr style=\"text-align: right;\">\n",
       "      <th></th>\n",
       "      <th>Xbox One</th>\n",
       "      <th>PlayStation 4</th>\n",
       "    </tr>\n",
       "  </thead>\n",
       "  <tbody>\n",
       "    <tr>\n",
       "      <th>count</th>\n",
       "      <td>1225.000</td>\n",
       "      <td>1555.000</td>\n",
       "    </tr>\n",
       "    <tr>\n",
       "      <th>mean</th>\n",
       "      <td>7.473</td>\n",
       "      <td>7.468</td>\n",
       "    </tr>\n",
       "    <tr>\n",
       "      <th>std</th>\n",
       "      <td>1.366</td>\n",
       "      <td>1.389</td>\n",
       "    </tr>\n",
       "    <tr>\n",
       "      <th>min</th>\n",
       "      <td>1.500</td>\n",
       "      <td>1.500</td>\n",
       "    </tr>\n",
       "    <tr>\n",
       "      <th>25%</th>\n",
       "      <td>6.900</td>\n",
       "      <td>6.800</td>\n",
       "    </tr>\n",
       "    <tr>\n",
       "      <th>50%</th>\n",
       "      <td>7.800</td>\n",
       "      <td>7.800</td>\n",
       "    </tr>\n",
       "    <tr>\n",
       "      <th>75%</th>\n",
       "      <td>8.500</td>\n",
       "      <td>8.500</td>\n",
       "    </tr>\n",
       "    <tr>\n",
       "      <th>max</th>\n",
       "      <td>10.000</td>\n",
       "      <td>10.000</td>\n",
       "    </tr>\n",
       "  </tbody>\n",
       "</table>\n",
       "</div>"
      ],
      "text/plain": [
       "       Xbox One  PlayStation 4\n",
       "count  1225.000       1555.000\n",
       "mean      7.473          7.468\n",
       "std       1.366          1.389\n",
       "min       1.500          1.500\n",
       "25%       6.900          6.800\n",
       "50%       7.800          7.800\n",
       "75%       8.500          8.500\n",
       "max      10.000         10.000"
      ]
     },
     "execution_count": 61,
     "metadata": {},
     "output_type": "execute_result"
    }
   ],
   "source": [
    "df_gamerates[['Xbox One', 'PlayStation 4']].describe().round(3)"
   ]
  },
  {
   "cell_type": "markdown",
   "id": "b62a7674-1079-49ee-97cb-3a41924c3fc6",
   "metadata": {},
   "source": [
    "Here also we have the presence of games with a score of 10. We can also see that the difference between the mean got lower, being unseen after we round it. The same can be said about the quartiles. Another thing to notice: the total number of games on the XBox One is lower than in the PlayStation 4, but that data does not include 360's games that can be played with the backwards compatibilite."
   ]
  },
  {
   "cell_type": "code",
   "execution_count": 62,
   "id": "160e6905-6ab3-45f4-bf24-adaa936d7c2e",
   "metadata": {},
   "outputs": [
    {
     "data": {
      "image/png": "[encoded data removed]",
      "text/plain": [
       "<Figure size 1080x576 with 1 Axes>"
      ]
     },
     "metadata": {},
     "output_type": "display_data"
    }
   ],
   "source": [
    "fig = plt.figure(figsize=(15,8))\n",
    "eixo = fig.add_axes([0, 0, 0.8, 0.8])\n",
    "sns.kdeplot(XOne_rates, color='#6d904f', shade=True, label='XBox One')\n",
    "sns.kdeplot(PS4_rates, color='#008fd5', shade=True, label='PlayStation 4')\n",
    "eixo.legend()\n",
    "eixo.set_title('Density distribution of scores', fontdict={'fontsize': 20}, pad= 15)\n",
    "eixo.set_xlabel('', fontsize=15)\n",
    "eixo.set_ylabel('', fontsize=15)\n",
    "plt.show()"
   ]
  },
  {
   "cell_type": "markdown",
   "id": "106cfcd6-d867-40cf-9ff1-16b267068232",
   "metadata": {},
   "source": [
    "Because of the different time window of release, the Wii will not be part of this analysis. And because here we only have two consoles, we don't need to perform the ANOVA test."
   ]
  },
  {
   "cell_type": "code",
   "execution_count": 63,
   "id": "5914b4bb-9680-446e-a81e-81819ea3d2f6",
   "metadata": {},
   "outputs": [
    {
     "data": {
      "text/plain": [
       "53.59"
      ]
     },
     "execution_count": 63,
     "metadata": {},
     "output_type": "execute_result"
    }
   ],
   "source": [
    "tStat, pValue  = stats.ttest_ind(XOne_rates, PS4_rates, alternative='greater')\n",
    "((1-pValue)*100).round(3)"
   ]
  },
  {
   "cell_type": "markdown",
   "id": "96f8696d-a919-4a97-b6c8-915dd55df170",
   "metadata": {},
   "source": [
    "The impression that we had be seeing both means as equal proved to be true. With this confidence level it's safe to assume that both means are, indeed, equal."
   ]
  },
  {
   "cell_type": "code",
   "execution_count": 64,
   "id": "8fee46d3-9451-4be4-ae3f-0015fd9b165d",
   "metadata": {},
   "outputs": [
    {
     "data": {
      "text/plain": [
       "PlayStation 4    729\n",
       "Xbox One         568\n",
       "dtype: int64"
      ]
     },
     "execution_count": 64,
     "metadata": {},
     "output_type": "execute_result"
    }
   ],
   "source": [
    "df_gamerates_8[['PlayStation 4', 'Xbox One']].count()"
   ]
  },
  {
   "cell_type": "markdown",
   "id": "02050800-e79c-4f24-bd91-02d8f71b0340",
   "metadata": {},
   "source": [
    "Again the PlayStation 4 takes the lead in games with a score higher than 8. In these case, there's another thing to keep in mind: as mentioned before, those numbers does not account for the backwards compatibilty on the XBox One, which means that games with an higher-then-8 score of the 360 can be played on them too."
   ]
  },
  {
   "cell_type": "markdown",
   "id": "e9a78625-bd3d-41fc-9f57-cb87717d9e64",
   "metadata": {},
   "source": [
    "### Ninth Generation"
   ]
  },
  {
   "cell_type": "code",
   "execution_count": 65,
   "id": "e048883b-5fc2-4648-9aca-5bf4e5662bca",
   "metadata": {},
   "outputs": [],
   "source": [
    "XSX_rates = df_gamerates['Xbox Series X|S'].dropna()\n",
    "PS5_rates = df_gamerates['PlayStation 5'].dropna()"
   ]
  },
  {
   "cell_type": "code",
   "execution_count": 66,
   "id": "e4f25b98-1bd6-4799-83e1-6ac304b60eff",
   "metadata": {},
   "outputs": [
    {
     "data": {
      "text/html": [
       "<div>\n",
       "<style scoped>\n",
       "    .dataframe tbody tr th:only-of-type {\n",
       "        vertical-align: middle;\n",
       "    }\n",
       "\n",
       "    .dataframe tbody tr th {\n",
       "        vertical-align: top;\n",
       "    }\n",
       "\n",
       "    .dataframe thead th {\n",
       "        text-align: right;\n",
       "    }\n",
       "</style>\n",
       "<table border=\"1\" class=\"dataframe\">\n",
       "  <thead>\n",
       "    <tr style=\"text-align: right;\">\n",
       "      <th></th>\n",
       "      <th>Xbox Series X|S</th>\n",
       "      <th>PlayStation 5</th>\n",
       "    </tr>\n",
       "  </thead>\n",
       "  <tbody>\n",
       "    <tr>\n",
       "      <th>count</th>\n",
       "      <td>254.000</td>\n",
       "      <td>259.000</td>\n",
       "    </tr>\n",
       "    <tr>\n",
       "      <th>mean</th>\n",
       "      <td>7.560</td>\n",
       "      <td>7.526</td>\n",
       "    </tr>\n",
       "    <tr>\n",
       "      <th>std</th>\n",
       "      <td>1.320</td>\n",
       "      <td>1.328</td>\n",
       "    </tr>\n",
       "    <tr>\n",
       "      <th>min</th>\n",
       "      <td>2.000</td>\n",
       "      <td>2.000</td>\n",
       "    </tr>\n",
       "    <tr>\n",
       "      <th>25%</th>\n",
       "      <td>7.000</td>\n",
       "      <td>7.000</td>\n",
       "    </tr>\n",
       "    <tr>\n",
       "      <th>50%</th>\n",
       "      <td>8.000</td>\n",
       "      <td>8.000</td>\n",
       "    </tr>\n",
       "    <tr>\n",
       "      <th>75%</th>\n",
       "      <td>8.375</td>\n",
       "      <td>8.500</td>\n",
       "    </tr>\n",
       "    <tr>\n",
       "      <th>max</th>\n",
       "      <td>10.000</td>\n",
       "      <td>10.000</td>\n",
       "    </tr>\n",
       "  </tbody>\n",
       "</table>\n",
       "</div>"
      ],
      "text/plain": [
       "       Xbox Series X|S  PlayStation 5\n",
       "count          254.000        259.000\n",
       "mean             7.560          7.526\n",
       "std              1.320          1.328\n",
       "min              2.000          2.000\n",
       "25%              7.000          7.000\n",
       "50%              8.000          8.000\n",
       "75%              8.375          8.500\n",
       "max             10.000         10.000"
      ]
     },
     "execution_count": 66,
     "metadata": {},
     "output_type": "execute_result"
    }
   ],
   "source": [
    "df_gamerates[['Xbox Series X|S', 'PlayStation 5']].describe().round(3)"
   ]
  },
  {
   "cell_type": "markdown",
   "id": "61e80354-1a25-4bc6-b1dc-02357bcf101c",
   "metadata": {},
   "source": [
    "This analysis should be seen with a reminder that this is an ongoing generation, that only started 2 years ago, which can be seen by the small number of games for each console. One interesting fact is that even in this situation, each of then already have at least on game of score of 10 (which make the lack of 10's games in the sixth generation even more weird). Not only because the amount of games is small, but because a there's still a lot of games that can change de scenario, this part can be seen as mearly curiosity."
   ]
  },
  {
   "cell_type": "code",
   "execution_count": 74,
   "id": "27671b1d-5784-4c54-89cc-704725e3182a",
   "metadata": {},
   "outputs": [
    {
     "data": {
      "image/png": "[encoded data removed]",
      "text/plain": [
       "<Figure size 1080x576 with 1 Axes>"
      ]
     },
     "metadata": {},
     "output_type": "display_data"
    }
   ],
   "source": [
    "fig = plt.figure(figsize=(15,8))\n",
    "eixo = fig.add_axes([0, 0, 0.8, 0.8])\n",
    "sns.kdeplot(XSX_rates, color='#6d904f', shade=True, label='XBox One')\n",
    "sns.kdeplot(PS5_rates, color='#008fd5', shade=True, label='PlayStation 4')\n",
    "eixo.legend()\n",
    "eixo.set_title('Density distribution of scores', fontdict={'fontsize': 20}, pad= 15)\n",
    "eixo.set_xlabel('', fontsize=15)\n",
    "eixo.set_ylabel('', fontsize=15)\n",
    "plt.show()"
   ]
  },
  {
   "cell_type": "code",
   "execution_count": 68,
   "id": "dc1f2823-a654-45ec-84d8-980c6612c0e7",
   "metadata": {},
   "outputs": [
    {
     "data": {
      "text/plain": [
       "61.555"
      ]
     },
     "execution_count": 68,
     "metadata": {},
     "output_type": "execute_result"
    }
   ],
   "source": [
    "tStat, pValue  = stats.ttest_ind(XSX_rates, PS5_rates, alternative='greater')\n",
    "((1-pValue)*100).round(3)"
   ]
  },
  {
   "cell_type": "markdown",
   "id": "93e6093b-4f65-47c3-a20b-33d7b4b6180d",
   "metadata": {},
   "source": [
    "We see here the continuation of the pattern: the mean of console's score are still statistically equal. Although this can change in the future."
   ]
  },
  {
   "cell_type": "code",
   "execution_count": 69,
   "id": "92750609-d62c-4ee7-ab31-c0310e01f4bf",
   "metadata": {},
   "outputs": [
    {
     "data": {
      "text/plain": [
       "PlayStation 5      136\n",
       "Xbox Series X|S    134\n",
       "dtype: int64"
      ]
     },
     "execution_count": 69,
     "metadata": {},
     "output_type": "execute_result"
    }
   ],
   "source": [
    "df_gamerates_8[['PlayStation 5', 'Xbox Series X|S']].count()"
   ]
  },
  {
   "cell_type": "markdown",
   "id": "b7060080-fb28-4496-8955-90800a62dc5e",
   "metadata": {},
   "source": [
    "For the first time the total amount of games of score of 8 or above is, for now, basically the same. Here, more then before, the choice can be based mostly on personal taste."
   ]
  },
  {
   "cell_type": "markdown",
   "id": "a9a25a8a-01b9-4852-9c74-67023712a0a5",
   "metadata": {
    "tags": []
   },
   "source": [
    "## Analytics of developers"
   ]
  },
  {
   "cell_type": "markdown",
   "id": "a712cb95-91f8-4a32-a07e-1887284698c4",
   "metadata": {},
   "source": [
    "Unlike the developers itselfs, a gamer has nothing to win by defending a company. But if one decides to do, here are some data that might come in handy.\n"
   ]
  },
  {
   "cell_type": "code",
   "execution_count": 75,
   "id": "cbdbde7e-a9a9-45cc-a623-639ead0ea8ab",
   "metadata": {
    "tags": []
   },
   "outputs": [
    {
     "data": {
      "text/plain": [
       "3307"
      ]
     },
     "execution_count": 75,
     "metadata": {},
     "output_type": "execute_result"
    }
   ],
   "source": [
    "devs_dict = {}\n",
    "for i in range(len(dfDev)):\n",
    "    if not np.isnan(dfDev.iloc[i].score):\n",
    "        for devs in dfDev.iloc[i].developers:\n",
    "            if devs not in devs_dict.keys():\n",
    "                devs_dict[devs] = [dfDev.iloc[i].score]\n",
    "            else:\n",
    "                devs_dict[devs] = [*devs_dict[devs], dfDev.iloc[i].score]\n",
    "len(devs_dict)"
   ]
  },
  {
   "cell_type": "code",
   "execution_count": 76,
   "id": "5d16d082-9cf2-4d65-968f-e9f682a0a2b9",
   "metadata": {
    "tags": []
   },
   "outputs": [],
   "source": [
    "devs_list = []\n",
    "for dev in devs_dict:\n",
    "    current_dev = {}\n",
    "    current_dev['dev'] = dev\n",
    "    current_dev['count_dev'] = len(devs_dict[dev])\n",
    "    current_dev['mean_dev'] = np.mean(devs_dict[dev])\n",
    "    current_dev['std_dev'] = np.std(devs_dict[dev])\n",
    "    current_dev['min_dev'], current_dev['25%_dev'], current_dev['50%_dev'], current_dev['75%_dev'], current_dev['max_dev'] = np.quantile(devs_dict[dev], [0,0.25,0.5,0.75,1])    \n",
    "    \n",
    "    devs_list.append(current_dev)"
   ]
  },
  {
   "cell_type": "code",
   "execution_count": 45,
   "id": "77b679d8-fbfa-451e-8b66-da7305247a79",
   "metadata": {
    "tags": []
   },
   "outputs": [
    {
     "data": {
      "text/html": [
       "<div>\n",
       "<style scoped>\n",
       "    .dataframe tbody tr th:only-of-type {\n",
       "        vertical-align: middle;\n",
       "    }\n",
       "\n",
       "    .dataframe tbody tr th {\n",
       "        vertical-align: top;\n",
       "    }\n",
       "\n",
       "    .dataframe thead th {\n",
       "        text-align: right;\n",
       "    }\n",
       "</style>\n",
       "<table border=\"1\" class=\"dataframe\">\n",
       "  <thead>\n",
       "    <tr style=\"text-align: right;\">\n",
       "      <th></th>\n",
       "      <th>dev</th>\n",
       "      <th>count_dev</th>\n",
       "      <th>mean_dev</th>\n",
       "      <th>std_dev</th>\n",
       "      <th>min_dev</th>\n",
       "      <th>25%_dev</th>\n",
       "      <th>50%_dev</th>\n",
       "      <th>75%_dev</th>\n",
       "      <th>max_dev</th>\n",
       "    </tr>\n",
       "  </thead>\n",
       "  <tbody>\n",
       "    <tr>\n",
       "      <th>0</th>\n",
       "      <td>Mythos Games</td>\n",
       "      <td>2</td>\n",
       "      <td>8.350000</td>\n",
       "      <td>1.050000</td>\n",
       "      <td>7.3</td>\n",
       "      <td>7.825</td>\n",
       "      <td>8.35</td>\n",
       "      <td>8.875</td>\n",
       "      <td>9.4</td>\n",
       "    </tr>\n",
       "    <tr>\n",
       "      <th>1</th>\n",
       "      <td>Hudson Soft</td>\n",
       "      <td>115</td>\n",
       "      <td>6.633913</td>\n",
       "      <td>1.501876</td>\n",
       "      <td>1.5</td>\n",
       "      <td>6.000</td>\n",
       "      <td>7.00</td>\n",
       "      <td>7.800</td>\n",
       "      <td>9.0</td>\n",
       "    </tr>\n",
       "    <tr>\n",
       "      <th>2</th>\n",
       "      <td>Gameloft</td>\n",
       "      <td>88</td>\n",
       "      <td>7.244318</td>\n",
       "      <td>1.262560</td>\n",
       "      <td>3.0</td>\n",
       "      <td>6.575</td>\n",
       "      <td>7.50</td>\n",
       "      <td>8.000</td>\n",
       "      <td>9.0</td>\n",
       "    </tr>\n",
       "    <tr>\n",
       "      <th>3</th>\n",
       "      <td>Ubisoft Montreal</td>\n",
       "      <td>92</td>\n",
       "      <td>7.457609</td>\n",
       "      <td>1.368054</td>\n",
       "      <td>3.0</td>\n",
       "      <td>6.800</td>\n",
       "      <td>7.70</td>\n",
       "      <td>8.500</td>\n",
       "      <td>9.6</td>\n",
       "    </tr>\n",
       "    <tr>\n",
       "      <th>4</th>\n",
       "      <td>Psygnosis</td>\n",
       "      <td>36</td>\n",
       "      <td>6.661111</td>\n",
       "      <td>2.068316</td>\n",
       "      <td>2.0</td>\n",
       "      <td>5.375</td>\n",
       "      <td>7.00</td>\n",
       "      <td>8.500</td>\n",
       "      <td>9.5</td>\n",
       "    </tr>\n",
       "  </tbody>\n",
       "</table>\n",
       "</div>"
      ],
      "text/plain": [
       "                dev  count_dev  mean_dev   std_dev  min_dev  25%_dev  50%_dev  \\\n",
       "0      Mythos Games          2  8.350000  1.050000      7.3    7.825     8.35   \n",
       "1       Hudson Soft        115  6.633913  1.501876      1.5    6.000     7.00   \n",
       "2          Gameloft         88  7.244318  1.262560      3.0    6.575     7.50   \n",
       "3  Ubisoft Montreal         92  7.457609  1.368054      3.0    6.800     7.70   \n",
       "4         Psygnosis         36  6.661111  2.068316      2.0    5.375     7.00   \n",
       "\n",
       "   75%_dev  max_dev  \n",
       "0    8.875      9.4  \n",
       "1    7.800      9.0  \n",
       "2    8.000      9.0  \n",
       "3    8.500      9.6  \n",
       "4    8.500      9.5  "
      ]
     },
     "execution_count": 45,
     "metadata": {},
     "output_type": "execute_result"
    }
   ],
   "source": [
    "devs_df = pd.DataFrame(devs_list)\n",
    "devs_df.head()"
   ]
  },
  {
   "cell_type": "code",
   "execution_count": 342,
   "id": "8f5730be-a0a7-4807-bda1-f72dac555d7f",
   "metadata": {
    "tags": []
   },
   "outputs": [
    {
     "data": {
      "text/html": [
       "<div>\n",
       "<style scoped>\n",
       "    .dataframe tbody tr th:only-of-type {\n",
       "        vertical-align: middle;\n",
       "    }\n",
       "\n",
       "    .dataframe tbody tr th {\n",
       "        vertical-align: top;\n",
       "    }\n",
       "\n",
       "    .dataframe thead th {\n",
       "        text-align: right;\n",
       "    }\n",
       "</style>\n",
       "<table border=\"1\" class=\"dataframe\">\n",
       "  <thead>\n",
       "    <tr style=\"text-align: right;\">\n",
       "      <th></th>\n",
       "      <th>dev</th>\n",
       "      <th>count_dev</th>\n",
       "      <th>mean_dev</th>\n",
       "      <th>std_dev</th>\n",
       "      <th>min_dev</th>\n",
       "      <th>25%_dev</th>\n",
       "      <th>50%_dev</th>\n",
       "      <th>75%_dev</th>\n",
       "      <th>max_dev</th>\n",
       "    </tr>\n",
       "  </thead>\n",
       "  <tbody>\n",
       "    <tr>\n",
       "      <th>38</th>\n",
       "      <td>Konami</td>\n",
       "      <td>171</td>\n",
       "      <td>6.65</td>\n",
       "      <td>1.67</td>\n",
       "      <td>2.5</td>\n",
       "      <td>5.35</td>\n",
       "      <td>7.00</td>\n",
       "      <td>8.00</td>\n",
       "      <td>9.8</td>\n",
       "    </tr>\n",
       "    <tr>\n",
       "      <th>172</th>\n",
       "      <td>Capcom</td>\n",
       "      <td>161</td>\n",
       "      <td>7.61</td>\n",
       "      <td>1.25</td>\n",
       "      <td>2.5</td>\n",
       "      <td>7.00</td>\n",
       "      <td>7.80</td>\n",
       "      <td>8.50</td>\n",
       "      <td>9.5</td>\n",
       "    </tr>\n",
       "    <tr>\n",
       "      <th>15</th>\n",
       "      <td>EA Canada</td>\n",
       "      <td>160</td>\n",
       "      <td>7.62</td>\n",
       "      <td>1.35</td>\n",
       "      <td>3.0</td>\n",
       "      <td>6.98</td>\n",
       "      <td>8.00</td>\n",
       "      <td>8.70</td>\n",
       "      <td>9.5</td>\n",
       "    </tr>\n",
       "    <tr>\n",
       "      <th>20</th>\n",
       "      <td>SEGA</td>\n",
       "      <td>121</td>\n",
       "      <td>6.98</td>\n",
       "      <td>1.50</td>\n",
       "      <td>3.0</td>\n",
       "      <td>6.00</td>\n",
       "      <td>7.20</td>\n",
       "      <td>8.00</td>\n",
       "      <td>9.3</td>\n",
       "    </tr>\n",
       "    <tr>\n",
       "      <th>17</th>\n",
       "      <td>Electronic Arts</td>\n",
       "      <td>116</td>\n",
       "      <td>7.73</td>\n",
       "      <td>1.21</td>\n",
       "      <td>2.5</td>\n",
       "      <td>7.10</td>\n",
       "      <td>8.00</td>\n",
       "      <td>8.52</td>\n",
       "      <td>9.5</td>\n",
       "    </tr>\n",
       "    <tr>\n",
       "      <th>1</th>\n",
       "      <td>Hudson Soft</td>\n",
       "      <td>115</td>\n",
       "      <td>6.63</td>\n",
       "      <td>1.50</td>\n",
       "      <td>1.5</td>\n",
       "      <td>6.00</td>\n",
       "      <td>7.00</td>\n",
       "      <td>7.80</td>\n",
       "      <td>9.0</td>\n",
       "    </tr>\n",
       "    <tr>\n",
       "      <th>47</th>\n",
       "      <td>Nintendo</td>\n",
       "      <td>108</td>\n",
       "      <td>7.99</td>\n",
       "      <td>1.27</td>\n",
       "      <td>4.5</td>\n",
       "      <td>7.00</td>\n",
       "      <td>8.00</td>\n",
       "      <td>9.00</td>\n",
       "      <td>10.0</td>\n",
       "    </tr>\n",
       "    <tr>\n",
       "      <th>101</th>\n",
       "      <td>Namco</td>\n",
       "      <td>105</td>\n",
       "      <td>7.13</td>\n",
       "      <td>1.53</td>\n",
       "      <td>2.5</td>\n",
       "      <td>6.20</td>\n",
       "      <td>7.50</td>\n",
       "      <td>8.10</td>\n",
       "      <td>9.4</td>\n",
       "    </tr>\n",
       "    <tr>\n",
       "      <th>60</th>\n",
       "      <td>Telltale Games</td>\n",
       "      <td>100</td>\n",
       "      <td>7.63</td>\n",
       "      <td>1.10</td>\n",
       "      <td>4.5</td>\n",
       "      <td>7.00</td>\n",
       "      <td>7.95</td>\n",
       "      <td>8.50</td>\n",
       "      <td>9.5</td>\n",
       "    </tr>\n",
       "    <tr>\n",
       "      <th>134</th>\n",
       "      <td>EA Tiburon</td>\n",
       "      <td>98</td>\n",
       "      <td>7.81</td>\n",
       "      <td>1.07</td>\n",
       "      <td>4.5</td>\n",
       "      <td>7.00</td>\n",
       "      <td>8.05</td>\n",
       "      <td>8.50</td>\n",
       "      <td>9.5</td>\n",
       "    </tr>\n",
       "  </tbody>\n",
       "</table>\n",
       "</div>"
      ],
      "text/plain": [
       "                 dev  count_dev  mean_dev  std_dev  min_dev  25%_dev  50%_dev  \\\n",
       "38            Konami        171      6.65     1.67      2.5     5.35     7.00   \n",
       "172           Capcom        161      7.61     1.25      2.5     7.00     7.80   \n",
       "15         EA Canada        160      7.62     1.35      3.0     6.98     8.00   \n",
       "20              SEGA        121      6.98     1.50      3.0     6.00     7.20   \n",
       "17   Electronic Arts        116      7.73     1.21      2.5     7.10     8.00   \n",
       "1        Hudson Soft        115      6.63     1.50      1.5     6.00     7.00   \n",
       "47          Nintendo        108      7.99     1.27      4.5     7.00     8.00   \n",
       "101            Namco        105      7.13     1.53      2.5     6.20     7.50   \n",
       "60    Telltale Games        100      7.63     1.10      4.5     7.00     7.95   \n",
       "134       EA Tiburon         98      7.81     1.07      4.5     7.00     8.05   \n",
       "\n",
       "     75%_dev  max_dev  \n",
       "38      8.00      9.8  \n",
       "172     8.50      9.5  \n",
       "15      8.70      9.5  \n",
       "20      8.00      9.3  \n",
       "17      8.52      9.5  \n",
       "1       7.80      9.0  \n",
       "47      9.00     10.0  \n",
       "101     8.10      9.4  \n",
       "60      8.50      9.5  \n",
       "134     8.50      9.5  "
      ]
     },
     "execution_count": 342,
     "metadata": {},
     "output_type": "execute_result"
    }
   ],
   "source": [
    "devs_df.sort_values('count_dev', ascending = False)[:10].round(2)"
   ]
  },
  {
   "cell_type": "code",
   "execution_count": 341,
   "id": "26d7b74b-d649-416c-8593-bfc1e8372292",
   "metadata": {
    "tags": []
   },
   "outputs": [
    {
     "data": {
      "text/html": [
       "<div>\n",
       "<style scoped>\n",
       "    .dataframe tbody tr th:only-of-type {\n",
       "        vertical-align: middle;\n",
       "    }\n",
       "\n",
       "    .dataframe tbody tr th {\n",
       "        vertical-align: top;\n",
       "    }\n",
       "\n",
       "    .dataframe thead th {\n",
       "        text-align: right;\n",
       "    }\n",
       "</style>\n",
       "<table border=\"1\" class=\"dataframe\">\n",
       "  <thead>\n",
       "    <tr style=\"text-align: right;\">\n",
       "      <th></th>\n",
       "      <th>dev</th>\n",
       "      <th>count_dev</th>\n",
       "      <th>mean_dev</th>\n",
       "      <th>std_dev</th>\n",
       "      <th>min_dev</th>\n",
       "      <th>25%_dev</th>\n",
       "      <th>50%_dev</th>\n",
       "      <th>75%_dev</th>\n",
       "      <th>max_dev</th>\n",
       "    </tr>\n",
       "  </thead>\n",
       "  <tbody>\n",
       "    <tr>\n",
       "      <th>966</th>\n",
       "      <td>Rockstar North</td>\n",
       "      <td>14</td>\n",
       "      <td>9.18</td>\n",
       "      <td>0.66</td>\n",
       "      <td>7.5</td>\n",
       "      <td>9.00</td>\n",
       "      <td>9.20</td>\n",
       "      <td>9.67</td>\n",
       "      <td>10.0</td>\n",
       "    </tr>\n",
       "    <tr>\n",
       "      <th>61</th>\n",
       "      <td>Naughty Dog Software</td>\n",
       "      <td>21</td>\n",
       "      <td>8.99</td>\n",
       "      <td>0.80</td>\n",
       "      <td>7.5</td>\n",
       "      <td>8.50</td>\n",
       "      <td>9.00</td>\n",
       "      <td>9.50</td>\n",
       "      <td>10.0</td>\n",
       "    </tr>\n",
       "    <tr>\n",
       "      <th>231</th>\n",
       "      <td>Turn 10 Studios</td>\n",
       "      <td>15</td>\n",
       "      <td>8.85</td>\n",
       "      <td>0.76</td>\n",
       "      <td>6.5</td>\n",
       "      <td>8.85</td>\n",
       "      <td>9.00</td>\n",
       "      <td>9.30</td>\n",
       "      <td>9.6</td>\n",
       "    </tr>\n",
       "    <tr>\n",
       "      <th>1621</th>\n",
       "      <td>Santa Monica Studio</td>\n",
       "      <td>11</td>\n",
       "      <td>8.68</td>\n",
       "      <td>1.05</td>\n",
       "      <td>6.9</td>\n",
       "      <td>7.90</td>\n",
       "      <td>8.80</td>\n",
       "      <td>9.55</td>\n",
       "      <td>10.0</td>\n",
       "    </tr>\n",
       "    <tr>\n",
       "      <th>567</th>\n",
       "      <td>Kojima Productions [2005-2015]</td>\n",
       "      <td>12</td>\n",
       "      <td>8.63</td>\n",
       "      <td>1.11</td>\n",
       "      <td>6.5</td>\n",
       "      <td>7.92</td>\n",
       "      <td>8.90</td>\n",
       "      <td>9.57</td>\n",
       "      <td>10.0</td>\n",
       "    </tr>\n",
       "    <tr>\n",
       "      <th>123</th>\n",
       "      <td>Sports Interactive (SI Interactive)</td>\n",
       "      <td>14</td>\n",
       "      <td>8.59</td>\n",
       "      <td>0.55</td>\n",
       "      <td>7.5</td>\n",
       "      <td>8.05</td>\n",
       "      <td>8.80</td>\n",
       "      <td>9.00</td>\n",
       "      <td>9.3</td>\n",
       "    </tr>\n",
       "    <tr>\n",
       "      <th>1413</th>\n",
       "      <td>Valve</td>\n",
       "      <td>22</td>\n",
       "      <td>8.57</td>\n",
       "      <td>0.89</td>\n",
       "      <td>7.0</td>\n",
       "      <td>8.00</td>\n",
       "      <td>8.50</td>\n",
       "      <td>9.40</td>\n",
       "      <td>10.0</td>\n",
       "    </tr>\n",
       "    <tr>\n",
       "      <th>491</th>\n",
       "      <td>Sucker Punch</td>\n",
       "      <td>11</td>\n",
       "      <td>8.56</td>\n",
       "      <td>0.59</td>\n",
       "      <td>7.5</td>\n",
       "      <td>8.30</td>\n",
       "      <td>8.70</td>\n",
       "      <td>9.00</td>\n",
       "      <td>9.2</td>\n",
       "    </tr>\n",
       "    <tr>\n",
       "      <th>295</th>\n",
       "      <td>Epic Games</td>\n",
       "      <td>22</td>\n",
       "      <td>8.52</td>\n",
       "      <td>0.77</td>\n",
       "      <td>6.5</td>\n",
       "      <td>8.05</td>\n",
       "      <td>8.55</td>\n",
       "      <td>9.00</td>\n",
       "      <td>9.6</td>\n",
       "    </tr>\n",
       "    <tr>\n",
       "      <th>176</th>\n",
       "      <td>Arkane Studios</td>\n",
       "      <td>11</td>\n",
       "      <td>8.43</td>\n",
       "      <td>0.76</td>\n",
       "      <td>7.5</td>\n",
       "      <td>8.00</td>\n",
       "      <td>8.00</td>\n",
       "      <td>9.00</td>\n",
       "      <td>10.0</td>\n",
       "    </tr>\n",
       "  </tbody>\n",
       "</table>\n",
       "</div>"
      ],
      "text/plain": [
       "                                      dev  count_dev  mean_dev  std_dev  \\\n",
       "966                        Rockstar North         14      9.18     0.66   \n",
       "61                   Naughty Dog Software         21      8.99     0.80   \n",
       "231                       Turn 10 Studios         15      8.85     0.76   \n",
       "1621                  Santa Monica Studio         11      8.68     1.05   \n",
       "567        Kojima Productions [2005-2015]         12      8.63     1.11   \n",
       "123   Sports Interactive (SI Interactive)         14      8.59     0.55   \n",
       "1413                                Valve         22      8.57     0.89   \n",
       "491                          Sucker Punch         11      8.56     0.59   \n",
       "295                            Epic Games         22      8.52     0.77   \n",
       "176                        Arkane Studios         11      8.43     0.76   \n",
       "\n",
       "      min_dev  25%_dev  50%_dev  75%_dev  max_dev  \n",
       "966       7.5     9.00     9.20     9.67     10.0  \n",
       "61        7.5     8.50     9.00     9.50     10.0  \n",
       "231       6.5     8.85     9.00     9.30      9.6  \n",
       "1621      6.9     7.90     8.80     9.55     10.0  \n",
       "567       6.5     7.92     8.90     9.57     10.0  \n",
       "123       7.5     8.05     8.80     9.00      9.3  \n",
       "1413      7.0     8.00     8.50     9.40     10.0  \n",
       "491       7.5     8.30     8.70     9.00      9.2  \n",
       "295       6.5     8.05     8.55     9.00      9.6  \n",
       "176       7.5     8.00     8.00     9.00     10.0  "
      ]
     },
     "execution_count": 341,
     "metadata": {},
     "output_type": "execute_result"
    }
   ],
   "source": [
    "devs_df[devs_df['count_dev'] > 10].sort_values('mean_dev', ascending = False)[:10].round(2)"
   ]
  },
  {
   "cell_type": "code",
   "execution_count": 343,
   "id": "4d8c97b8-e719-442a-9f0b-f549edc1bee0",
   "metadata": {
    "tags": []
   },
   "outputs": [
    {
     "data": {
      "text/html": [
       "<div>\n",
       "<style scoped>\n",
       "    .dataframe tbody tr th:only-of-type {\n",
       "        vertical-align: middle;\n",
       "    }\n",
       "\n",
       "    .dataframe tbody tr th {\n",
       "        vertical-align: top;\n",
       "    }\n",
       "\n",
       "    .dataframe thead th {\n",
       "        text-align: right;\n",
       "    }\n",
       "</style>\n",
       "<table border=\"1\" class=\"dataframe\">\n",
       "  <thead>\n",
       "    <tr style=\"text-align: right;\">\n",
       "      <th></th>\n",
       "      <th>dev</th>\n",
       "      <th>count_dev</th>\n",
       "      <th>mean_dev</th>\n",
       "      <th>std_dev</th>\n",
       "      <th>min_dev</th>\n",
       "      <th>25%_dev</th>\n",
       "      <th>50%_dev</th>\n",
       "      <th>75%_dev</th>\n",
       "      <th>max_dev</th>\n",
       "    </tr>\n",
       "  </thead>\n",
       "  <tbody>\n",
       "    <tr>\n",
       "      <th>438</th>\n",
       "      <td>Data Design Interactive</td>\n",
       "      <td>24</td>\n",
       "      <td>2.07</td>\n",
       "      <td>1.22</td>\n",
       "      <td>0.8</td>\n",
       "      <td>1.00</td>\n",
       "      <td>2.0</td>\n",
       "      <td>2.92</td>\n",
       "      <td>6.0</td>\n",
       "    </tr>\n",
       "    <tr>\n",
       "      <th>16</th>\n",
       "      <td>Digital Leisure</td>\n",
       "      <td>11</td>\n",
       "      <td>4.70</td>\n",
       "      <td>1.86</td>\n",
       "      <td>2.0</td>\n",
       "      <td>3.00</td>\n",
       "      <td>4.5</td>\n",
       "      <td>6.75</td>\n",
       "      <td>7.2</td>\n",
       "    </tr>\n",
       "    <tr>\n",
       "      <th>394</th>\n",
       "      <td>Sensory Sweep</td>\n",
       "      <td>13</td>\n",
       "      <td>4.87</td>\n",
       "      <td>1.89</td>\n",
       "      <td>1.9</td>\n",
       "      <td>3.00</td>\n",
       "      <td>5.5</td>\n",
       "      <td>6.40</td>\n",
       "      <td>7.5</td>\n",
       "    </tr>\n",
       "    <tr>\n",
       "      <th>1334</th>\n",
       "      <td>Takara</td>\n",
       "      <td>14</td>\n",
       "      <td>4.96</td>\n",
       "      <td>1.96</td>\n",
       "      <td>1.5</td>\n",
       "      <td>3.38</td>\n",
       "      <td>5.5</td>\n",
       "      <td>6.38</td>\n",
       "      <td>7.5</td>\n",
       "    </tr>\n",
       "    <tr>\n",
       "      <th>163</th>\n",
       "      <td>Neko Entertainment</td>\n",
       "      <td>14</td>\n",
       "      <td>5.04</td>\n",
       "      <td>1.85</td>\n",
       "      <td>2.5</td>\n",
       "      <td>3.25</td>\n",
       "      <td>5.3</td>\n",
       "      <td>6.38</td>\n",
       "      <td>8.0</td>\n",
       "    </tr>\n",
       "    <tr>\n",
       "      <th>113</th>\n",
       "      <td>HB Studios</td>\n",
       "      <td>11</td>\n",
       "      <td>5.14</td>\n",
       "      <td>2.41</td>\n",
       "      <td>1.5</td>\n",
       "      <td>2.65</td>\n",
       "      <td>5.5</td>\n",
       "      <td>7.00</td>\n",
       "      <td>8.3</td>\n",
       "    </tr>\n",
       "    <tr>\n",
       "      <th>216</th>\n",
       "      <td>FarSight Studios</td>\n",
       "      <td>15</td>\n",
       "      <td>5.19</td>\n",
       "      <td>2.37</td>\n",
       "      <td>1.0</td>\n",
       "      <td>3.25</td>\n",
       "      <td>5.5</td>\n",
       "      <td>7.00</td>\n",
       "      <td>8.5</td>\n",
       "    </tr>\n",
       "    <tr>\n",
       "      <th>90</th>\n",
       "      <td>3DO</td>\n",
       "      <td>34</td>\n",
       "      <td>5.22</td>\n",
       "      <td>1.74</td>\n",
       "      <td>2.5</td>\n",
       "      <td>4.00</td>\n",
       "      <td>4.9</td>\n",
       "      <td>7.00</td>\n",
       "      <td>8.4</td>\n",
       "    </tr>\n",
       "    <tr>\n",
       "      <th>937</th>\n",
       "      <td>CI Games</td>\n",
       "      <td>14</td>\n",
       "      <td>5.24</td>\n",
       "      <td>1.35</td>\n",
       "      <td>3.0</td>\n",
       "      <td>4.50</td>\n",
       "      <td>5.0</td>\n",
       "      <td>6.00</td>\n",
       "      <td>7.4</td>\n",
       "    </tr>\n",
       "    <tr>\n",
       "      <th>1012</th>\n",
       "      <td>Acclaim Entertainment</td>\n",
       "      <td>14</td>\n",
       "      <td>5.41</td>\n",
       "      <td>1.77</td>\n",
       "      <td>2.1</td>\n",
       "      <td>4.22</td>\n",
       "      <td>5.0</td>\n",
       "      <td>6.82</td>\n",
       "      <td>8.7</td>\n",
       "    </tr>\n",
       "  </tbody>\n",
       "</table>\n",
       "</div>"
      ],
      "text/plain": [
       "                          dev  count_dev  mean_dev  std_dev  min_dev  25%_dev  \\\n",
       "438   Data Design Interactive         24      2.07     1.22      0.8     1.00   \n",
       "16            Digital Leisure         11      4.70     1.86      2.0     3.00   \n",
       "394             Sensory Sweep         13      4.87     1.89      1.9     3.00   \n",
       "1334                   Takara         14      4.96     1.96      1.5     3.38   \n",
       "163        Neko Entertainment         14      5.04     1.85      2.5     3.25   \n",
       "113                HB Studios         11      5.14     2.41      1.5     2.65   \n",
       "216          FarSight Studios         15      5.19     2.37      1.0     3.25   \n",
       "90                        3DO         34      5.22     1.74      2.5     4.00   \n",
       "937                  CI Games         14      5.24     1.35      3.0     4.50   \n",
       "1012    Acclaim Entertainment         14      5.41     1.77      2.1     4.22   \n",
       "\n",
       "      50%_dev  75%_dev  max_dev  \n",
       "438       2.0     2.92      6.0  \n",
       "16        4.5     6.75      7.2  \n",
       "394       5.5     6.40      7.5  \n",
       "1334      5.5     6.38      7.5  \n",
       "163       5.3     6.38      8.0  \n",
       "113       5.5     7.00      8.3  \n",
       "216       5.5     7.00      8.5  \n",
       "90        4.9     7.00      8.4  \n",
       "937       5.0     6.00      7.4  \n",
       "1012      5.0     6.82      8.7  "
      ]
     },
     "execution_count": 343,
     "metadata": {},
     "output_type": "execute_result"
    }
   ],
   "source": [
    "devs_df[devs_df['count_dev'] > 10].sort_values('mean_dev', ascending = True)[:10].round(2)"
   ]
  },
  {
   "cell_type": "markdown",
   "id": "cd6e6116-0ad9-4344-a2c2-9e7768227af2",
   "metadata": {
    "jp-MarkdownHeadingCollapsed": true,
    "tags": []
   },
   "source": [
    "## Analytics of franchises"
   ]
  },
  {
   "cell_type": "markdown",
   "id": "5a3000de-2c96-47cf-a912-5bd8ea76a30c",
   "metadata": {},
   "source": [
    "On the side of console, another thing that sparks debates among gamers, is the quality of their favorite franchises. To settle some discussions, we'll group the data by franchise and check who stands in the top."
   ]
  },
  {
   "cell_type": "markdown",
   "id": "4f7a3d0c-7998-47b5-9412-0840162a5650",
   "metadata": {},
   "source": [
    "Also, a note about this analysis: some games will belong to more than one franchise, such as Street Fighter VS Tekken. In those cases, as before, the score will count for both franchises."
   ]
  },
  {
   "cell_type": "code",
   "execution_count": 81,
   "id": "56f9c63d-8076-45d6-9fe4-a19747dd9e8b",
   "metadata": {},
   "outputs": [
    {
     "data": {
      "text/plain": [
       "1593"
      ]
     },
     "execution_count": 81,
     "metadata": {},
     "output_type": "execute_result"
    }
   ],
   "source": [
    "franchises_dict = {}\n",
    "for i in range(len(dfFran)):\n",
    "    if not np.isnan(dfFran.iloc[i].score):\n",
    "        for franchise in dfFran.iloc[i].franchises:\n",
    "            if franchise not in franchises_dict.keys():\n",
    "                franchises_dict[franchise] = [dfFran.iloc[i].score]\n",
    "            else:\n",
    "                franchises_dict[franchise] = [*franchises_dict[franchise], dfFran.iloc[i].score]\n",
    "len(franchises_dict)"
   ]
  },
  {
   "cell_type": "code",
   "execution_count": 82,
   "id": "a45b74c7-d8b5-4beb-94be-d84b1929d3d0",
   "metadata": {},
   "outputs": [],
   "source": [
    "franchises_list = []\n",
    "for franchise in franchises_dict:\n",
    "    current_franchise = {}\n",
    "    current_franchise['franchise'] = franchise\n",
    "    current_franchise['count_franchise'] = len(franchises_dict[franchise])\n",
    "    current_franchise['mean_franchise'] = np.mean(franchises_dict[franchise])\n",
    "    current_franchise['std_franchise'] = np.std(franchises_dict[franchise])\n",
    "    current_franchise['min_franchise'], current_franchise['25%_franchise'], current_franchise['50%_franchise'], current_franchise['75%_franchise'], current_franchise['max_franchise'] = np.quantile(franchises_dict[franchise], [0,0.25,0.5,0.75,1])\n",
    "    \n",
    "    \n",
    "    franchises_list.append(current_franchise)"
   ]
  },
  {
   "cell_type": "code",
   "execution_count": 83,
   "id": "7db05652-ca4f-4599-8f3a-463ca9160bb8",
   "metadata": {},
   "outputs": [
    {
     "data": {
      "text/html": [
       "<div>\n",
       "<style scoped>\n",
       "    .dataframe tbody tr th:only-of-type {\n",
       "        vertical-align: middle;\n",
       "    }\n",
       "\n",
       "    .dataframe tbody tr th {\n",
       "        vertical-align: top;\n",
       "    }\n",
       "\n",
       "    .dataframe thead th {\n",
       "        text-align: right;\n",
       "    }\n",
       "</style>\n",
       "<table border=\"1\" class=\"dataframe\">\n",
       "  <thead>\n",
       "    <tr style=\"text-align: right;\">\n",
       "      <th></th>\n",
       "      <th>franchise</th>\n",
       "      <th>count_franchise</th>\n",
       "      <th>mean_franchise</th>\n",
       "      <th>std_franchise</th>\n",
       "      <th>min_franchise</th>\n",
       "      <th>25%_franchise</th>\n",
       "      <th>50%_franchise</th>\n",
       "      <th>75%_franchise</th>\n",
       "      <th>max_franchise</th>\n",
       "    </tr>\n",
       "  </thead>\n",
       "  <tbody>\n",
       "    <tr>\n",
       "      <th>0</th>\n",
       "      <td>Far Cry</td>\n",
       "      <td>15</td>\n",
       "      <td>7.680000</td>\n",
       "      <td>1.367333</td>\n",
       "      <td>4.0</td>\n",
       "      <td>7.25</td>\n",
       "      <td>8.00</td>\n",
       "      <td>8.70</td>\n",
       "      <td>9.2</td>\n",
       "    </tr>\n",
       "    <tr>\n",
       "      <th>1</th>\n",
       "      <td>Bust a Groove</td>\n",
       "      <td>2</td>\n",
       "      <td>7.900000</td>\n",
       "      <td>1.100000</td>\n",
       "      <td>6.8</td>\n",
       "      <td>7.35</td>\n",
       "      <td>7.90</td>\n",
       "      <td>8.45</td>\n",
       "      <td>9.0</td>\n",
       "    </tr>\n",
       "    <tr>\n",
       "      <th>2</th>\n",
       "      <td>Star Trek</td>\n",
       "      <td>28</td>\n",
       "      <td>6.632143</td>\n",
       "      <td>1.356743</td>\n",
       "      <td>3.9</td>\n",
       "      <td>5.90</td>\n",
       "      <td>6.75</td>\n",
       "      <td>7.80</td>\n",
       "      <td>9.0</td>\n",
       "    </tr>\n",
       "    <tr>\n",
       "      <th>3</th>\n",
       "      <td>Chivalry - Medieval Warfare</td>\n",
       "      <td>3</td>\n",
       "      <td>8.333333</td>\n",
       "      <td>0.478423</td>\n",
       "      <td>7.9</td>\n",
       "      <td>8.00</td>\n",
       "      <td>8.10</td>\n",
       "      <td>8.55</td>\n",
       "      <td>9.0</td>\n",
       "    </tr>\n",
       "    <tr>\n",
       "      <th>4</th>\n",
       "      <td>Mario</td>\n",
       "      <td>110</td>\n",
       "      <td>7.810909</td>\n",
       "      <td>1.282210</td>\n",
       "      <td>4.5</td>\n",
       "      <td>7.00</td>\n",
       "      <td>7.95</td>\n",
       "      <td>8.90</td>\n",
       "      <td>10.0</td>\n",
       "    </tr>\n",
       "  </tbody>\n",
       "</table>\n",
       "</div>"
      ],
      "text/plain": [
       "                     franchise  count_franchise  mean_franchise  \\\n",
       "0                      Far Cry               15        7.680000   \n",
       "1                Bust a Groove                2        7.900000   \n",
       "2                    Star Trek               28        6.632143   \n",
       "3  Chivalry - Medieval Warfare                3        8.333333   \n",
       "4                        Mario              110        7.810909   \n",
       "\n",
       "   std_franchise  min_franchise  25%_franchise  50%_franchise  75%_franchise  \\\n",
       "0       1.367333            4.0           7.25           8.00           8.70   \n",
       "1       1.100000            6.8           7.35           7.90           8.45   \n",
       "2       1.356743            3.9           5.90           6.75           7.80   \n",
       "3       0.478423            7.9           8.00           8.10           8.55   \n",
       "4       1.282210            4.5           7.00           7.95           8.90   \n",
       "\n",
       "   max_franchise  \n",
       "0            9.2  \n",
       "1            9.0  \n",
       "2            9.0  \n",
       "3            9.0  \n",
       "4           10.0  "
      ]
     },
     "execution_count": 83,
     "metadata": {},
     "output_type": "execute_result"
    }
   ],
   "source": [
    "franchises_df = pd.DataFrame(franchises_list)\n",
    "franchises_df.head()"
   ]
  },
  {
   "cell_type": "code",
   "execution_count": 84,
   "id": "ade87831-2e6b-4970-a96f-a0b1c60ebcd0",
   "metadata": {},
   "outputs": [
    {
     "data": {
      "text/html": [
       "<div>\n",
       "<style scoped>\n",
       "    .dataframe tbody tr th:only-of-type {\n",
       "        vertical-align: middle;\n",
       "    }\n",
       "\n",
       "    .dataframe tbody tr th {\n",
       "        vertical-align: top;\n",
       "    }\n",
       "\n",
       "    .dataframe thead th {\n",
       "        text-align: right;\n",
       "    }\n",
       "</style>\n",
       "<table border=\"1\" class=\"dataframe\">\n",
       "  <thead>\n",
       "    <tr style=\"text-align: right;\">\n",
       "      <th></th>\n",
       "      <th>franchise</th>\n",
       "      <th>count_franchise</th>\n",
       "      <th>mean_franchise</th>\n",
       "      <th>std_franchise</th>\n",
       "      <th>min_franchise</th>\n",
       "      <th>25%_franchise</th>\n",
       "      <th>50%_franchise</th>\n",
       "      <th>75%_franchise</th>\n",
       "      <th>max_franchise</th>\n",
       "    </tr>\n",
       "  </thead>\n",
       "  <tbody>\n",
       "    <tr>\n",
       "      <th>4</th>\n",
       "      <td>Mario</td>\n",
       "      <td>110</td>\n",
       "      <td>7.810909</td>\n",
       "      <td>1.282210</td>\n",
       "      <td>4.5</td>\n",
       "      <td>7.00</td>\n",
       "      <td>7.95</td>\n",
       "      <td>8.900</td>\n",
       "      <td>10.0</td>\n",
       "    </tr>\n",
       "    <tr>\n",
       "      <th>34</th>\n",
       "      <td>Star Wars</td>\n",
       "      <td>70</td>\n",
       "      <td>7.297143</td>\n",
       "      <td>1.373730</td>\n",
       "      <td>3.0</td>\n",
       "      <td>6.50</td>\n",
       "      <td>7.65</td>\n",
       "      <td>8.150</td>\n",
       "      <td>9.1</td>\n",
       "    </tr>\n",
       "    <tr>\n",
       "      <th>7</th>\n",
       "      <td>FIFA</td>\n",
       "      <td>68</td>\n",
       "      <td>7.433824</td>\n",
       "      <td>1.505930</td>\n",
       "      <td>2.0</td>\n",
       "      <td>6.65</td>\n",
       "      <td>7.80</td>\n",
       "      <td>8.525</td>\n",
       "      <td>9.5</td>\n",
       "    </tr>\n",
       "    <tr>\n",
       "      <th>200</th>\n",
       "      <td>Final Fantasy</td>\n",
       "      <td>67</td>\n",
       "      <td>7.682090</td>\n",
       "      <td>1.526182</td>\n",
       "      <td>2.5</td>\n",
       "      <td>6.95</td>\n",
       "      <td>8.00</td>\n",
       "      <td>8.900</td>\n",
       "      <td>9.5</td>\n",
       "    </tr>\n",
       "    <tr>\n",
       "      <th>14</th>\n",
       "      <td>Sonic the Hedgehog</td>\n",
       "      <td>59</td>\n",
       "      <td>6.989831</td>\n",
       "      <td>1.485374</td>\n",
       "      <td>3.5</td>\n",
       "      <td>6.05</td>\n",
       "      <td>7.50</td>\n",
       "      <td>8.000</td>\n",
       "      <td>9.4</td>\n",
       "    </tr>\n",
       "    <tr>\n",
       "      <th>175</th>\n",
       "      <td>Madden NFL</td>\n",
       "      <td>53</td>\n",
       "      <td>7.988679</td>\n",
       "      <td>0.887791</td>\n",
       "      <td>5.0</td>\n",
       "      <td>7.60</td>\n",
       "      <td>8.10</td>\n",
       "      <td>8.600</td>\n",
       "      <td>9.5</td>\n",
       "    </tr>\n",
       "    <tr>\n",
       "      <th>204</th>\n",
       "      <td>Marvel</td>\n",
       "      <td>45</td>\n",
       "      <td>6.864444</td>\n",
       "      <td>1.652090</td>\n",
       "      <td>3.0</td>\n",
       "      <td>5.50</td>\n",
       "      <td>7.00</td>\n",
       "      <td>8.300</td>\n",
       "      <td>9.1</td>\n",
       "    </tr>\n",
       "    <tr>\n",
       "      <th>62</th>\n",
       "      <td>Pokemon</td>\n",
       "      <td>43</td>\n",
       "      <td>7.532558</td>\n",
       "      <td>1.586677</td>\n",
       "      <td>4.0</td>\n",
       "      <td>6.00</td>\n",
       "      <td>8.00</td>\n",
       "      <td>8.950</td>\n",
       "      <td>10.0</td>\n",
       "    </tr>\n",
       "    <tr>\n",
       "      <th>32</th>\n",
       "      <td>The Sims</td>\n",
       "      <td>42</td>\n",
       "      <td>7.504762</td>\n",
       "      <td>0.960395</td>\n",
       "      <td>4.5</td>\n",
       "      <td>7.00</td>\n",
       "      <td>7.50</td>\n",
       "      <td>8.150</td>\n",
       "      <td>9.4</td>\n",
       "    </tr>\n",
       "    <tr>\n",
       "      <th>196</th>\n",
       "      <td>Arcade Archives</td>\n",
       "      <td>40</td>\n",
       "      <td>6.152500</td>\n",
       "      <td>1.625729</td>\n",
       "      <td>2.0</td>\n",
       "      <td>5.00</td>\n",
       "      <td>6.25</td>\n",
       "      <td>7.500</td>\n",
       "      <td>9.0</td>\n",
       "    </tr>\n",
       "  </tbody>\n",
       "</table>\n",
       "</div>"
      ],
      "text/plain": [
       "              franchise  count_franchise  mean_franchise  std_franchise  \\\n",
       "4                 Mario              110        7.810909       1.282210   \n",
       "34            Star Wars               70        7.297143       1.373730   \n",
       "7                  FIFA               68        7.433824       1.505930   \n",
       "200       Final Fantasy               67        7.682090       1.526182   \n",
       "14   Sonic the Hedgehog               59        6.989831       1.485374   \n",
       "175          Madden NFL               53        7.988679       0.887791   \n",
       "204              Marvel               45        6.864444       1.652090   \n",
       "62              Pokemon               43        7.532558       1.586677   \n",
       "32             The Sims               42        7.504762       0.960395   \n",
       "196     Arcade Archives               40        6.152500       1.625729   \n",
       "\n",
       "     min_franchise  25%_franchise  50%_franchise  75%_franchise  max_franchise  \n",
       "4              4.5           7.00           7.95          8.900           10.0  \n",
       "34             3.0           6.50           7.65          8.150            9.1  \n",
       "7              2.0           6.65           7.80          8.525            9.5  \n",
       "200            2.5           6.95           8.00          8.900            9.5  \n",
       "14             3.5           6.05           7.50          8.000            9.4  \n",
       "175            5.0           7.60           8.10          8.600            9.5  \n",
       "204            3.0           5.50           7.00          8.300            9.1  \n",
       "62             4.0           6.00           8.00          8.950           10.0  \n",
       "32             4.5           7.00           7.50          8.150            9.4  \n",
       "196            2.0           5.00           6.25          7.500            9.0  "
      ]
     },
     "execution_count": 84,
     "metadata": {},
     "output_type": "execute_result"
    }
   ],
   "source": [
    "franchises_df.sort_values('count_franchise', ascending = False)[:10]"
   ]
  },
  {
   "cell_type": "markdown",
   "id": "8a59c42e-e2ec-4294-bc37-0a0be10ceafc",
   "metadata": {},
   "source": [
    "Before the main plate, a little appetizer. Here we have the franchises that released the most number of games through the years. Again, quantity does not equal quality, as we shall see in the next step."
   ]
  },
  {
   "cell_type": "code",
   "execution_count": 85,
   "id": "a0565f7b-c901-4f8c-af9c-721b3b37e633",
   "metadata": {},
   "outputs": [
    {
     "data": {
      "text/html": [
       "<div>\n",
       "<style scoped>\n",
       "    .dataframe tbody tr th:only-of-type {\n",
       "        vertical-align: middle;\n",
       "    }\n",
       "\n",
       "    .dataframe tbody tr th {\n",
       "        vertical-align: top;\n",
       "    }\n",
       "\n",
       "    .dataframe thead th {\n",
       "        text-align: right;\n",
       "    }\n",
       "</style>\n",
       "<table border=\"1\" class=\"dataframe\">\n",
       "  <thead>\n",
       "    <tr style=\"text-align: right;\">\n",
       "      <th></th>\n",
       "      <th>franchise</th>\n",
       "      <th>count_franchise</th>\n",
       "      <th>mean_franchise</th>\n",
       "      <th>std_franchise</th>\n",
       "      <th>min_franchise</th>\n",
       "      <th>25%_franchise</th>\n",
       "      <th>50%_franchise</th>\n",
       "      <th>75%_franchise</th>\n",
       "      <th>max_franchise</th>\n",
       "    </tr>\n",
       "  </thead>\n",
       "  <tbody>\n",
       "    <tr>\n",
       "      <th>510</th>\n",
       "      <td>The Last of Us</td>\n",
       "      <td>5</td>\n",
       "      <td>9.600000</td>\n",
       "      <td>0.489898</td>\n",
       "      <td>9.0</td>\n",
       "      <td>9.00</td>\n",
       "      <td>10.00</td>\n",
       "      <td>10.000</td>\n",
       "      <td>10.0</td>\n",
       "    </tr>\n",
       "    <tr>\n",
       "      <th>689</th>\n",
       "      <td>God of War</td>\n",
       "      <td>9</td>\n",
       "      <td>9.322222</td>\n",
       "      <td>0.605122</td>\n",
       "      <td>7.8</td>\n",
       "      <td>9.30</td>\n",
       "      <td>9.40</td>\n",
       "      <td>9.700</td>\n",
       "      <td>10.0</td>\n",
       "    </tr>\n",
       "    <tr>\n",
       "      <th>497</th>\n",
       "      <td>Homeworld</td>\n",
       "      <td>5</td>\n",
       "      <td>9.100000</td>\n",
       "      <td>0.236643</td>\n",
       "      <td>8.8</td>\n",
       "      <td>9.00</td>\n",
       "      <td>9.00</td>\n",
       "      <td>9.200</td>\n",
       "      <td>9.5</td>\n",
       "    </tr>\n",
       "    <tr>\n",
       "      <th>488</th>\n",
       "      <td>Super Smash Bros</td>\n",
       "      <td>5</td>\n",
       "      <td>9.100000</td>\n",
       "      <td>0.638749</td>\n",
       "      <td>8.0</td>\n",
       "      <td>8.80</td>\n",
       "      <td>9.40</td>\n",
       "      <td>9.500</td>\n",
       "      <td>9.8</td>\n",
       "    </tr>\n",
       "    <tr>\n",
       "      <th>631</th>\n",
       "      <td>Uncharted</td>\n",
       "      <td>6</td>\n",
       "      <td>9.016667</td>\n",
       "      <td>0.764671</td>\n",
       "      <td>7.5</td>\n",
       "      <td>9.00</td>\n",
       "      <td>9.05</td>\n",
       "      <td>9.400</td>\n",
       "      <td>10.0</td>\n",
       "    </tr>\n",
       "    <tr>\n",
       "      <th>604</th>\n",
       "      <td>Jak and Daxter</td>\n",
       "      <td>6</td>\n",
       "      <td>8.983333</td>\n",
       "      <td>0.744797</td>\n",
       "      <td>7.4</td>\n",
       "      <td>9.00</td>\n",
       "      <td>9.20</td>\n",
       "      <td>9.475</td>\n",
       "      <td>9.6</td>\n",
       "    </tr>\n",
       "    <tr>\n",
       "      <th>1146</th>\n",
       "      <td>Wipeout</td>\n",
       "      <td>8</td>\n",
       "      <td>8.925000</td>\n",
       "      <td>0.369966</td>\n",
       "      <td>8.0</td>\n",
       "      <td>8.95</td>\n",
       "      <td>9.05</td>\n",
       "      <td>9.125</td>\n",
       "      <td>9.2</td>\n",
       "    </tr>\n",
       "    <tr>\n",
       "      <th>436</th>\n",
       "      <td>Wars (Nintendo)</td>\n",
       "      <td>6</td>\n",
       "      <td>8.883333</td>\n",
       "      <td>0.566912</td>\n",
       "      <td>8.0</td>\n",
       "      <td>8.65</td>\n",
       "      <td>8.90</td>\n",
       "      <td>9.000</td>\n",
       "      <td>9.9</td>\n",
       "    </tr>\n",
       "    <tr>\n",
       "      <th>437</th>\n",
       "      <td>Advance Wars</td>\n",
       "      <td>6</td>\n",
       "      <td>8.883333</td>\n",
       "      <td>0.566912</td>\n",
       "      <td>8.0</td>\n",
       "      <td>8.65</td>\n",
       "      <td>8.90</td>\n",
       "      <td>9.000</td>\n",
       "      <td>9.9</td>\n",
       "    </tr>\n",
       "    <tr>\n",
       "      <th>103</th>\n",
       "      <td>Forza</td>\n",
       "      <td>17</td>\n",
       "      <td>8.870588</td>\n",
       "      <td>0.790208</td>\n",
       "      <td>6.5</td>\n",
       "      <td>8.80</td>\n",
       "      <td>9.00</td>\n",
       "      <td>9.400</td>\n",
       "      <td>10.0</td>\n",
       "    </tr>\n",
       "    <tr>\n",
       "      <th>640</th>\n",
       "      <td>Half-Life</td>\n",
       "      <td>9</td>\n",
       "      <td>8.866667</td>\n",
       "      <td>0.935711</td>\n",
       "      <td>7.0</td>\n",
       "      <td>8.20</td>\n",
       "      <td>9.40</td>\n",
       "      <td>9.500</td>\n",
       "      <td>10.0</td>\n",
       "    </tr>\n",
       "  </tbody>\n",
       "</table>\n",
       "</div>"
      ],
      "text/plain": [
       "             franchise  count_franchise  mean_franchise  std_franchise  \\\n",
       "510     The Last of Us                5        9.600000       0.489898   \n",
       "689         God of War                9        9.322222       0.605122   \n",
       "497          Homeworld                5        9.100000       0.236643   \n",
       "488   Super Smash Bros                5        9.100000       0.638749   \n",
       "631          Uncharted                6        9.016667       0.764671   \n",
       "604     Jak and Daxter                6        8.983333       0.744797   \n",
       "1146           Wipeout                8        8.925000       0.369966   \n",
       "436    Wars (Nintendo)                6        8.883333       0.566912   \n",
       "437       Advance Wars                6        8.883333       0.566912   \n",
       "103              Forza               17        8.870588       0.790208   \n",
       "640          Half-Life                9        8.866667       0.935711   \n",
       "\n",
       "      min_franchise  25%_franchise  50%_franchise  75%_franchise  \\\n",
       "510             9.0           9.00          10.00         10.000   \n",
       "689             7.8           9.30           9.40          9.700   \n",
       "497             8.8           9.00           9.00          9.200   \n",
       "488             8.0           8.80           9.40          9.500   \n",
       "631             7.5           9.00           9.05          9.400   \n",
       "604             7.4           9.00           9.20          9.475   \n",
       "1146            8.0           8.95           9.05          9.125   \n",
       "436             8.0           8.65           8.90          9.000   \n",
       "437             8.0           8.65           8.90          9.000   \n",
       "103             6.5           8.80           9.00          9.400   \n",
       "640             7.0           8.20           9.40          9.500   \n",
       "\n",
       "      max_franchise  \n",
       "510            10.0  \n",
       "689            10.0  \n",
       "497             9.5  \n",
       "488             9.8  \n",
       "631            10.0  \n",
       "604             9.6  \n",
       "1146            9.2  \n",
       "436             9.9  \n",
       "437             9.9  \n",
       "103            10.0  \n",
       "640            10.0  "
      ]
     },
     "execution_count": 85,
     "metadata": {},
     "output_type": "execute_result"
    }
   ],
   "source": [
    "franchises_df[franchises_df.count_franchise >= 5].sort_values('mean_franchise', ascending = False)[:11]"
   ]
  },
  {
   "cell_type": "markdown",
   "id": "45f8b765-0531-47c2-8be0-103d5ba47132",
   "metadata": {},
   "source": [
    "First is importante to mention that we limited for games with at least 5 games. This decision was made because some games we're released more then once as the same game, but counted as two of the same franchise, such as Grim Fandango and Grind Fandago Remake. Second, the original ideia was to show the 10 franchises with the highest mean. But Wars (Nintendo) and the Advanced Wars revered to the same franchise (which incudes the same count and scores). So we added one more to be sure to have 10 different franchises."
   ]
  },
  {
   "cell_type": "markdown",
   "id": "1ecfc564-2a66-4584-aca3-05e8358d066b",
   "metadata": {},
   "source": [
    "The franchises with the highest scores are, almost always, games with a low number of released games. One explanation is that lower number allows for less bad games. After all, every new game released is a new chance to release a bad game. These would explains why series such as Mario or Zelda didn't showed up on the top 10. "
   ]
  },
  {
   "cell_type": "code",
   "execution_count": 86,
   "id": "4d6416b0-dc47-4080-9ab7-41c48f42a62b",
   "metadata": {},
   "outputs": [
    {
     "data": {
      "text/html": [
       "<div>\n",
       "<style scoped>\n",
       "    .dataframe tbody tr th:only-of-type {\n",
       "        vertical-align: middle;\n",
       "    }\n",
       "\n",
       "    .dataframe tbody tr th {\n",
       "        vertical-align: top;\n",
       "    }\n",
       "\n",
       "    .dataframe thead th {\n",
       "        text-align: right;\n",
       "    }\n",
       "</style>\n",
       "<table border=\"1\" class=\"dataframe\">\n",
       "  <thead>\n",
       "    <tr style=\"text-align: right;\">\n",
       "      <th></th>\n",
       "      <th>franchise</th>\n",
       "      <th>count_franchise</th>\n",
       "      <th>mean_franchise</th>\n",
       "      <th>std_franchise</th>\n",
       "      <th>min_franchise</th>\n",
       "      <th>25%_franchise</th>\n",
       "      <th>50%_franchise</th>\n",
       "      <th>75%_franchise</th>\n",
       "      <th>max_franchise</th>\n",
       "    </tr>\n",
       "  </thead>\n",
       "  <tbody>\n",
       "    <tr>\n",
       "      <th>280</th>\n",
       "      <td>Backyard Sports</td>\n",
       "      <td>8</td>\n",
       "      <td>4.187500</td>\n",
       "      <td>2.178553</td>\n",
       "      <td>1.0</td>\n",
       "      <td>1.875</td>\n",
       "      <td>5.00</td>\n",
       "      <td>6.125</td>\n",
       "      <td>6.5</td>\n",
       "    </tr>\n",
       "    <tr>\n",
       "      <th>431</th>\n",
       "      <td>Monster Jam</td>\n",
       "      <td>5</td>\n",
       "      <td>4.420000</td>\n",
       "      <td>0.722219</td>\n",
       "      <td>3.6</td>\n",
       "      <td>3.800</td>\n",
       "      <td>4.20</td>\n",
       "      <td>5.000</td>\n",
       "      <td>5.5</td>\n",
       "    </tr>\n",
       "    <tr>\n",
       "      <th>976</th>\n",
       "      <td>Reel Fishing</td>\n",
       "      <td>6</td>\n",
       "      <td>4.933333</td>\n",
       "      <td>1.616237</td>\n",
       "      <td>2.1</td>\n",
       "      <td>4.100</td>\n",
       "      <td>5.20</td>\n",
       "      <td>6.225</td>\n",
       "      <td>6.8</td>\n",
       "    </tr>\n",
       "    <tr>\n",
       "      <th>907</th>\n",
       "      <td>Barbie</td>\n",
       "      <td>5</td>\n",
       "      <td>4.940000</td>\n",
       "      <td>1.653602</td>\n",
       "      <td>3.0</td>\n",
       "      <td>4.000</td>\n",
       "      <td>4.00</td>\n",
       "      <td>6.200</td>\n",
       "      <td>7.5</td>\n",
       "    </tr>\n",
       "    <tr>\n",
       "      <th>525</th>\n",
       "      <td>Power Rangers</td>\n",
       "      <td>6</td>\n",
       "      <td>4.966667</td>\n",
       "      <td>1.273665</td>\n",
       "      <td>3.0</td>\n",
       "      <td>4.125</td>\n",
       "      <td>5.00</td>\n",
       "      <td>5.875</td>\n",
       "      <td>6.8</td>\n",
       "    </tr>\n",
       "    <tr>\n",
       "      <th>194</th>\n",
       "      <td>Alone in the Dark</td>\n",
       "      <td>5</td>\n",
       "      <td>5.160000</td>\n",
       "      <td>1.422111</td>\n",
       "      <td>3.0</td>\n",
       "      <td>4.000</td>\n",
       "      <td>6.00</td>\n",
       "      <td>6.000</td>\n",
       "      <td>6.8</td>\n",
       "    </tr>\n",
       "    <tr>\n",
       "      <th>476</th>\n",
       "      <td>Sniper: Ghost Warrior</td>\n",
       "      <td>6</td>\n",
       "      <td>5.216667</td>\n",
       "      <td>1.323401</td>\n",
       "      <td>3.0</td>\n",
       "      <td>4.625</td>\n",
       "      <td>5.25</td>\n",
       "      <td>5.875</td>\n",
       "      <td>7.3</td>\n",
       "    </tr>\n",
       "    <tr>\n",
       "      <th>24</th>\n",
       "      <td>Terminator</td>\n",
       "      <td>7</td>\n",
       "      <td>5.242857</td>\n",
       "      <td>1.477311</td>\n",
       "      <td>3.5</td>\n",
       "      <td>3.750</td>\n",
       "      <td>5.30</td>\n",
       "      <td>6.650</td>\n",
       "      <td>7.1</td>\n",
       "    </tr>\n",
       "    <tr>\n",
       "      <th>362</th>\n",
       "      <td>Cruis'n</td>\n",
       "      <td>5</td>\n",
       "      <td>5.300000</td>\n",
       "      <td>1.536229</td>\n",
       "      <td>3.0</td>\n",
       "      <td>4.000</td>\n",
       "      <td>6.00</td>\n",
       "      <td>6.500</td>\n",
       "      <td>7.0</td>\n",
       "    </tr>\n",
       "    <tr>\n",
       "      <th>742</th>\n",
       "      <td>Double Dragon</td>\n",
       "      <td>6</td>\n",
       "      <td>5.333333</td>\n",
       "      <td>1.649916</td>\n",
       "      <td>3.0</td>\n",
       "      <td>4.000</td>\n",
       "      <td>5.50</td>\n",
       "      <td>6.625</td>\n",
       "      <td>7.5</td>\n",
       "    </tr>\n",
       "  </tbody>\n",
       "</table>\n",
       "</div>"
      ],
      "text/plain": [
       "                 franchise  count_franchise  mean_franchise  std_franchise  \\\n",
       "280        Backyard Sports                8        4.187500       2.178553   \n",
       "431            Monster Jam                5        4.420000       0.722219   \n",
       "976           Reel Fishing                6        4.933333       1.616237   \n",
       "907                 Barbie                5        4.940000       1.653602   \n",
       "525          Power Rangers                6        4.966667       1.273665   \n",
       "194      Alone in the Dark                5        5.160000       1.422111   \n",
       "476  Sniper: Ghost Warrior                6        5.216667       1.323401   \n",
       "24              Terminator                7        5.242857       1.477311   \n",
       "362                Cruis'n                5        5.300000       1.536229   \n",
       "742          Double Dragon                6        5.333333       1.649916   \n",
       "\n",
       "     min_franchise  25%_franchise  50%_franchise  75%_franchise  max_franchise  \n",
       "280            1.0          1.875           5.00          6.125            6.5  \n",
       "431            3.6          3.800           4.20          5.000            5.5  \n",
       "976            2.1          4.100           5.20          6.225            6.8  \n",
       "907            3.0          4.000           4.00          6.200            7.5  \n",
       "525            3.0          4.125           5.00          5.875            6.8  \n",
       "194            3.0          4.000           6.00          6.000            6.8  \n",
       "476            3.0          4.625           5.25          5.875            7.3  \n",
       "24             3.5          3.750           5.30          6.650            7.1  \n",
       "362            3.0          4.000           6.00          6.500            7.0  \n",
       "742            3.0          4.000           5.50          6.625            7.5  "
      ]
     },
     "execution_count": 86,
     "metadata": {},
     "output_type": "execute_result"
    }
   ],
   "source": [
    "franchises_df[franchises_df.count_franchise >= 5].sort_values('mean_franchise', ascending=True)[:10]"
   ]
  },
  {
   "cell_type": "markdown",
   "id": "fc176945-1099-4326-a9e3-a6455dbc81b8",
   "metadata": {},
   "source": [
    "Now, looking at the 10 with the lowest scores we keep the idea to only select franchises with 5 or more released games. We see here a different scenario. Although the number of games per franchise is still pretty low, we see another pattern: On the top 10 higher all the franchises were originally planned for games. The same doesn't happen here. Monster Jam, Barbie, Power Rangers and Terminator are all licensed products. Although further digging is needed to stabilish a pattern, the ideia that a product made for promote another thing having lower results shouldn't be seen as unprobably."
   ]
  },
  {
   "cell_type": "code",
   "execution_count": 87,
   "id": "ffe55869-5e35-41a0-9f85-661b2d4f7199",
   "metadata": {},
   "outputs": [
    {
     "data": {
      "text/html": [
       "<div>\n",
       "<style scoped>\n",
       "    .dataframe tbody tr th:only-of-type {\n",
       "        vertical-align: middle;\n",
       "    }\n",
       "\n",
       "    .dataframe tbody tr th {\n",
       "        vertical-align: top;\n",
       "    }\n",
       "\n",
       "    .dataframe thead th {\n",
       "        text-align: right;\n",
       "    }\n",
       "</style>\n",
       "<table border=\"1\" class=\"dataframe\">\n",
       "  <thead>\n",
       "    <tr style=\"text-align: right;\">\n",
       "      <th></th>\n",
       "      <th>franchise</th>\n",
       "      <th>count_franchise</th>\n",
       "      <th>mean_franchise</th>\n",
       "      <th>std_franchise</th>\n",
       "      <th>min_franchise</th>\n",
       "      <th>25%_franchise</th>\n",
       "      <th>50%_franchise</th>\n",
       "      <th>75%_franchise</th>\n",
       "      <th>max_franchise</th>\n",
       "    </tr>\n",
       "  </thead>\n",
       "  <tbody>\n",
       "    <tr>\n",
       "      <th>596</th>\n",
       "      <td>The Simpsons</td>\n",
       "      <td>9</td>\n",
       "      <td>6.011111</td>\n",
       "      <td>2.405754</td>\n",
       "      <td>1.0</td>\n",
       "      <td>5.800</td>\n",
       "      <td>7.00</td>\n",
       "      <td>7.700</td>\n",
       "      <td>8.1</td>\n",
       "    </tr>\n",
       "    <tr>\n",
       "      <th>409</th>\n",
       "      <td>South Park</td>\n",
       "      <td>8</td>\n",
       "      <td>5.887500</td>\n",
       "      <td>2.334758</td>\n",
       "      <td>2.1</td>\n",
       "      <td>4.125</td>\n",
       "      <td>6.50</td>\n",
       "      <td>7.375</td>\n",
       "      <td>9.0</td>\n",
       "    </tr>\n",
       "    <tr>\n",
       "      <th>180</th>\n",
       "      <td>Kaidou Battle / Tokyo Xtreme Racer</td>\n",
       "      <td>8</td>\n",
       "      <td>6.312500</td>\n",
       "      <td>2.323487</td>\n",
       "      <td>2.5</td>\n",
       "      <td>4.375</td>\n",
       "      <td>6.55</td>\n",
       "      <td>8.425</td>\n",
       "      <td>9.3</td>\n",
       "    </tr>\n",
       "    <tr>\n",
       "      <th>68</th>\n",
       "      <td>NASCAR Racing</td>\n",
       "      <td>6</td>\n",
       "      <td>8.083333</td>\n",
       "      <td>2.278462</td>\n",
       "      <td>3.0</td>\n",
       "      <td>8.900</td>\n",
       "      <td>9.05</td>\n",
       "      <td>9.200</td>\n",
       "      <td>9.3</td>\n",
       "    </tr>\n",
       "    <tr>\n",
       "      <th>626</th>\n",
       "      <td>Buzz [PlayStation]</td>\n",
       "      <td>7</td>\n",
       "      <td>6.557143</td>\n",
       "      <td>2.245540</td>\n",
       "      <td>2.3</td>\n",
       "      <td>5.250</td>\n",
       "      <td>7.80</td>\n",
       "      <td>8.150</td>\n",
       "      <td>9.0</td>\n",
       "    </tr>\n",
       "    <tr>\n",
       "      <th>819</th>\n",
       "      <td>World of Outlaws - Sprint Cars</td>\n",
       "      <td>5</td>\n",
       "      <td>5.540000</td>\n",
       "      <td>2.195085</td>\n",
       "      <td>2.3</td>\n",
       "      <td>4.500</td>\n",
       "      <td>5.00</td>\n",
       "      <td>7.400</td>\n",
       "      <td>8.5</td>\n",
       "    </tr>\n",
       "    <tr>\n",
       "      <th>280</th>\n",
       "      <td>Backyard Sports</td>\n",
       "      <td>8</td>\n",
       "      <td>4.187500</td>\n",
       "      <td>2.178553</td>\n",
       "      <td>1.0</td>\n",
       "      <td>1.875</td>\n",
       "      <td>5.00</td>\n",
       "      <td>6.125</td>\n",
       "      <td>6.5</td>\n",
       "    </tr>\n",
       "    <tr>\n",
       "      <th>770</th>\n",
       "      <td>Asphalt Racing</td>\n",
       "      <td>5</td>\n",
       "      <td>7.060000</td>\n",
       "      <td>2.091507</td>\n",
       "      <td>3.0</td>\n",
       "      <td>7.500</td>\n",
       "      <td>7.80</td>\n",
       "      <td>8.000</td>\n",
       "      <td>9.0</td>\n",
       "    </tr>\n",
       "    <tr>\n",
       "      <th>383</th>\n",
       "      <td>Contra</td>\n",
       "      <td>12</td>\n",
       "      <td>6.325000</td>\n",
       "      <td>2.084916</td>\n",
       "      <td>1.0</td>\n",
       "      <td>5.525</td>\n",
       "      <td>7.00</td>\n",
       "      <td>8.000</td>\n",
       "      <td>8.5</td>\n",
       "    </tr>\n",
       "    <tr>\n",
       "      <th>363</th>\n",
       "      <td>Microsoft Flight Simulator</td>\n",
       "      <td>7</td>\n",
       "      <td>7.457143</td>\n",
       "      <td>2.069408</td>\n",
       "      <td>4.0</td>\n",
       "      <td>6.000</td>\n",
       "      <td>8.20</td>\n",
       "      <td>9.000</td>\n",
       "      <td>10.0</td>\n",
       "    </tr>\n",
       "  </tbody>\n",
       "</table>\n",
       "</div>"
      ],
      "text/plain": [
       "                              franchise  count_franchise  mean_franchise  \\\n",
       "596                        The Simpsons                9        6.011111   \n",
       "409                          South Park                8        5.887500   \n",
       "180  Kaidou Battle / Tokyo Xtreme Racer                8        6.312500   \n",
       "68                        NASCAR Racing                6        8.083333   \n",
       "626                  Buzz [PlayStation]                7        6.557143   \n",
       "819      World of Outlaws - Sprint Cars                5        5.540000   \n",
       "280                     Backyard Sports                8        4.187500   \n",
       "770                      Asphalt Racing                5        7.060000   \n",
       "383                              Contra               12        6.325000   \n",
       "363          Microsoft Flight Simulator                7        7.457143   \n",
       "\n",
       "     std_franchise  min_franchise  25%_franchise  50%_franchise  \\\n",
       "596       2.405754            1.0          5.800           7.00   \n",
       "409       2.334758            2.1          4.125           6.50   \n",
       "180       2.323487            2.5          4.375           6.55   \n",
       "68        2.278462            3.0          8.900           9.05   \n",
       "626       2.245540            2.3          5.250           7.80   \n",
       "819       2.195085            2.3          4.500           5.00   \n",
       "280       2.178553            1.0          1.875           5.00   \n",
       "770       2.091507            3.0          7.500           7.80   \n",
       "383       2.084916            1.0          5.525           7.00   \n",
       "363       2.069408            4.0          6.000           8.20   \n",
       "\n",
       "     75%_franchise  max_franchise  \n",
       "596          7.700            8.1  \n",
       "409          7.375            9.0  \n",
       "180          8.425            9.3  \n",
       "68           9.200            9.3  \n",
       "626          8.150            9.0  \n",
       "819          7.400            8.5  \n",
       "280          6.125            6.5  \n",
       "770          8.000            9.0  \n",
       "383          8.000            8.5  \n",
       "363          9.000           10.0  "
      ]
     },
     "execution_count": 87,
     "metadata": {},
     "output_type": "execute_result"
    }
   ],
   "source": [
    "franchises_df[franchises_df.count_franchise >= 5].sort_values('std_franchise', ascending=False)[:10]"
   ]
  },
  {
   "cell_type": "markdown",
   "id": "2ae33ab6-c7b2-46ad-80eb-b1a6f5ea669e",
   "metadata": {},
   "source": [
    "Then, we order the franchises based on standard deviation. The goal here was to see which franchises have the less constancy on their score. And again we see some licensed products: Simpsons, South Park and NASCAR. Other then that, is worth notice that Flight Simulator was able to get 4 and also a 10, this last is something that no game in the sixth generation had (no, I'm not letting this go)."
   ]
  },
  {
   "cell_type": "markdown",
   "id": "11d4a384-aa04-4a4a-b41c-1ed167bf95bd",
   "metadata": {
    "jp-MarkdownHeadingCollapsed": true,
    "tags": []
   },
   "source": [
    "## Analytics of time series"
   ]
  },
  {
   "cell_type": "code",
   "execution_count": 354,
   "id": "bbc83183-3c0f-4183-bbb7-6abb7d2160a2",
   "metadata": {
    "collapsed": true,
    "jupyter": {
     "outputs_hidden": true
    },
    "tags": []
   },
   "outputs": [
    {
     "name": "stderr",
     "output_type": "stream",
     "text": [
      "/var/folders/19/95z41cms6y99z9crn3jgx_l00000gn/T/ipykernel_880/148882761.py:1: SettingWithCopyWarning: \n",
      "A value is trying to be set on a copy of a slice from a DataFrame.\n",
      "Try using .loc[row_indexer,col_indexer] = value instead\n",
      "\n",
      "See the caveats in the documentation: https://pandas.pydata.org/pandas-docs/stable/user_guide/indexing.html#returning-a-view-versus-a-copy\n",
      "  dfDates['year'] = dfDates['date'].apply(lambda x: x.year)\n",
      "/var/folders/19/95z41cms6y99z9crn3jgx_l00000gn/T/ipykernel_880/148882761.py:2: SettingWithCopyWarning: \n",
      "A value is trying to be set on a copy of a slice from a DataFrame.\n",
      "Try using .loc[row_indexer,col_indexer] = value instead\n",
      "\n",
      "See the caveats in the documentation: https://pandas.pydata.org/pandas-docs/stable/user_guide/indexing.html#returning-a-view-versus-a-copy\n",
      "  dfDates['month'] = dfDates['date'].apply(lambda x: x.month)\n"
     ]
    },
    {
     "data": {
      "text/html": [
       "<div>\n",
       "<style scoped>\n",
       "    .dataframe tbody tr th:only-of-type {\n",
       "        vertical-align: middle;\n",
       "    }\n",
       "\n",
       "    .dataframe tbody tr th {\n",
       "        vertical-align: top;\n",
       "    }\n",
       "\n",
       "    .dataframe thead th {\n",
       "        text-align: right;\n",
       "    }\n",
       "</style>\n",
       "<table border=\"1\" class=\"dataframe\">\n",
       "  <thead>\n",
       "    <tr style=\"text-align: right;\">\n",
       "      <th></th>\n",
       "      <th>game</th>\n",
       "      <th>developers</th>\n",
       "      <th>publishers</th>\n",
       "      <th>franchises</th>\n",
       "      <th>features</th>\n",
       "      <th>released_date</th>\n",
       "      <th>platform</th>\n",
       "      <th>genres</th>\n",
       "      <th>score</th>\n",
       "      <th>score_text</th>\n",
       "      <th>esrb</th>\n",
       "      <th>esrb_info</th>\n",
       "      <th>date</th>\n",
       "      <th>year_month</th>\n",
       "      <th>year</th>\n",
       "      <th>month</th>\n",
       "    </tr>\n",
       "  </thead>\n",
       "  <tbody>\n",
       "    <tr>\n",
       "      <th>0</th>\n",
       "      <td>Magic &amp; Mayhem</td>\n",
       "      <td>['Mythos Games']</td>\n",
       "      <td>['Bethesda  Softworks']</td>\n",
       "      <td>NaN</td>\n",
       "      <td>['Memory Card', 'Online']</td>\n",
       "      <td>1999-05-15 00:00:00</td>\n",
       "      <td>['PC']</td>\n",
       "      <td>['Strategy']</td>\n",
       "      <td>7.3</td>\n",
       "      <td>good</td>\n",
       "      <td>Teen</td>\n",
       "      <td>['Animated Violence']</td>\n",
       "      <td>1999-05-15 00:00:00</td>\n",
       "      <td>1999-05-01 00:00:00</td>\n",
       "      <td>1999</td>\n",
       "      <td>5</td>\n",
       "    </tr>\n",
       "    <tr>\n",
       "      <th>1</th>\n",
       "      <td>Fishing Master [2007]</td>\n",
       "      <td>['Hudson Soft']</td>\n",
       "      <td>['Konami', 'Hudson Soft']</td>\n",
       "      <td>NaN</td>\n",
       "      <td>['Number Of Players', 'Local - VS # of Players']</td>\n",
       "      <td>2006-03-29 00:00:00</td>\n",
       "      <td>['Wii']</td>\n",
       "      <td>['Hunting']</td>\n",
       "      <td>5.5</td>\n",
       "      <td>mediocre</td>\n",
       "      <td>Everyone</td>\n",
       "      <td>['Mild Language']</td>\n",
       "      <td>2006-03-29 00:00:00</td>\n",
       "      <td>2006-03-01 00:00:00</td>\n",
       "      <td>2006</td>\n",
       "      <td>3</td>\n",
       "    </tr>\n",
       "    <tr>\n",
       "      <th>2</th>\n",
       "      <td>Far Cry 2</td>\n",
       "      <td>['Gameloft', 'Ubisoft Montreal']</td>\n",
       "      <td>['Ubisoft', 'Gameloft']</td>\n",
       "      <td>['Far Cry']</td>\n",
       "      <td>['Memory Card', 'Vibration', 'DualShock', 'Mem...</td>\n",
       "      <td>2008-10-21 00:00:00</td>\n",
       "      <td>['Luna', 'PC', 'Wireless', 'Xbox 360', 'PlaySt...</td>\n",
       "      <td>['Shooter']</td>\n",
       "      <td>8.9</td>\n",
       "      <td>great</td>\n",
       "      <td>Mature</td>\n",
       "      <td>['Intense Violence', 'Drug Reference', 'Strong...</td>\n",
       "      <td>2008-10-21 00:00:00</td>\n",
       "      <td>2008-10-01 00:00:00</td>\n",
       "      <td>2008</td>\n",
       "      <td>10</td>\n",
       "    </tr>\n",
       "    <tr>\n",
       "      <th>3</th>\n",
       "      <td>Pro 18: World Tour Golf</td>\n",
       "      <td>['Psygnosis']</td>\n",
       "      <td>['Psygnosis', 'Electro Source']</td>\n",
       "      <td>NaN</td>\n",
       "      <td>['Number Of Players', 'Memory Card', 'Online']</td>\n",
       "      <td>1999-03-31 00:00:00</td>\n",
       "      <td>['PC', 'PlayStation']</td>\n",
       "      <td>['Sports']</td>\n",
       "      <td>3.0</td>\n",
       "      <td>awful</td>\n",
       "      <td>Everyone</td>\n",
       "      <td>['Suitable for Persons Ages Six and Older', 'N...</td>\n",
       "      <td>1999-03-31 00:00:00</td>\n",
       "      <td>1999-03-01 00:00:00</td>\n",
       "      <td>1999</td>\n",
       "      <td>3</td>\n",
       "    </tr>\n",
       "    <tr>\n",
       "      <th>4</th>\n",
       "      <td>Bust A Groove</td>\n",
       "      <td>['Metro Corporation (aka Metro Graphics)']</td>\n",
       "      <td>['Sony Computer Entertainment', 'Enix', '989 S...</td>\n",
       "      <td>['Bust a Groove']</td>\n",
       "      <td>['Number Of Players', 'Memory Card', 'Vibration']</td>\n",
       "      <td>1998-04-27 00:00:00</td>\n",
       "      <td>['PlayStation']</td>\n",
       "      <td>['Action', 'Music']</td>\n",
       "      <td>9.0</td>\n",
       "      <td>amazing</td>\n",
       "      <td>Everyone</td>\n",
       "      <td>['Mild Language']</td>\n",
       "      <td>1998-04-27 00:00:00</td>\n",
       "      <td>1998-04-01 00:00:00</td>\n",
       "      <td>1998</td>\n",
       "      <td>4</td>\n",
       "    </tr>\n",
       "  </tbody>\n",
       "</table>\n",
       "</div>"
      ],
      "text/plain": [
       "                      game                                  developers  \\\n",
       "0           Magic & Mayhem                            ['Mythos Games']   \n",
       "1    Fishing Master [2007]                             ['Hudson Soft']   \n",
       "2                Far Cry 2            ['Gameloft', 'Ubisoft Montreal']   \n",
       "3  Pro 18: World Tour Golf                               ['Psygnosis']   \n",
       "4            Bust A Groove  ['Metro Corporation (aka Metro Graphics)']   \n",
       "\n",
       "                                          publishers         franchises  \\\n",
       "0                            ['Bethesda  Softworks']                NaN   \n",
       "1                          ['Konami', 'Hudson Soft']                NaN   \n",
       "2                            ['Ubisoft', 'Gameloft']        ['Far Cry']   \n",
       "3                    ['Psygnosis', 'Electro Source']                NaN   \n",
       "4  ['Sony Computer Entertainment', 'Enix', '989 S...  ['Bust a Groove']   \n",
       "\n",
       "                                            features        released_date  \\\n",
       "0                          ['Memory Card', 'Online']  1999-05-15 00:00:00   \n",
       "1   ['Number Of Players', 'Local - VS # of Players']  2006-03-29 00:00:00   \n",
       "2  ['Memory Card', 'Vibration', 'DualShock', 'Mem...  2008-10-21 00:00:00   \n",
       "3     ['Number Of Players', 'Memory Card', 'Online']  1999-03-31 00:00:00   \n",
       "4  ['Number Of Players', 'Memory Card', 'Vibration']  1998-04-27 00:00:00   \n",
       "\n",
       "                                            platform               genres  \\\n",
       "0                                             ['PC']         ['Strategy']   \n",
       "1                                            ['Wii']          ['Hunting']   \n",
       "2  ['Luna', 'PC', 'Wireless', 'Xbox 360', 'PlaySt...          ['Shooter']   \n",
       "3                              ['PC', 'PlayStation']           ['Sports']   \n",
       "4                                    ['PlayStation']  ['Action', 'Music']   \n",
       "\n",
       "   score score_text      esrb  \\\n",
       "0    7.3       good      Teen   \n",
       "1    5.5   mediocre  Everyone   \n",
       "2    8.9      great    Mature   \n",
       "3    3.0      awful  Everyone   \n",
       "4    9.0    amazing  Everyone   \n",
       "\n",
       "                                           esrb_info                 date  \\\n",
       "0                              ['Animated Violence']  1999-05-15 00:00:00   \n",
       "1                                  ['Mild Language']  2006-03-29 00:00:00   \n",
       "2  ['Intense Violence', 'Drug Reference', 'Strong...  2008-10-21 00:00:00   \n",
       "3  ['Suitable for Persons Ages Six and Older', 'N...  1999-03-31 00:00:00   \n",
       "4                                  ['Mild Language']  1998-04-27 00:00:00   \n",
       "\n",
       "            year_month  year  month  \n",
       "0  1999-05-01 00:00:00  1999      5  \n",
       "1  2006-03-01 00:00:00  2006      3  \n",
       "2  2008-10-01 00:00:00  2008     10  \n",
       "3  1999-03-01 00:00:00  1999      3  \n",
       "4  1998-04-01 00:00:00  1998      4  "
      ]
     },
     "execution_count": 354,
     "metadata": {},
     "output_type": "execute_result"
    }
   ],
   "source": [
    "dfDates['year'] = dfDates['date'].apply(lambda x: x.year)\n",
    "dfDates['month'] = dfDates['date'].apply(lambda x: x.month)\n",
    "dfDates.head()"
   ]
  },
  {
   "cell_type": "code",
   "execution_count": 367,
   "id": "2458f0cb-3643-47dd-bae6-3a59ee089978",
   "metadata": {},
   "outputs": [
    {
     "data": {
      "image/png": "[encoded data removed]",
      "text/plain": [
       "<Figure size 1080x576 with 1 Axes>"
      ]
     },
     "metadata": {},
     "output_type": "display_data"
    }
   ],
   "source": [
    "plt.style.use('fivethirtyeight')\n",
    "fig = plt.figure(figsize=(15,8))\n",
    "ax = fig.add_axes([0, 0, 0.8, 0.8])\n",
    "\n",
    "ax.plot(\n",
    "    dfDates[(dfDates.year > 1980)].groupby('year').game.count().index,\n",
    "    dfDates[(dfDates.year > 1980)].groupby('year').game.count(),\n",
    "    linewidth=3\n",
    ")\n",
    "\n",
    "ax.axvline((1996 + 0.83), color='r', linestyle='--', linewidth=3)\n",
    "ax.annotate(\"IGN's foundation\", xy=(1997, 730), fontsize=20)\n",
    "ax.set_title('Total released games by year with a review', pad=10)\n",
    "\n",
    "plt.show()"
   ]
  },
  {
   "cell_type": "code",
   "execution_count": 359,
   "id": "71a3ef94-4bf8-49e7-a884-8891022365f4",
   "metadata": {},
   "outputs": [
    {
     "data": {
      "image/png": "[encoded data removed]",
      "text/plain": [
       "<Figure size 1080x576 with 1 Axes>"
      ]
     },
     "metadata": {},
     "output_type": "display_data"
    }
   ],
   "source": [
    "fig = plt.figure(figsize=(15,8))\n",
    "ax = fig.add_axes([0, 0, 0.8, 0.8])\n",
    "\n",
    "\n",
    "ax.plot(\n",
    "    dfDates[(dfDates.year > 1980)].groupby('year_month').game.count().index,\n",
    "    dfDates[(dfDates.year > 1980)].groupby('year_month').game.count(),\n",
    "    linewidth=3\n",
    ")\n",
    "\n",
    "plt.show()"
   ]
  },
  {
   "cell_type": "code",
   "execution_count": 360,
   "id": "28b17922-7a1f-4e94-89b9-c923d0d85860",
   "metadata": {},
   "outputs": [
    {
     "data": {
      "image/png": "[encoded data removed]",
      "text/plain": [
       "<Figure size 1080x576 with 2 Axes>"
      ]
     },
     "metadata": {},
     "output_type": "display_data"
    }
   ],
   "source": [
    "fig = plt.figure(figsize=(15,8))\n",
    "ax = fig.add_axes([0, 0, 0.8, 0.8])\n",
    "ax2 = fig.add_axes([0.6, 0.05, 0.2, 0.2])\n",
    "\n",
    "\n",
    "\n",
    "ax.plot(\n",
    "    dfDates[(dfDates.year > 2005) & (dfDates.year < 2010)].groupby('year_month').game.count().index,\n",
    "    dfDates[(dfDates.year > 2005) & (dfDates.year < 2010)].groupby('year_month').game.count(),\n",
    "    linewidth=3\n",
    ")\n",
    "ax.set_ylim(bottom=0)\n",
    "\n",
    "blue_left = dfDates[(dfDates.year < 2005) & (dfDates.year > 1980)].groupby('year_month').game.count()\n",
    "blue_right = dfDates[(dfDates.year > 2010)].groupby('year_month').game.count()\n",
    "\n",
    "ax2.plot(\n",
    "    dfDates[(dfDates.year > 1980)].groupby('year_month').game.count().index,\n",
    "    dfDates[(dfDates.year > 1980)].groupby('year_month').game.count(),\n",
    "    linewidth=0.5,\n",
    "    color='#fc4f30'\n",
    ")\n",
    "\n",
    "ax2.plot(\n",
    "    blue_left.index,\n",
    "    blue_left,\n",
    "    linewidth=1,\n",
    "    color='#008fd5'\n",
    ")\n",
    "\n",
    "ax2.plot(\n",
    "    blue_right.index,\n",
    "    blue_right,\n",
    "    linewidth=1,\n",
    "    color='#008fd5'\n",
    ")\n",
    "\n",
    "ax2.axis('off')\n",
    "\n",
    "plt.show()"
   ]
  },
  {
   "cell_type": "code",
   "execution_count": 356,
   "id": "323fc9aa-a382-4ba7-a765-2197b71211e9",
   "metadata": {},
   "outputs": [
    {
     "data": {
      "text/plain": [
       "{11: 9, 10: 8, 12: 7, 9: 3, 3: 3, 1: 1, 5: 1, 8: 1}"
      ]
     },
     "execution_count": 356,
     "metadata": {},
     "output_type": "execute_result"
    }
   ],
   "source": [
    "i = 1990\n",
    "month_set = {}\n",
    "while(i < 2023):\n",
    "    most_releases = dfDates[(dfDates.year == i)].groupby('month').game.count().idxmax()\n",
    "    if most_releases not in month_set:\n",
    "        month_set[most_releases] = 1\n",
    "    else:\n",
    "        month_set[most_releases] += 1\n",
    "    i+=1\n",
    "dict(sorted(month_set.items(), key=lambda item: item[1], reverse=True))"
   ]
  }
 ],
 "metadata": {
  "kernelspec": {
   "display_name": "Python 3 (ipykernel)",
   "language": "python",
   "name": "python3"
  },
  "language_info": {
   "codemirror_mode": {
    "name": "ipython",
    "version": 3
   },
   "file_extension": ".py",
   "mimetype": "text/x-python",
   "name": "python",
   "nbconvert_exporter": "python",
   "pygments_lexer": "ipython3",
   "version": "3.9.7"
  }
 },
 "nbformat": 4,
 "nbformat_minor": 5
}
